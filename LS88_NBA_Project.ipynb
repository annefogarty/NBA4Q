{
 "cells": [
  {
   "cell_type": "markdown",
   "metadata": {},
   "source": [
    "# LS88 Project"
   ]
  },
  {
   "cell_type": "markdown",
   "metadata": {},
   "source": [
    "###   Imports"
   ]
  },
  {
   "cell_type": "code",
   "execution_count": 124,
   "metadata": {},
   "outputs": [],
   "source": [
    "%matplotlib inline\n",
    "import numpy as np\n",
    "import datascience as ds\n",
    "from datascience import Table, make_array, predicates\n",
    "import nba_py as py\n",
    "from nba_py import player\n",
    "import matplotlib.pyplot as plt\n",
    "plt.style.use('fivethirtyeight')\n",
    "import random"
   ]
  },
  {
   "cell_type": "markdown",
   "metadata": {},
   "source": [
    "### Load all the Tables"
   ]
  },
  {
   "cell_type": "code",
   "execution_count": 125,
   "metadata": {},
   "outputs": [
    {
     "name": "stdout",
     "output_type": "stream",
     "text": [
      "All Games\n"
     ]
    },
    {
     "data": {
      "text/html": [
       "<table border=\"1\" class=\"dataframe\">\n",
       "    <thead>\n",
       "        <tr>\n",
       "            <th>GAME_ID</th> <th>EVENTNUM</th> <th>PCTIMESTRING</th> <th>TIME</th> <th>PERIOD</th> <th>HOME_TEAM</th> <th>AWAY_TEAM</th> <th>HOME_SCORE</th> <th>AWAY_SCORE</th> <th>POINTS_SCORED</th> <th>SHOT_MADE</th> <th>SHOT_TYPE</th> <th>SHOT_DIST</th> <th>PLAYER1_ID</th> <th>PLAYER1_NAME</th> <th>PLAYER1_TEAM_NICKNAME</th> <th>ASSIST_PLAYER_ID</th> <th>EVENTMSGTYPE</th> <th>EVENTMSGACTIONTYPE</th> <th>Row Number</th>\n",
       "        </tr>\n",
       "    </thead>\n",
       "    <tbody>\n",
       "        <tr>\n",
       "            <td>21500001</td> <td>0       </td> <td>12:00       </td> <td>0   </td> <td>1     </td> <td>Hawks    </td> <td>Pistons  </td> <td>0         </td> <td>0         </td> <td>0            </td> <td>nan      </td> <td>nan      </td> <td>nan      </td> <td>0         </td> <td>nan           </td> <td>nan                  </td> <td>nan             </td> <td>Start Period</td> <td>nan                              </td> <td>0         </td>\n",
       "        </tr>\n",
       "    </tbody>\n",
       "        <tr>\n",
       "            <td>21500001</td> <td>1       </td> <td>12:00       </td> <td>0   </td> <td>1     </td> <td>Hawks    </td> <td>Pistons  </td> <td>0         </td> <td>0         </td> <td>0            </td> <td>nan      </td> <td>nan      </td> <td>nan      </td> <td>201143    </td> <td>Al Horford    </td> <td>Hawks                </td> <td>nan             </td> <td>Jumpball    </td> <td>nan                              </td> <td>1         </td>\n",
       "        </tr>\n",
       "    </tbody>\n",
       "        <tr>\n",
       "            <td>21500001</td> <td>2       </td> <td>11:41       </td> <td>19  </td> <td>1     </td> <td>Hawks    </td> <td>Pistons  </td> <td>0         </td> <td>0         </td> <td>0            </td> <td>0        </td> <td>Layup    </td> <td>2        </td> <td>203083    </td> <td>Andre Drummond</td> <td>Pistons              </td> <td>nan             </td> <td>Miss        </td> <td>Driving Layup                    </td> <td>2         </td>\n",
       "        </tr>\n",
       "    </tbody>\n",
       "        <tr>\n",
       "            <td>21500001</td> <td>3       </td> <td>11:39       </td> <td>21  </td> <td>1     </td> <td>Hawks    </td> <td>Pistons  </td> <td>0         </td> <td>0         </td> <td>0            </td> <td>nan      </td> <td>nan      </td> <td>nan      </td> <td>203145    </td> <td>Kent Bazemore </td> <td>Hawks                </td> <td>nan             </td> <td>Rebound     </td> <td>Player                           </td> <td>3         </td>\n",
       "        </tr>\n",
       "    </tbody>\n",
       "        <tr>\n",
       "            <td>21500001</td> <td>4       </td> <td>11:37       </td> <td>23  </td> <td>1     </td> <td>Hawks    </td> <td>Pistons  </td> <td>0         </td> <td>0         </td> <td>0            </td> <td>nan      </td> <td>nan      </td> <td>nan      </td> <td>203145    </td> <td>Kent Bazemore </td> <td>Hawks                </td> <td>nan             </td> <td>Turnover    </td> <td>Out of Bounds - Bad Pass Turnover</td> <td>4         </td>\n",
       "        </tr>\n",
       "    </tbody>\n",
       "</table>\n",
       "<p>... (568327 rows omitted)</p>"
      ],
      "text/plain": [
       "<IPython.core.display.HTML object>"
      ]
     },
     "metadata": {},
     "output_type": "display_data"
    },
    {
     "name": "stdout",
     "output_type": "stream",
     "text": [
      "\n",
      "Close Games in 4th Quarter, 6 Mintues Left\n"
     ]
    },
    {
     "data": {
      "text/html": [
       "<table border=\"1\" class=\"dataframe\">\n",
       "    <thead>\n",
       "        <tr>\n",
       "            <th>GAME_ID</th> <th>EVENTNUM</th> <th>PCTIMESTRING</th> <th>TIME</th> <th>PERIOD</th> <th>HOME_TEAM</th> <th>AWAY_TEAM</th> <th>HOME_SCORE</th> <th>AWAY_SCORE</th> <th>POINTS_SCORED</th> <th>SHOT_MADE</th> <th>SHOT_TYPE</th> <th>SHOT_DIST</th> <th>PLAYER1_ID</th> <th>PLAYER1_NAME</th> <th>PLAYER1_TEAM_NICKNAME</th> <th>ASSIST_PLAYER_ID</th> <th>EVENTMSGTYPE</th> <th>EVENTMSGACTIONTYPE</th>\n",
       "        </tr>\n",
       "    </thead>\n",
       "    <tbody>\n",
       "        <tr>\n",
       "            <td>21500002</td> <td>474     </td> <td>6:32        </td> <td>6.53333</td> <td>4     </td> <td>Bulls    </td> <td>Cavaliers</td> <td>80        </td> <td>79        </td> <td>0            </td> <td>nan      </td> <td>nan      </td> <td>nan      </td> <td>2747      </td> <td>J.R. Smith      </td> <td>Cavaliers            </td> <td>nan             </td> <td>Personal Foul</td> <td>P.FOUL            </td>\n",
       "        </tr>\n",
       "    </tbody>\n",
       "        <tr>\n",
       "            <td>21500002</td> <td>476     </td> <td>6:20        </td> <td>6.33333</td> <td>4     </td> <td>Bulls    </td> <td>Cavaliers</td> <td>82        </td> <td>79        </td> <td>2            </td> <td>1        </td> <td>Shot     </td> <td>15       </td> <td>201565    </td> <td>Derrick Rose    </td> <td>Bulls                </td> <td>nan             </td> <td>Make         </td> <td>Pullup Jump Shot  </td>\n",
       "        </tr>\n",
       "    </tbody>\n",
       "        <tr>\n",
       "            <td>21500002</td> <td>479     </td> <td>6:01        </td> <td>6.01667</td> <td>4     </td> <td>Bulls    </td> <td>Cavaliers</td> <td>82        </td> <td>81        </td> <td>2            </td> <td>1        </td> <td>Dunk     </td> <td>nan      </td> <td>202684    </td> <td>Tristan Thompson</td> <td>Cavaliers            </td> <td>2590            </td> <td>Make         </td> <td>Dunk              </td>\n",
       "        </tr>\n",
       "    </tbody>\n",
       "        <tr>\n",
       "            <td>21500002</td> <td>480     </td> <td>5:50        </td> <td>5.83333</td> <td>4     </td> <td>Bulls    </td> <td>Cavaliers</td> <td>82        </td> <td>81        </td> <td>0            </td> <td>0        </td> <td>Layup    </td> <td>2        </td> <td>201565    </td> <td>Derrick Rose    </td> <td>Bulls                </td> <td>nan             </td> <td>Miss         </td> <td>Driving Layup     </td>\n",
       "        </tr>\n",
       "    </tbody>\n",
       "        <tr>\n",
       "            <td>21500002</td> <td>481     </td> <td>5:48        </td> <td>5.8    </td> <td>4     </td> <td>Bulls    </td> <td>Cavaliers</td> <td>82        </td> <td>81        </td> <td>0            </td> <td>nan      </td> <td>nan      </td> <td>nan      </td> <td>201567    </td> <td>Kevin Love      </td> <td>Cavaliers            </td> <td>nan             </td> <td>Rebound      </td> <td>Player            </td>\n",
       "        </tr>\n",
       "    </tbody>\n",
       "</table>\n",
       "<p>... (51532 rows omitted)</p>"
      ],
      "text/plain": [
       "<IPython.core.display.HTML object>"
      ]
     },
     "metadata": {},
     "output_type": "display_data"
    },
    {
     "name": "stdout",
     "output_type": "stream",
     "text": [
      "\n",
      "Row Ranges of Each Game in Close Games\n"
     ]
    },
    {
     "data": {
      "text/html": [
       "<table border=\"1\" class=\"dataframe\">\n",
       "    <thead>\n",
       "        <tr>\n",
       "            <th>HOME_TEAM</th> <th>AWAY_TEAM</th> <th>GAME NUMBER</th> <th>FIRST_INDEX</th> <th>LAST_INDEX</th>\n",
       "        </tr>\n",
       "    </thead>\n",
       "    <tbody>\n",
       "        <tr>\n",
       "            <td>Bulls    </td> <td>Cavaliers</td> <td>1          </td> <td>0          </td> <td>69        </td>\n",
       "        </tr>\n",
       "    </tbody>\n",
       "        <tr>\n",
       "            <td>Magic    </td> <td>Wizards  </td> <td>2          </td> <td>70         </td> <td>149       </td>\n",
       "        </tr>\n",
       "    </tbody>\n",
       "        <tr>\n",
       "            <td>Celtics  </td> <td>76ers    </td> <td>3          </td> <td>150        </td> <td>224       </td>\n",
       "        </tr>\n",
       "    </tbody>\n",
       "        <tr>\n",
       "            <td>Pistons  </td> <td>Jazz     </td> <td>4          </td> <td>225        </td> <td>301       </td>\n",
       "        </tr>\n",
       "    </tbody>\n",
       "        <tr>\n",
       "            <td>Pacers   </td> <td>Raptors  </td> <td>5          </td> <td>302        </td> <td>396       </td>\n",
       "        </tr>\n",
       "    </tbody>\n",
       "</table>\n",
       "<p>... (683 rows omitted)</p>"
      ],
      "text/plain": [
       "<IPython.core.display.HTML object>"
      ]
     },
     "metadata": {},
     "output_type": "display_data"
    },
    {
     "name": "stdout",
     "output_type": "stream",
     "text": [
      "\n",
      "All Players and their Relevant Stats\n"
     ]
    },
    {
     "data": {
      "text/html": [
       "<table border=\"1\" class=\"dataframe\">\n",
       "    <thead>\n",
       "        <tr>\n",
       "            <th>Player_ID</th> <th>Player</th> <th>First_Name</th> <th>Last_Name</th> <th>TS%</th> <th>EFG%</th> <th>PER</th> <th>3PAr</th> <th>G</th> <th>MP</th> <th>Pos</th>\n",
       "        </tr>\n",
       "    </thead>\n",
       "    <tbody>\n",
       "        <tr>\n",
       "            <td>201166   </td> <td>Aaron Brooks  </td> <td>Aaron     </td> <td>Brooks   </td> <td>0.49333 </td> <td>0.470588</td> <td>11.8</td> <td>0.394</td> <td>69  </td> <td>1108</td> <td>PG  </td>\n",
       "        </tr>\n",
       "    </tbody>\n",
       "        <tr>\n",
       "            <td>203932   </td> <td>Aaron Gordon  </td> <td>Aaron     </td> <td>Gordon   </td> <td>0.541176</td> <td>0.506757</td> <td>17  </td> <td>0.245</td> <td>78  </td> <td>1863</td> <td>PF  </td>\n",
       "        </tr>\n",
       "    </tbody>\n",
       "        <tr>\n",
       "            <td>1626151  </td> <td>Aaron Harrison</td> <td>Aaron     </td> <td>Harrison </td> <td>0.386598</td> <td>0.277778</td> <td>4.3 </td> <td>0.526</td> <td>21  </td> <td>93  </td> <td>SG  </td>\n",
       "        </tr>\n",
       "    </tbody>\n",
       "        <tr>\n",
       "            <td>203940   </td> <td>Adreian Payne </td> <td>Adreian   </td> <td>Payne    </td> <td>0.413907</td> <td>0.392857</td> <td>5.6 </td> <td>0.221</td> <td>52  </td> <td>486 </td> <td>PF  </td>\n",
       "        </tr>\n",
       "    </tbody>\n",
       "        <tr>\n",
       "            <td>201143   </td> <td>Al Horford    </td> <td>Al        </td> <td>Horford  </td> <td>0.562796</td> <td>0.550781</td> <td>19.4</td> <td>0.244</td> <td>82  </td> <td>2631</td> <td>C   </td>\n",
       "        </tr>\n",
       "    </tbody>\n",
       "</table>\n",
       "<p>... (497 rows omitted)</p>"
      ],
      "text/plain": [
       "<IPython.core.display.HTML object>"
      ]
     },
     "metadata": {},
     "output_type": "display_data"
    },
    {
     "name": "stdout",
     "output_type": "stream",
     "text": [
      "\n"
     ]
    },
    {
     "data": {
      "text/plain": [
       "{'3PAr': '3 Point Attempt Rate',\n",
       " 'EFG%': 'Effective Field Goal Percentage',\n",
       " 'G': 'Games',\n",
       " 'MP': 'Minutes Played',\n",
       " 'PER': 'ESPN PER Player Rating (A way to rank NBA players)',\n",
       " 'Pos': 'Position',\n",
       " 'TS%': 'True Shooting Percentage'}"
      ]
     },
     "execution_count": 125,
     "metadata": {},
     "output_type": "execute_result"
    }
   ],
   "source": [
    "print(\"All Games\")\n",
    "all_games = Table().read_table('all_games.csv', sep=',')\n",
    "all_games.show(5)\n",
    "print('')\n",
    "\n",
    "print('Close Games in 4th Quarter, 6 Mintues Left')\n",
    "close_games_under_six = Table().read_table('PbP_15_16_trimmed.csv', sep=',')\n",
    "close_games_under_six.show(5)\n",
    "print('')\n",
    "\n",
    "print('Row Ranges of Each Game in Close Games')\n",
    "game_ref = Table().read_table('gamereference.csv', sep=',')\n",
    "game_ref.show(5)\n",
    "print('')\n",
    "\n",
    "print('All Players and their Relevant Stats')\n",
    "player_ref = Table().read_table('player_ref.csv', sep=',')\n",
    "player_ref.show(5)\n",
    "print('')\n",
    "\n",
    "\n",
    "label_meaning = {}\n",
    "label_meaning['TS%'] = 'True Shooting Percentage'\n",
    "label_meaning['EFG%'] = 'Effective Field Goal Percentage'\n",
    "label_meaning['PER'] = 'ESPN PER Player Rating (A way to rank NBA players)'\n",
    "label_meaning['3PAr'] = '3 Point Attempt Rate'\n",
    "label_meaning['G'] = 'Games'\n",
    "label_meaning['MP'] = 'Minutes Played'\n",
    "label_meaning['Pos'] = 'Position'\n",
    "label_meaning"
   ]
  },
  {
   "cell_type": "markdown",
   "metadata": {},
   "source": [
    "# Analysis Begins Here"
   ]
  },
  {
   "cell_type": "code",
   "execution_count": 126,
   "metadata": {},
   "outputs": [],
   "source": [
    "def shots_all_players(table):\n",
    "    #This function finds the number of shots that each player takes in time period\n",
    "    #(it doesn't distinguish the type of shot)\n",
    "    #it can be used for an entire game or for the last 6 minutes\n",
    "    shots = table.where('EVENTMSGTYPE', predicates.are.containing('M'))\n",
    "    players = shots.select('EVENTMSGTYPE', 'PLAYER1_NAME', 'PLAYER1_TEAM_NICKNAME', 'HOME_TEAM', 'AWAY_TEAM')\n",
    "    count = players.groups(['PLAYER1_NAME', \"PLAYER1_TEAM_NICKNAME\"])\n",
    "    return count\n",
    "\n",
    "def seperate_teams(table):\n",
    "    #This function creates two tables from the last_six_minutes_table for each team\n",
    "    return table.group(\"PLAYER1_TEAM_NICKNAME\").column(0)\n",
    "\n",
    "def max_shot_player_each_team_name(table):\n",
    "    #This takes in a table of one game (entire game or last 6 minutes)\n",
    "    #It returns the player who shoots the most for each team\n",
    "    team_names = seperate_teams(table)\n",
    "    player_team_one = table.where(\"PLAYER1_TEAM_NICKNAME\", team_names.item(0)).sort('count', descending=True).column('PLAYER1_NAME').item(0)\n",
    "    player_team_two = table.where(\"PLAYER1_TEAM_NICKNAME\", team_names.item(1)).sort('count', descending=True).column('PLAYER1_NAME').item(0)\n",
    "    return (player_team_one, player_team_two)\n",
    "\n",
    "def max_shots(table):\n",
    "    #This takes in a table of one game (entire game or last 6 minutes)\n",
    "    #It returns the player who shoots the most for each team\n",
    "    team_names = seperate_teams(table)\n",
    "    shots_player_one = table.where(\"PLAYER1_TEAM_NICKNAME\", team_names.item(0)).sort('count', descending=True).column('count').item(0)\n",
    "    shots_player_two = table.where(\"PLAYER1_TEAM_NICKNAME\", team_names.item(1)).sort('count', descending=True).column('count').item(0)\n",
    "    return (shots_player_one, shots_player_two)\n",
    "\n",
    "def total_shot_number(table):\n",
    "    #returns the number of shots for each team in the last 6 minutes\n",
    "    team_names = seperate_teams(table)\n",
    "    total_shots1 = sum(table.where(\"PLAYER1_TEAM_NICKNAME\", team_names.item(0)).column(\"count\"))\n",
    "    total_shots2 = sum(table.where(\"PLAYER1_TEAM_NICKNAME\", team_names.item(1)).column(\"count\"))\n",
    "    return (total_shots1, total_shots2)\n",
    "\n",
    "def average_player_each_team(table):\n",
    "    #returns the number of shots of the average player\n",
    "    average_shots1 = np.average(table.where(\"PLAYER1_TEAM_NICKNAME\", team_names.item(0)).column(\"count\"))\n",
    "    average_shots2 = np.average(table.where(\"PLAYER1_TEAM_NICKNAME\", team_names.item(1)).column(\"count\"))\n",
    "    return (total_shots1, total_shots2)\n",
    "\n"
   ]
  },
  {
   "cell_type": "code",
   "execution_count": 127,
   "metadata": {},
   "outputs": [
    {
     "data": {
      "text/plain": [
       "(98, 140)"
      ]
     },
     "execution_count": 127,
     "metadata": {},
     "output_type": "execute_result"
    }
   ],
   "source": [
    "max_shots(shots_all_players(close_games_under_six))"
   ]
  },
  {
   "cell_type": "code",
   "execution_count": 128,
   "metadata": {
    "scrolled": true
   },
   "outputs": [
    {
     "data": {
      "text/html": [
       "<table border=\"1\" class=\"dataframe\">\n",
       "    <thead>\n",
       "        <tr>\n",
       "            <th>PLAYER1_NAME</th> <th>PLAYER1_TEAM_NICKNAME</th> <th>count</th>\n",
       "        </tr>\n",
       "    </thead>\n",
       "    <tbody>\n",
       "        <tr>\n",
       "            <td>Aaron Brooks   </td> <td>Bulls                </td> <td>34   </td>\n",
       "        </tr>\n",
       "    </tbody>\n",
       "        <tr>\n",
       "            <td>Aaron Gordon   </td> <td>Magic                </td> <td>35   </td>\n",
       "        </tr>\n",
       "    </tbody>\n",
       "        <tr>\n",
       "            <td>Aaron Harrison </td> <td>Hornets              </td> <td>1    </td>\n",
       "        </tr>\n",
       "    </tbody>\n",
       "        <tr>\n",
       "            <td>Adreian Payne  </td> <td>Timberwolves         </td> <td>1    </td>\n",
       "        </tr>\n",
       "    </tbody>\n",
       "        <tr>\n",
       "            <td>Al Horford     </td> <td>Hawks                </td> <td>95   </td>\n",
       "        </tr>\n",
       "    </tbody>\n",
       "        <tr>\n",
       "            <td>Al Jefferson   </td> <td>Hornets              </td> <td>25   </td>\n",
       "        </tr>\n",
       "    </tbody>\n",
       "        <tr>\n",
       "            <td>Al-Farouq Aminu</td> <td>Trail Blazers        </td> <td>58   </td>\n",
       "        </tr>\n",
       "    </tbody>\n",
       "        <tr>\n",
       "            <td>Alan Anderson  </td> <td>Wizards              </td> <td>4    </td>\n",
       "        </tr>\n",
       "    </tbody>\n",
       "        <tr>\n",
       "            <td>Alec Burks     </td> <td>Jazz                 </td> <td>50   </td>\n",
       "        </tr>\n",
       "    </tbody>\n",
       "        <tr>\n",
       "            <td>Alex Len       </td> <td>Suns                 </td> <td>30   </td>\n",
       "        </tr>\n",
       "    </tbody>\n",
       "</table>\n",
       "<p>... (453 rows omitted)</p>"
      ],
      "text/plain": [
       "PLAYER1_NAME    | PLAYER1_TEAM_NICKNAME | count\n",
       "Aaron Brooks    | Bulls                 | 34\n",
       "Aaron Gordon    | Magic                 | 35\n",
       "Aaron Harrison  | Hornets               | 1\n",
       "Adreian Payne   | Timberwolves          | 1\n",
       "Al Horford      | Hawks                 | 95\n",
       "Al Jefferson    | Hornets               | 25\n",
       "Al-Farouq Aminu | Trail Blazers         | 58\n",
       "Alan Anderson   | Wizards               | 4\n",
       "Alec Burks      | Jazz                  | 50\n",
       "Alex Len        | Suns                  | 30\n",
       "... (453 rows omitted)"
      ]
     },
     "execution_count": 128,
     "metadata": {},
     "output_type": "execute_result"
    }
   ],
   "source": [
    "shots_all_players(close_games_under_six)"
   ]
  },
  {
   "cell_type": "code",
   "execution_count": 129,
   "metadata": {},
   "outputs": [],
   "source": [
    "close_game_ids = close_games_under_six.group('GAME_ID').column(0)"
   ]
  },
  {
   "cell_type": "code",
   "execution_count": 130,
   "metadata": {},
   "outputs": [
    {
     "data": {
      "text/plain": [
       "689"
      ]
     },
     "execution_count": 130,
     "metadata": {},
     "output_type": "execute_result"
    }
   ],
   "source": [
    "len(close_game_ids)"
   ]
  },
  {
   "cell_type": "code",
   "execution_count": 131,
   "metadata": {},
   "outputs": [
    {
     "ename": "NameError",
     "evalue": "name 'max_shot_player_each_team' is not defined",
     "output_type": "error",
     "traceback": [
      "\u001b[0;31m---------------------------------------------------------------------------\u001b[0m",
      "\u001b[0;31mNameError\u001b[0m                                 Traceback (most recent call last)",
      "\u001b[0;32m<ipython-input-131-754b61dfba4a>\u001b[0m in \u001b[0;36m<module>\u001b[0;34m()\u001b[0m\n\u001b[1;32m      2\u001b[0m     \u001b[0mgame\u001b[0m \u001b[0;34m=\u001b[0m \u001b[0mclose_games_under_six\u001b[0m\u001b[0;34m.\u001b[0m\u001b[0mwhere\u001b[0m\u001b[0;34m(\u001b[0m\u001b[0;34m\"GAME_ID\"\u001b[0m\u001b[0;34m,\u001b[0m \u001b[0mi\u001b[0m\u001b[0;34m)\u001b[0m\u001b[0;34m\u001b[0m\u001b[0m\n\u001b[1;32m      3\u001b[0m     \u001b[0mshots\u001b[0m \u001b[0;34m=\u001b[0m \u001b[0mshots_all_players\u001b[0m\u001b[0;34m(\u001b[0m\u001b[0mgame\u001b[0m\u001b[0;34m)\u001b[0m\u001b[0;34m\u001b[0m\u001b[0m\n\u001b[0;32m----> 4\u001b[0;31m     \u001b[0mmax_players\u001b[0m \u001b[0;34m=\u001b[0m \u001b[0mmax_shot_player_each_team\u001b[0m\u001b[0;34m(\u001b[0m\u001b[0mshots\u001b[0m\u001b[0;34m)\u001b[0m\u001b[0;34m\u001b[0m\u001b[0m\n\u001b[0m\u001b[1;32m      5\u001b[0m \u001b[0;34m\u001b[0m\u001b[0m\n\u001b[1;32m      6\u001b[0m     \u001b[0mmax_proportions\u001b[0m \u001b[0;34m=\u001b[0m \u001b[0mmax_players\u001b[0m\u001b[0;34m\u001b[0m\u001b[0m\n",
      "\u001b[0;31mNameError\u001b[0m: name 'max_shot_player_each_team' is not defined"
     ]
    }
   ],
   "source": [
    "for i in close_game_ids:\n",
    "    game = close_games_under_six.where(\"GAME_ID\", i)\n",
    "    shots = shots_all_players(game)\n",
    "    max_players = max_shot_player_each_team(shots)\n",
    "    \n",
    "    max_proportions = max_players"
   ]
  },
  {
   "cell_type": "markdown",
   "metadata": {
    "collapsed": true
   },
   "source": [
    "# QUESTION 2"
   ]
  },
  {
   "cell_type": "code",
   "execution_count": null,
   "metadata": {},
   "outputs": [],
   "source": [
    "def shot_type(table):\n",
    "# takes in a table and returns counts of how many shots were assisted/not assisted\n",
    "    table = table.with_column('ASSIST_PLAYER_ID', table.apply(lambda x: str(x), 'ASSIST_PLAYER_ID'))\n",
    "    a = table.where('ASSIST_PLAYER_ID', predicates.are.not_equal_to('nan'))\n",
    "    a = a.with_column('ASSIST_PLAYER_ID', a.apply(lambda x: x.replace('.0', ''), 'ASSIST_PLAYER_ID'))\n",
    "    ua = table.where('ASSIST_PLAYER_ID', predicates.are.equal_to('nan')).where('SHOT_TYPE', 'Shot').where('EVENTMSGTYPE', 'Make')\n",
    "    a_count = a.num_rows\n",
    "    ua_count = ua.num_rows\n",
    "    return [a_count, ua_count]\n",
    "\n",
    "def prort(a, ua):\n",
    "    try:\n",
    "        p = ua /(a + ua)\n",
    "    except ZeroDivisionError:\n",
    "        p = 0 \n",
    "    return p\n",
    "\n",
    "def distance(p1, p2):\n",
    "    return abs(p1 - p2)\n",
    "\n",
    "def game_by_game(games, game_indicies):\n",
    "    #takes in the games table and the game indicies table, isolates all games 1 by 1, \n",
    "    #and calcs the test statistic.\n",
    "    shots = make_array()\n",
    "    for i in np.arange(game_indicies.num_rows):\n",
    "        rowi = game_indicies.row(i)\n",
    "        i1 = int(rowi.item(3))\n",
    "        i2 = int(rowi.item(4))\n",
    "        gamei = games.take(np.arange(i1, i2))\n",
    "        a_and_u = shot_type(gamei)\n",
    "        a = a_and_u[0]\n",
    "        au = a_and_u[1]\n",
    "        p = prort(a, au)\n",
    "        shots = np.append(p[1], shots)\n",
    "    return shots\n",
    "                      "
   ]
  },
  {
   "cell_type": "code",
   "execution_count": null,
   "metadata": {},
   "outputs": [],
   "source": [
    "shot_type(close_games_under_six)\n",
    "x = game_by_game(close_games_under_six, game_ref)\n",
    "# FIX THIS\n",
    "y = game_by_game(all_games, game_ref)\n",
    "t = Table().with_columns('Close Games', x, 'All Games', y)\n",
    "t.hist()"
   ]
  },
  {
   "cell_type": "code",
   "execution_count": null,
   "metadata": {},
   "outputs": [],
   "source": [
    "#Helper...\n",
    "def test(floatz1):\n",
    "    x = str(floatz1)\n",
    "    y = x.split('.')\n",
    "    if(y[1] == '0'):\n",
    "        time = str(floatz1).replace('.', ':') + '0'\n",
    "    else:\n",
    "        time = str(floatz1).replace('.', ':')\n",
    "    print('test returns: ' + time)\n",
    "    return time\n",
    "\n",
    "\n",
    "#Helper...\n",
    "def six_minute_period(timestamp):\n",
    "    floatz = float(timestamp.replace(':', '.'))\n",
    "    if floatz > 6:\n",
    "        endpoint1 = \"{0:.2f}\".format(floatz - 6) \n",
    "    else:\n",
    "        endpoint1 = \"{0:.2f}\".format(floatz + 6) \n",
    "    return test(endpoint1)\n",
    "\n",
    "\n",
    "#Helper...\n",
    "def out_back_steakhouse_minus(timestamp):\n",
    "    split = timestamp.split(':')\n",
    "    if split[1] == '00':\n",
    "        part_minus = str(int(split[0]) - 1) + ':' + '59'\n",
    "    else:\n",
    "        split = timestamp.split(':')\n",
    "        if int(split[1]) < 11:\n",
    "            part_minus = split[0] + ':' + '0' + str(int(split[1]) - 1) \n",
    "        else:\n",
    "            part_minus = split[0] + ':' + str(int(split[1]) - 1)    \n",
    "    print ('Outback Steakhouse Minus returns: ' + part_minus)\n",
    "    return part_minus\n",
    "\n",
    "#Helper...\n",
    "def out_back_steakhouse_plus(timestamp):\n",
    "    split = timestamp.split(':')\n",
    "    if split[1] == '59':\n",
    "        part_plus = str(int(split[0]) + 1) + ':' + '00'\n",
    "    elif split[1] == '00':\n",
    "        part_plus = split[0] + ':' + '01'\n",
    "    else:\n",
    "        split = timestamp.split(':')\n",
    "        if int(split[1]) < 10:\n",
    "            part_plus = split[0] + ':' + '0' + str(int(split[1]) + 1) \n",
    "        else:\n",
    "            part_plus = split[0] + ':' + str(int(split[1]) + 1) \n",
    "    print ('Outback Steakhouse Plus returns: ' + part_plus)\n",
    "    return part_plus\n",
    "\n",
    "#Helper...\n",
    "def check_validity(time):\n",
    "    if float(time.replace(':', '.')) < 0:\n",
    "        return False\n",
    "    if float(time.replace(':', '.')) > 12:\n",
    "        return False\n",
    "    return True\n",
    "\n",
    "#Helper...\n",
    "def find_valid_row_more(time, dist, table):\n",
    "    if not check_validity(time):\n",
    "        print(\"OOPS can't go any more\")\n",
    "        return null\n",
    "    print(time)\n",
    "    if table.where('PCTIMESTRING', time).num_rows > 0:\n",
    "        return [time, dist]\n",
    "    return find_valid_row_more(out_back_steakhouse_plus(time), dist + 1, table)\n",
    "        \n",
    "#Helper...\n",
    "def find_valid_row_less(time, dist, table):\n",
    "    if not check_validity(time):\n",
    "        print(\"OOPS can't go any less\")\n",
    "        return null\n",
    "    if table.where('PCTIMESTRING', time).num_rows > 0:\n",
    "        return [time, dist]\n",
    "    return find_valid_row_less(out_back_steakhouse_minus(time), dist + 1, table)\n",
    "    \n",
    "        \n",
    "#YES FINALLY WHAT I WANTED LMAO\n",
    "def find_closest_endpoint(table, timestamp):\n",
    "    endpoint = six_minute_period(timestamp)\n",
    "    less = find_valid_row_less(endpoint, 0, table)\n",
    "    more = find_valid_row_more(endpoint, 0, table)\n",
    "    if (less[1] < more[1]):\n",
    "        return less[0]\n",
    "    return more[0]\n",
    "        \n",
    "# print(six_minute_period('4:00'))\n",
    "# print(out_back_steakhouse_plus('6:01'))\n",
    "# print(out_back_steakhouse_minus('6:01'))\n",
    "# print(out_back_steakhouse_plus('3:30'))\n",
    "# print(out_back_steakhouse_minus('3:30'))\n",
    "# print(out_back_steakhouse_plus('3:59'))\n",
    "# print(out_back_steakhouse_('2:30'))\n",
    "# print(check_validity(out_back_steakhouse_minus('0:01')))\n",
    "# print(out_back_steakhouse_minus('10:10'))\n",
    "# print(six_minute_period('10:30'))\n",
    "# print(find_valid_row_more('5:22', 0))"
   ]
  },
  {
   "cell_type": "code",
   "execution_count": null,
   "metadata": {
    "scrolled": true
   },
   "outputs": [],
   "source": [
    "# def calc_test_statistic(table):\n",
    "#     a_and_u = shot_type(table)\n",
    "#     a = a_and_u[0]\n",
    "#     au = a_and_u[1]\n",
    "#     p = prort(a, au)\n",
    "#     return p\n",
    "    \n",
    "# def calculate(anyz, last_six, gr_all, gr_last):\n",
    "    \n",
    "#     anyone = make_array()\n",
    "#     lastones = make_array()\n",
    "    \n",
    "#     for i in np.arange(gr_last.num_rows):\n",
    "#         print('Iteration Count is: ' + str(i))\n",
    "        \n",
    "#         # get a random game from all games.\n",
    "#         rowi = random.randint(0, gr_all.num_rows - 1)\n",
    "#         rand_game_id = gr_all.row(rowi).item('GAME_ID')\n",
    "#         game = anyz.where('GAME_ID', rand_game_id)\n",
    "#         print('ID of random game is: ' + str(rand_game_id))\n",
    "        \n",
    "#         # get a randoom quarter from that game\n",
    "#         quarter = random.randint(1, 4)\n",
    "#         game = game.where('PERIOD', quarter)\n",
    "#         print('Quarter Number Is: ' + str(quarter))\n",
    "        \n",
    "#         # Get a random start timestamp\n",
    "#         row_game = game.row(random.randint(0, game.num_rows - 1))\n",
    "#         row_number_start = row_game.item(game.num_columns - 1)\n",
    "#         time_start = row_game.item('PCTIMESTRING')\n",
    "#         print('Chosen Start Time Is: ' + time_start)\n",
    "#         print('')\n",
    "        \n",
    "#         # find the 6 minute endpoint timestamp.\n",
    "#         print('Time to calcualte endpoint.')\n",
    "#         time_endpoint = find_closest_endpoint(game, time_start)\n",
    "#         print('Chosen endpoint is: ' + time_endpoint)\n",
    "        \n",
    "#         # take just that (approx) 6 minute interval of the table\n",
    "#         row_number_end = game.where('PCTIMESTRING', time_endpoint).row(0).item(anyz.num_columns - 1)\n",
    "#         print('Row number start is:' + str(row_number_start))\n",
    "#         print('Row number end is:' + str(row_number_end))\n",
    "#         six_min_slice = anyz.take(np.arange(row_number_start, row_number_end + 1))\n",
    "        \n",
    "#         # calculate the test statistic\n",
    "#         print('')\n",
    "#         print('Time to calcualte test statistic for random game.')\n",
    "#         kappa = calc_test_statistic(six_min_slice)\n",
    "#         anyone = np.append(kappa, anyone)\n",
    "#         print('Test statistic is: ' + str(kappa))\n",
    "\n",
    "#         # get a random 6 minute period from all close games.\n",
    "#         print('')\n",
    "#         print('Time to calcualte test for random last 6.')\n",
    "#         row1 = random.randint(0, gr_last.num_rows - 1)\n",
    "#         first1 = int(gr_last.row(row1).item('FIRST_INDEX'))\n",
    "#         last1 = int(gr_last.row(row1).item('LAST_INDEX'))\n",
    "#         game1 = last_six.take(np.arange(first1, last1))\n",
    "        \n",
    "#         # calcualte the test statistic \n",
    "#         last = calc_test_statistic(game1)\n",
    "#         print('Test statistic is last 6: ' + str(last))\n",
    "#         lastones = np.append(last, lastones)\n",
    "    \n",
    "#     both = Table().with_columns('Last 6', lastones, 'Any 6', anyone)\n",
    "#     return both\n"
   ]
  },
  {
   "cell_type": "code",
   "execution_count": null,
   "metadata": {
    "scrolled": true
   },
   "outputs": [],
   "source": [
    "# table_x = calculate(all_games, close_games_under_six, all_games.group('GAME_ID'), game_ref)\n",
    "# table_x.to_csv('question_2.csv')"
   ]
  },
  {
   "cell_type": "code",
   "execution_count": 133,
   "metadata": {},
   "outputs": [
    {
     "data": {
      "image/png": "[encoded data removed]",
      "text/plain": [
       "<matplotlib.figure.Figure at 0x1a15693e10>"
      ]
     },
     "metadata": {},
     "output_type": "display_data"
    }
   ],
   "source": [
    "table_x = Table().read_table('question_2.csv', sep=',')\n",
    "table_x.hist(bins = np.arange(0, 1, 0.1))"
   ]
  },
  {
   "cell_type": "code",
   "execution_count": 134,
   "metadata": {},
   "outputs": [
    {
     "data": {
      "image/png": "[encoded data removed]",
      "text/plain": [
       "<matplotlib.figure.Figure at 0x1a15689160>"
      ]
     },
     "metadata": {},
     "output_type": "display_data"
    }
   ],
   "source": [
    "assisted1 = 1 - table_x.column(0)\n",
    "assisted2 = 1 - table_x.column(1)\n",
    "assited_table = Table().with_columns('Last 6', assisted1, 'Any 6', assisted2)\n",
    "assited_table.hist()"
   ]
  },
  {
   "cell_type": "code",
   "execution_count": null,
   "metadata": {},
   "outputs": [],
   "source": []
  }
 ],
 "metadata": {
  "kernelspec": {
   "display_name": "Python 3",
   "language": "python",
   "name": "python3"
  },
  "language_info": {
   "codemirror_mode": {
    "name": "ipython",
    "version": 3
   },
   "file_extension": ".py",
   "mimetype": "text/x-python",
   "name": "python",
   "nbconvert_exporter": "python",
   "pygments_lexer": "ipython3",
   "version": "3.6.4"
  }
 },
 "nbformat": 4,
 "nbformat_minor": 2
}
