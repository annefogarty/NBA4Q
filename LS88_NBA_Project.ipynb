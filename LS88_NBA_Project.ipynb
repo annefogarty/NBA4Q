{
 "cells": [
  {
   "cell_type": "markdown",
   "metadata": {},
   "source": [
    "# LS88 Project"
   ]
  },
  {
   "cell_type": "markdown",
   "metadata": {},
   "source": [
    "####    Calculates a Player's EFG, TS%"
   ]
  },
  {
   "cell_type": "code",
   "execution_count": null,
   "metadata": {},
   "outputs": [],
   "source": [
    "import numpy as np\n",
    "import datascience as ds\n",
    "import nba_py as py\n",
    "from nba_py import player"
   ]
  },
  {
   "cell_type": "code",
   "execution_count": null,
   "metadata": {},
   "outputs": [],
   "source": [
    "def calc_efg(FGM, THREEPTM, FGA):\n",
    "    return (FGM + (0.5 * THREEPTM)) / FGA\n",
    "\n",
    "def calc_ts(FTA, PTS, FGA):\n",
    "    return PTS / ((2 * FGA) + (0.88 * FTA))\n",
    "\n",
    "def convert_season_to_index(season):\n",
    "    end = season[5:]\n",
    "    int_year = int(end)\n",
    "    return 18 - int_year\n",
    "\n",
    "def get_season_stats(first, last, season):\n",
    "    \n",
    "    player_id = py.player.get_player(first, last_name=last)\n",
    "    player_general_splits = py.player.PlayerGeneralSplits(player_id)\n",
    "\n",
    "\n",
    "    player_yearoveryear_splits = py.player.PlayerYearOverYearSplits(player_id, season)\n",
    "\n",
    "    print(type(player_yearoveryear_splits))\n",
    "\n",
    "    YES = player_yearoveryear_splits.by_year()\n",
    "\n",
    "    index = convert_season_to_index(season)\n",
    "\n",
    "    FGA = YES.get_value(index, 'FGA')\n",
    "    FG3M = YES.get_value(index, 'FG3M')\n",
    "    FGM = YES.get_value(index, 'FGM')\n",
    "\n",
    "    EFG = calc_efg(FGM, FG3M, FGA)\n",
    "\n",
    "    FTA = YES.get_value(index, 'FTA')\n",
    "    PTS = YES.get_value(index, 'PTS')\n",
    "    \n",
    "    TS = calc_ts(FTA, PTS, FGA)\n",
    "\n",
    "    print([TS, EFG])\n",
    "\n",
    "    return [TS, EFG]\n"
   ]
  },
  {
   "cell_type": "code",
   "execution_count": null,
   "metadata": {},
   "outputs": [],
   "source": []
  }
 ],
 "metadata": {
  "kernelspec": {
   "display_name": "Python 3",
   "language": "python",
   "name": "python3"
  },
  "language_info": {
   "codemirror_mode": {
    "name": "ipython",
    "version": 3
   },
   "file_extension": ".py",
   "mimetype": "text/x-python",
   "name": "python",
   "nbconvert_exporter": "python",
   "pygments_lexer": "ipython3",
   "version": "3.6.1"
  }
 },
 "nbformat": 4,
 "nbformat_minor": 2
}
