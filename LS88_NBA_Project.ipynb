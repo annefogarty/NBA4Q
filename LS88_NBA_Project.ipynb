{
 "cells": [
  {
   "cell_type": "markdown",
   "metadata": {},
   "source": [
    "# LS88 Project"
   ]
  },
  {
   "cell_type": "markdown",
   "metadata": {},
   "source": [
    "###   Imports"
   ]
  },
  {
   "cell_type": "code",
   "execution_count": 2,
   "metadata": {},
   "outputs": [],
   "source": [
    "%matplotlib inline\n",
    "import numpy as np\n",
    "import datascience as ds\n",
    "from datascience import Table, make_array, predicates\n",
    "import nba_py as py\n",
    "from nba_py import player\n",
    "import matplotlib.pyplot as plt\n",
    "plt.style.use('fivethirtyeight')"
   ]
  },
  {
   "cell_type": "markdown",
   "metadata": {},
   "source": [
    "### Load the Main Table"
   ]
  },
  {
   "cell_type": "code",
   "execution_count": 2,
   "metadata": {},
   "outputs": [
    {
     "data": {
      "text/html": [
       "<table border=\"1\" class=\"dataframe\">\n",
       "    <thead>\n",
       "        <tr>\n",
       "            <th>GAME_ID</th> <th>EVENTNUM</th> <th>PCTIMESTRING</th> <th>TIME</th> <th>PERIOD</th> <th>HOME_TEAM</th> <th>AWAY_TEAM</th> <th>HOME_SCORE</th> <th>AWAY_SCORE</th> <th>POINTS_SCORED</th> <th>SHOT_MADE</th> <th>SHOT_TYPE</th> <th>SHOT_DIST</th> <th>PLAYER1_ID</th> <th>PLAYER1_NAME</th> <th>PLAYER1_TEAM_NICKNAME</th> <th>ASSIST_PLAYER_ID</th> <th>EVENTMSGTYPE</th> <th>EVENTMSGACTIONTYPE</th>\n",
       "        </tr>\n",
       "    </thead>\n",
       "    <tbody>\n",
       "        <tr>\n",
       "            <td>21500001</td> <td>0       </td> <td>12:00       </td> <td>0   </td> <td>1     </td> <td>Hawks    </td> <td>Pistons  </td> <td>0         </td> <td>0         </td> <td>0            </td> <td>nan      </td> <td>nan      </td> <td>nan      </td> <td>0         </td> <td>nan           </td> <td>nan                  </td> <td>nan             </td> <td>Start Period</td> <td>nan                              </td>\n",
       "        </tr>\n",
       "    </tbody>\n",
       "        <tr>\n",
       "            <td>21500001</td> <td>1       </td> <td>12:00       </td> <td>0   </td> <td>1     </td> <td>Hawks    </td> <td>Pistons  </td> <td>0         </td> <td>0         </td> <td>0            </td> <td>nan      </td> <td>nan      </td> <td>nan      </td> <td>201143    </td> <td>Al Horford    </td> <td>Hawks                </td> <td>nan             </td> <td>Jumpball    </td> <td>nan                              </td>\n",
       "        </tr>\n",
       "    </tbody>\n",
       "        <tr>\n",
       "            <td>21500001</td> <td>2       </td> <td>11:41       </td> <td>19  </td> <td>1     </td> <td>Hawks    </td> <td>Pistons  </td> <td>0         </td> <td>0         </td> <td>0            </td> <td>0        </td> <td>Layup    </td> <td>2        </td> <td>203083    </td> <td>Andre Drummond</td> <td>Pistons              </td> <td>nan             </td> <td>Miss        </td> <td>Driving Layup                    </td>\n",
       "        </tr>\n",
       "    </tbody>\n",
       "        <tr>\n",
       "            <td>21500001</td> <td>3       </td> <td>11:39       </td> <td>21  </td> <td>1     </td> <td>Hawks    </td> <td>Pistons  </td> <td>0         </td> <td>0         </td> <td>0            </td> <td>nan      </td> <td>nan      </td> <td>nan      </td> <td>203145    </td> <td>Kent Bazemore </td> <td>Hawks                </td> <td>nan             </td> <td>Rebound     </td> <td>Player                           </td>\n",
       "        </tr>\n",
       "    </tbody>\n",
       "        <tr>\n",
       "            <td>21500001</td> <td>4       </td> <td>11:37       </td> <td>23  </td> <td>1     </td> <td>Hawks    </td> <td>Pistons  </td> <td>0         </td> <td>0         </td> <td>0            </td> <td>nan      </td> <td>nan      </td> <td>nan      </td> <td>203145    </td> <td>Kent Bazemore </td> <td>Hawks                </td> <td>nan             </td> <td>Turnover    </td> <td>Out of Bounds - Bad Pass Turnover</td>\n",
       "        </tr>\n",
       "    </tbody>\n",
       "</table>\n",
       "<p>... (568327 rows omitted)</p>"
      ],
      "text/plain": [
       "<IPython.core.display.HTML object>"
      ]
     },
     "metadata": {},
     "output_type": "display_data"
    }
   ],
   "source": [
    "main = Table().read_table('PbP_15_16_reduced.csv', sep=',')\n",
    "main.show(5)"
   ]
  },
  {
   "cell_type": "markdown",
   "metadata": {},
   "source": [
    "### Helper Functions"
   ]
  },
  {
   "cell_type": "code",
   "execution_count": 3,
   "metadata": {},
   "outputs": [],
   "source": [
    "def calc_efg(FGM, THREEPTM, FGA):\n",
    "    try:\n",
    "        (FGM + (0.5 * THREEPTM)) / FGA\n",
    "    except:\n",
    "        return 0\n",
    "    \n",
    "    return (FGM + (0.5 * THREEPTM)) / FGA\n",
    "\n",
    "def calc_ts(FTA, PTS, FGA):\n",
    "    try:\n",
    "        PTS / ((2 * FGA) + (0.88 * FTA))\n",
    "    except:\n",
    "        return 0\n",
    "    \n",
    "    return PTS / ((2 * FGA) + (0.88 * FTA))\n",
    "\n",
    "def convert_season_to_index(season):\n",
    "    end = season[5:]\n",
    "    int_year = int(end)\n",
    "    return 18 - int_year\n",
    "\n",
    "def time_string_to_number(time_string):\n",
    "    index = len(time_string)-3\n",
    "    minute = int(time_string[:index:])\n",
    "    seconds = int(time_string[index::].replace(':', '')) / 60\n",
    "    return minute + seconds"
   ]
  },
  {
   "cell_type": "markdown",
   "metadata": {},
   "source": [
    "### Get Any Player's TS and ES"
   ]
  },
  {
   "cell_type": "code",
   "execution_count": 14,
   "metadata": {},
   "outputs": [],
   "source": [
    "def get_season_stats(first, last):\n",
    "    first = first.replace('.', '')    \n",
    "    \n",
    "    print(first)\n",
    "    print(last)\n",
    "    \n",
    "    try:\n",
    "        player_id = py.player.get_player(first, last_name=last)\n",
    "    except:\n",
    "        return [0, 0]\n",
    "          \n",
    "    player_general_splits = py.player.PlayerGeneralSplits(player_id)\n",
    "\n",
    "    player_yearoveryear_splits = py.player.PlayerYearOverYearSplits(player_id, '2015-16')\n",
    "    \n",
    "\n",
    "\n",
    "    q = ds.Table.from_df(player_yearoveryear_splits.by_year())\n",
    "    \n",
    "\n",
    "    q = q.where('GROUP_VALUE', '2015-16')\n",
    "    \n",
    "    if q.num_rows < 1:\n",
    "        return [0, 0]\n",
    "\n",
    "    FGA = q.column('FGA').item(0)\n",
    "    FG3M = q.column('FG3M').item(0)\n",
    "    FGM = q.column('FGM').item(0)\n",
    "\n",
    "    EFG = calc_efg(FGM, FG3M, FGA)\n",
    "    \n",
    "    FTA = q.column('FTA').item(0)\n",
    "    PTS = q.column('PTS').item(0)\n",
    "    \n",
    "    TS = calc_ts(FTA, PTS, FGA)\n",
    "    \n",
    "    print([TS, EFG])\n",
    "\n",
    "    return [TS, EFG]\n"
   ]
  },
  {
   "cell_type": "code",
   "execution_count": 15,
   "metadata": {},
   "outputs": [
    {
     "name": "stdout",
     "output_type": "stream",
     "text": [
      "Craig\n",
      "Ehlo\n"
     ]
    },
    {
     "data": {
      "text/plain": [
       "[0, 0]"
      ]
     },
     "execution_count": 15,
     "metadata": {},
     "output_type": "execute_result"
    }
   ],
   "source": [
    "get_season_stats('Craig', 'Ehlo')"
   ]
  },
  {
   "cell_type": "markdown",
   "metadata": {},
   "source": [
    "### Creates a Table of Close Games Only"
   ]
  },
  {
   "cell_type": "code",
   "execution_count": 5,
   "metadata": {},
   "outputs": [],
   "source": [
    "# Takes in a csv filepath of one of the EightThirtyFour data sets\n",
    "# and filters the data to games with a 10 or less point lead in \n",
    "# the last 6 minutes of the game.\n",
    "def game_filter(csv_file): \n",
    "    \n",
    "    \n",
    "    pbp = Table().read_table(csv_file)\n",
    "        \n",
    "    last_quarter = pbp.where('PERIOD', predicates.are.equal_to(4))\n",
    "    transformed_minutes = last_quarter.apply(time_string_to_number, 'PCTIMESTRING')\n",
    "    last_quarter_and_minutes = last_quarter.with_column('TIME', transformed_minutes)\n",
    "    \n",
    "    find_close_scores = last_quarter_and_minutes.where('TIME', predicates.are.between(6, 6.5))  \n",
    "\n",
    "    close_games_ids = make_array()   \n",
    "    last_id = 0\n",
    "    \n",
    "    for i in np.arange(find_close_scores.num_rows):      \n",
    "        row = find_close_scores.row(i)    \n",
    "        current_id = int(row[0])\n",
    "        if current_id != last_id:\n",
    "            diff = abs(int(row[7]) - int(row[8]))\n",
    "            if diff <= 10:\n",
    "                close_games_ids = np.append(current_id, close_games_ids)\n",
    "        last_id = current_id\n",
    "        \n",
    "        \n",
    "    close_games_table = Table().with_column('Close Games', close_games_ids)    \n",
    "    time_less_than_six = last_quarter_and_minutes.where('TIME', predicates.are.below(6.6))\n",
    "    time_less_than_six = time_less_than_six.join('GAME_ID', close_games_table, 'Close Games')\n",
    "    \n",
    "    return time_less_than_six\n"
   ]
  },
  {
   "cell_type": "markdown",
   "metadata": {},
   "source": [
    "### Writes the New Table to File"
   ]
  },
  {
   "cell_type": "code",
   "execution_count": 7,
   "metadata": {},
   "outputs": [],
   "source": [
    "#Write to File\n",
    "game_filter('PbP_15_16_reduced.csv').to_csv('PbP_15_16_trimmed.csv')"
   ]
  },
  {
   "cell_type": "code",
   "execution_count": 6,
   "metadata": {},
   "outputs": [
    {
     "data": {
      "text/html": [
       "<table border=\"1\" class=\"dataframe\">\n",
       "    <thead>\n",
       "        <tr>\n",
       "            <th>GAME_ID</th> <th>EVENTNUM</th> <th>PCTIMESTRING</th> <th>TIME</th> <th>PERIOD</th> <th>HOME_TEAM</th> <th>AWAY_TEAM</th> <th>HOME_SCORE</th> <th>AWAY_SCORE</th> <th>POINTS_SCORED</th> <th>SHOT_MADE</th> <th>SHOT_TYPE</th> <th>SHOT_DIST</th> <th>PLAYER1_ID</th> <th>PLAYER1_NAME</th> <th>PLAYER1_TEAM_NICKNAME</th> <th>ASSIST_PLAYER_ID</th> <th>EVENTMSGTYPE</th> <th>EVENTMSGACTIONTYPE</th>\n",
       "        </tr>\n",
       "    </thead>\n",
       "    <tbody>\n",
       "        <tr>\n",
       "            <td>21500002</td> <td>474     </td> <td>6:32        </td> <td>6.53333</td> <td>4     </td> <td>Bulls    </td> <td>Cavaliers</td> <td>80        </td> <td>79        </td> <td>0            </td> <td>nan      </td> <td>nan      </td> <td>nan      </td> <td>2747      </td> <td>J.R. Smith      </td> <td>Cavaliers            </td> <td>nan             </td> <td>Personal Foul</td> <td>P.FOUL                    </td>\n",
       "        </tr>\n",
       "    </tbody>\n",
       "        <tr>\n",
       "            <td>21500002</td> <td>476     </td> <td>6:20        </td> <td>6.33333</td> <td>4     </td> <td>Bulls    </td> <td>Cavaliers</td> <td>82        </td> <td>79        </td> <td>2            </td> <td>1        </td> <td>Shot     </td> <td>15       </td> <td>201565    </td> <td>Derrick Rose    </td> <td>Bulls                </td> <td>nan             </td> <td>Make         </td> <td>Pullup Jump Shot          </td>\n",
       "        </tr>\n",
       "    </tbody>\n",
       "        <tr>\n",
       "            <td>21500002</td> <td>479     </td> <td>6:01        </td> <td>6.01667</td> <td>4     </td> <td>Bulls    </td> <td>Cavaliers</td> <td>82        </td> <td>81        </td> <td>2            </td> <td>1        </td> <td>Dunk     </td> <td>nan      </td> <td>202684    </td> <td>Tristan Thompson</td> <td>Cavaliers            </td> <td>2590            </td> <td>Make         </td> <td>Dunk                      </td>\n",
       "        </tr>\n",
       "    </tbody>\n",
       "        <tr>\n",
       "            <td>21500002</td> <td>480     </td> <td>5:50        </td> <td>5.83333</td> <td>4     </td> <td>Bulls    </td> <td>Cavaliers</td> <td>82        </td> <td>81        </td> <td>0            </td> <td>0        </td> <td>Layup    </td> <td>2        </td> <td>201565    </td> <td>Derrick Rose    </td> <td>Bulls                </td> <td>nan             </td> <td>Miss         </td> <td>Driving Layup             </td>\n",
       "        </tr>\n",
       "    </tbody>\n",
       "        <tr>\n",
       "            <td>21500002</td> <td>481     </td> <td>5:48        </td> <td>5.8    </td> <td>4     </td> <td>Bulls    </td> <td>Cavaliers</td> <td>82        </td> <td>81        </td> <td>0            </td> <td>nan      </td> <td>nan      </td> <td>nan      </td> <td>201567    </td> <td>Kevin Love      </td> <td>Cavaliers            </td> <td>nan             </td> <td>Rebound      </td> <td>Player                    </td>\n",
       "        </tr>\n",
       "    </tbody>\n",
       "        <tr>\n",
       "            <td>21500002</td> <td>482     </td> <td>5:32        </td> <td>5.53333</td> <td>4     </td> <td>Bulls    </td> <td>Cavaliers</td> <td>82        </td> <td>83        </td> <td>2            </td> <td>1        </td> <td>Shot     </td> <td>7        </td> <td>2544      </td> <td>LeBron James    </td> <td>Cavaliers            </td> <td>nan             </td> <td>Make         </td> <td>Driving Floating Jump Shot</td>\n",
       "        </tr>\n",
       "    </tbody>\n",
       "        <tr>\n",
       "            <td>21500002</td> <td>483     </td> <td>5:18        </td> <td>5.3    </td> <td>4     </td> <td>Bulls    </td> <td>Cavaliers</td> <td>84        </td> <td>83        </td> <td>2            </td> <td>1        </td> <td>Shot     </td> <td>13       </td> <td>202703    </td> <td>Nikola Mirotic  </td> <td>Bulls                </td> <td>nan             </td> <td>Make         </td> <td>Driving Floating Jump Shot</td>\n",
       "        </tr>\n",
       "    </tbody>\n",
       "        <tr>\n",
       "            <td>21500002</td> <td>484     </td> <td>5:18        </td> <td>5.3    </td> <td>4     </td> <td>Bulls    </td> <td>Cavaliers</td> <td>84        </td> <td>83        </td> <td>0            </td> <td>nan      </td> <td>nan      </td> <td>nan      </td> <td>202684    </td> <td>Tristan Thompson</td> <td>Cavaliers            </td> <td>nan             </td> <td>Personal Foul</td> <td>S.FOUL                    </td>\n",
       "        </tr>\n",
       "    </tbody>\n",
       "        <tr>\n",
       "            <td>21500002</td> <td>485     </td> <td>5:18        </td> <td>5.3    </td> <td>4     </td> <td>Bulls    </td> <td>Cavaliers</td> <td>85        </td> <td>83        </td> <td>1            </td> <td>nan      </td> <td>nan      </td> <td>nan      </td> <td>202703    </td> <td>Nikola Mirotic  </td> <td>Bulls                </td> <td>nan             </td> <td>Free Throw   </td> <td>Free Throw 1 of 1         </td>\n",
       "        </tr>\n",
       "    </tbody>\n",
       "        <tr>\n",
       "            <td>21500002</td> <td>488     </td> <td>5:07        </td> <td>5.11667</td> <td>4     </td> <td>Bulls    </td> <td>Cavaliers</td> <td>85        </td> <td>83        </td> <td>0            </td> <td>0        </td> <td>Layup    </td> <td>3        </td> <td>201567    </td> <td>Kevin Love      </td> <td>Cavaliers            </td> <td>nan             </td> <td>Miss         </td> <td>Reverse Layup             </td>\n",
       "        </tr>\n",
       "    </tbody>\n",
       "</table>\n",
       "<p>... (51527 rows omitted)</p>"
      ],
      "text/plain": [
       "GAME_ID  | EVENTNUM | PCTIMESTRING | TIME    | PERIOD | HOME_TEAM | AWAY_TEAM | HOME_SCORE | AWAY_SCORE | POINTS_SCORED | SHOT_MADE | SHOT_TYPE | SHOT_DIST | PLAYER1_ID | PLAYER1_NAME     | PLAYER1_TEAM_NICKNAME | ASSIST_PLAYER_ID | EVENTMSGTYPE  | EVENTMSGACTIONTYPE\n",
       "21500002 | 474      | 6:32         | 6.53333 | 4      | Bulls     | Cavaliers | 80         | 79         | 0             | nan       | nan       | nan       | 2747       | J.R. Smith       | Cavaliers             | nan              | Personal Foul | P.FOUL\n",
       "21500002 | 476      | 6:20         | 6.33333 | 4      | Bulls     | Cavaliers | 82         | 79         | 2             | 1         | Shot      | 15        | 201565     | Derrick Rose     | Bulls                 | nan              | Make          | Pullup Jump Shot\n",
       "21500002 | 479      | 6:01         | 6.01667 | 4      | Bulls     | Cavaliers | 82         | 81         | 2             | 1         | Dunk      | nan       | 202684     | Tristan Thompson | Cavaliers             | 2590             | Make          | Dunk\n",
       "21500002 | 480      | 5:50         | 5.83333 | 4      | Bulls     | Cavaliers | 82         | 81         | 0             | 0         | Layup     | 2         | 201565     | Derrick Rose     | Bulls                 | nan              | Miss          | Driving Layup\n",
       "21500002 | 481      | 5:48         | 5.8     | 4      | Bulls     | Cavaliers | 82         | 81         | 0             | nan       | nan       | nan       | 201567     | Kevin Love       | Cavaliers             | nan              | Rebound       | Player\n",
       "21500002 | 482      | 5:32         | 5.53333 | 4      | Bulls     | Cavaliers | 82         | 83         | 2             | 1         | Shot      | 7         | 2544       | LeBron James     | Cavaliers             | nan              | Make          | Driving Floating Jump Shot\n",
       "21500002 | 483      | 5:18         | 5.3     | 4      | Bulls     | Cavaliers | 84         | 83         | 2             | 1         | Shot      | 13        | 202703     | Nikola Mirotic   | Bulls                 | nan              | Make          | Driving Floating Jump Shot\n",
       "21500002 | 484      | 5:18         | 5.3     | 4      | Bulls     | Cavaliers | 84         | 83         | 0             | nan       | nan       | nan       | 202684     | Tristan Thompson | Cavaliers             | nan              | Personal Foul | S.FOUL\n",
       "21500002 | 485      | 5:18         | 5.3     | 4      | Bulls     | Cavaliers | 85         | 83         | 1             | nan       | nan       | nan       | 202703     | Nikola Mirotic   | Bulls                 | nan              | Free Throw    | Free Throw 1 of 1\n",
       "21500002 | 488      | 5:07         | 5.11667 | 4      | Bulls     | Cavaliers | 85         | 83         | 0             | 0         | Layup     | 3         | 201567     | Kevin Love       | Cavaliers             | nan              | Miss          | Reverse Layup\n",
       "... (51527 rows omitted)"
      ]
     },
     "execution_count": 6,
     "metadata": {},
     "output_type": "execute_result"
    }
   ],
   "source": [
    "games = Table().read_table('PbP_15_16_trimmed.csv', sep=',')\n",
    "games"
   ]
  },
  {
   "cell_type": "markdown",
   "metadata": {},
   "source": [
    "### Helper Funciton to Create Game Reference Table"
   ]
  },
  {
   "cell_type": "code",
   "execution_count": 7,
   "metadata": {},
   "outputs": [],
   "source": [
    "# Sort the trimmed table to analyze on a game by game basis\n",
    "# builds a list of tuples of indecies, each tubple represents a unquue game in the table\n",
    "\n",
    "def isolate_game(table):\n",
    "    games = []\n",
    "    row_start = table.row(0)  \n",
    "    last_id1 = int(row_start[0])\n",
    "    current_id1 = 0\n",
    "    last_index = 0\n",
    "    count = 0\n",
    "    \n",
    "    for i in np.arange(table.num_rows):   \n",
    "        \n",
    "        row = table.row(i)           \n",
    "        current_id1 = int(row[0])\n",
    "        \n",
    "        if current_id1 != last_id1:\n",
    "            x = [last_index, i-1]\n",
    "\n",
    "            games.append(x)\n",
    "            count += 1\n",
    "            \n",
    "            # reset indicies\n",
    "            last_index = i\n",
    "            last_id1 = current_id1\n",
    "        \n",
    "    return games\n",
    "\n",
    "games_list = isolate_game(games)    \n",
    "\n",
    "    "
   ]
  },
  {
   "cell_type": "markdown",
   "metadata": {},
   "source": [
    "### Creates Game Reference Table"
   ]
  },
  {
   "cell_type": "code",
   "execution_count": 8,
   "metadata": {},
   "outputs": [
    {
     "data": {
      "text/html": [
       "<table border=\"1\" class=\"dataframe\">\n",
       "    <thead>\n",
       "        <tr>\n",
       "            <th>HOME_TEAM</th> <th>AWAY_TEAM</th> <th>GAME NUMBER</th> <th>INDICIES</th>\n",
       "        </tr>\n",
       "    </thead>\n",
       "    <tbody>\n",
       "        <tr>\n",
       "            <td>Bulls    </td> <td>Cavaliers   </td> <td>1          </td> <td>[ 0 69]  </td>\n",
       "        </tr>\n",
       "    </tbody>\n",
       "        <tr>\n",
       "            <td>Magic    </td> <td>Wizards     </td> <td>2          </td> <td>[ 70 149]</td>\n",
       "        </tr>\n",
       "    </tbody>\n",
       "        <tr>\n",
       "            <td>Celtics  </td> <td>76ers       </td> <td>3          </td> <td>[150 224]</td>\n",
       "        </tr>\n",
       "    </tbody>\n",
       "        <tr>\n",
       "            <td>Pistons  </td> <td>Jazz        </td> <td>4          </td> <td>[225 301]</td>\n",
       "        </tr>\n",
       "    </tbody>\n",
       "        <tr>\n",
       "            <td>Pacers   </td> <td>Raptors     </td> <td>5          </td> <td>[302 396]</td>\n",
       "        </tr>\n",
       "    </tbody>\n",
       "        <tr>\n",
       "            <td>Thunder  </td> <td>Spurs       </td> <td>6          </td> <td>[397 475]</td>\n",
       "        </tr>\n",
       "    </tbody>\n",
       "        <tr>\n",
       "            <td>Clippers </td> <td>Kings       </td> <td>7          </td> <td>[476 545]</td>\n",
       "        </tr>\n",
       "    </tbody>\n",
       "        <tr>\n",
       "            <td>Lakers   </td> <td>Timberwolves</td> <td>8          </td> <td>[546 624]</td>\n",
       "        </tr>\n",
       "    </tbody>\n",
       "        <tr>\n",
       "            <td>Pacers   </td> <td>Grizzlies   </td> <td>9          </td> <td>[625 690]</td>\n",
       "        </tr>\n",
       "    </tbody>\n",
       "        <tr>\n",
       "            <td>Thunder  </td> <td>Magic       </td> <td>10         </td> <td>[691 773]</td>\n",
       "        </tr>\n",
       "    </tbody>\n",
       "</table>\n",
       "<p>... (678 rows omitted)</p>"
      ],
      "text/plain": [
       "HOME_TEAM | AWAY_TEAM    | GAME NUMBER | INDICIES\n",
       "Bulls     | Cavaliers    | 1           | [ 0 69]\n",
       "Magic     | Wizards      | 2           | [ 70 149]\n",
       "Celtics   | 76ers        | 3           | [150 224]\n",
       "Pistons   | Jazz         | 4           | [225 301]\n",
       "Pacers    | Raptors      | 5           | [302 396]\n",
       "Thunder   | Spurs        | 6           | [397 475]\n",
       "Clippers  | Kings        | 7           | [476 545]\n",
       "Lakers    | Timberwolves | 8           | [546 624]\n",
       "Pacers    | Grizzlies    | 9           | [625 690]\n",
       "Thunder   | Magic        | 10          | [691 773]\n",
       "... (678 rows omitted)"
      ]
     },
     "execution_count": 8,
     "metadata": {},
     "output_type": "execute_result"
    }
   ],
   "source": [
    "def construct_game_reference_table():\n",
    "    count = 1\n",
    "    season = Table(make_array('HOME_TEAM', 'AWAY_TEAM'))\n",
    "    array = make_array()\n",
    "    for t in games_list:\n",
    "        index = t[0]\n",
    "        row = games.take(index).select('HOME_TEAM', 'AWAY_TEAM')\n",
    "        array = np.append(array, count)\n",
    "        count += 1\n",
    "        season = season.with_row(row)\n",
    "    season = season.with_column('GAME NUMBER', array).with_column('INDICIES', games_list)\n",
    "    return season \n",
    "      \n",
    "construct_game_reference_table()       "
   ]
  },
  {
   "cell_type": "markdown",
   "metadata": {},
   "source": [
    "### Creates Player Reference Table"
   ]
  },
  {
   "cell_type": "code",
   "execution_count": 26,
   "metadata": {},
   "outputs": [
    {
     "name": "stdout",
     "output_type": "stream",
     "text": [
      "481\n"
     ]
    },
    {
     "data": {
      "text/html": [
       "<table border=\"1\" class=\"dataframe\">\n",
       "    <thead>\n",
       "        <tr>\n",
       "            <th>PLAYER1_ID</th> <th>PLAYER_NAME</th> <th>FIRST_NAME</th> <th>LAST_NAME</th>\n",
       "        </tr>\n",
       "    </thead>\n",
       "    <tbody>\n",
       "        <tr>\n",
       "            <td>378       </td> <td>Craig Ehlo      </td> <td>Craig     </td> <td>Ehlo     </td>\n",
       "        </tr>\n",
       "    </tbody>\n",
       "        <tr>\n",
       "            <td>380       </td> <td>Tony Smith      </td> <td>Tony      </td> <td>Smith    </td>\n",
       "        </tr>\n",
       "    </tbody>\n",
       "        <tr>\n",
       "            <td>406       </td> <td>Shaquille O'Neal</td> <td>Shaquille </td> <td>O'Neal   </td>\n",
       "        </tr>\n",
       "    </tbody>\n",
       "        <tr>\n",
       "            <td>416       </td> <td>Willie Burton   </td> <td>Willie    </td> <td>Burton   </td>\n",
       "        </tr>\n",
       "    </tbody>\n",
       "        <tr>\n",
       "            <td>417       </td> <td>Sam Mitchell    </td> <td>Sam       </td> <td>Mitchell </td>\n",
       "        </tr>\n",
       "    </tbody>\n",
       "        <tr>\n",
       "            <td>426       </td> <td>Terry Davis     </td> <td>Terry     </td> <td>Davis    </td>\n",
       "        </tr>\n",
       "    </tbody>\n",
       "        <tr>\n",
       "            <td>428       </td> <td>Sherman Douglas </td> <td>Sherman   </td> <td>Douglas  </td>\n",
       "        </tr>\n",
       "    </tbody>\n",
       "        <tr>\n",
       "            <td>431       </td> <td>Shawn Kemp      </td> <td>Shawn     </td> <td>Kemp     </td>\n",
       "        </tr>\n",
       "    </tbody>\n",
       "        <tr>\n",
       "            <td>433       </td> <td>Buck Williams   </td> <td>Buck      </td> <td>Williams </td>\n",
       "        </tr>\n",
       "    </tbody>\n",
       "        <tr>\n",
       "            <td>434       </td> <td>Tony Dumas      </td> <td>Tony      </td> <td>Dumas    </td>\n",
       "        </tr>\n",
       "    </tbody>\n",
       "</table>\n",
       "<p>... (471 rows omitted)</p>"
      ],
      "text/plain": [
       "PLAYER1_ID | PLAYER_NAME      | FIRST_NAME | LAST_NAME\n",
       "378        | Craig Ehlo       | Craig      | Ehlo\n",
       "380        | Tony Smith       | Tony       | Smith\n",
       "406        | Shaquille O'Neal | Shaquille  | O'Neal\n",
       "416        | Willie Burton    | Willie     | Burton\n",
       "417        | Sam Mitchell     | Sam        | Mitchell\n",
       "426        | Terry Davis      | Terry      | Davis\n",
       "428        | Sherman Douglas  | Sherman    | Douglas\n",
       "431        | Shawn Kemp       | Shawn      | Kemp\n",
       "433        | Buck Williams    | Buck       | Williams\n",
       "434        | Tony Dumas       | Tony       | Dumas\n",
       "... (471 rows omitted)"
      ]
     },
     "execution_count": 26,
     "metadata": {},
     "output_type": "execute_result"
    }
   ],
   "source": [
    "players = games.select('PLAYER1_ID', 'PLAYER1_NAME')\n",
    "players = players.group('PLAYER1_ID', max).where('PLAYER1_NAME max', predicates.are.not_equal_to('nan')).relabel(1, 'PLAYER_NAME')\n",
    "\n",
    "def first(string):\n",
    "    name = string.split(' ')\n",
    "    first = name[0]\n",
    "    return first\n",
    "    \n",
    "def last(string):\n",
    "    name = string.split(' ')\n",
    "    if len(name) == 1:\n",
    "        return 'nan'\n",
    "    first = name[1]\n",
    "    return first\n",
    "\n",
    "players = players.with_column('FIRST_NAME', players.apply(first, 'PLAYER_NAME'))\n",
    "players = players.with_column('LAST_NAME', players.apply(last, 'PLAYER_NAME'))\n",
    "\n",
    "\n",
    "game1 = games.take(np.arange(0, 69))\n",
    "names = game1.select('PLAYER1_NAME')\n",
    "\n",
    "print(players.num_rows)\n",
    "players\n",
    "\n",
    "players = players.join('PLAYER_NAME', names, 'PLAYER1_NAME').group('PLAYER1_ID', max)\n",
    "statzz = Table(make_array('TS', 'EFG'))\n",
    "\n",
    "statzz.with_column('Player', players.column('PLAYER_NAME'))"
   ]
  },
  {
   "cell_type": "markdown",
   "metadata": {},
   "source": [
    "#### Dont Run This Block "
   ]
  },
  {
   "cell_type": "code",
   "execution_count": null,
   "metadata": {},
   "outputs": [],
   "source": [
    "for i in np.arange(0, players.num_rows):\n",
    "    print(i)\n",
    "    row = players.row(i)\n",
    "    statzz = statzz.with_row(get_season_stats(row[2], row[3]))\n",
    "    \n",
    "statzz = statzz.with_column('Player', players.column('PLAYER_NAME'))\n",
    "stored = statzz\n",
    "stored.to_csv('Players.csv')\n",
    "stored"
   ]
  },
  {
   "cell_type": "code",
   "execution_count": 27,
   "metadata": {},
   "outputs": [
    {
     "data": {
      "text/html": [
       "<table border=\"1\" class=\"dataframe\">\n",
       "    <thead>\n",
       "        <tr>\n",
       "            <th>PLAYER_NAME</th> <th>PLAYER1_ID</th> <th>FIRST_NAME</th> <th>LAST_NAME</th> <th>TS</th> <th>EFG</th>\n",
       "        </tr>\n",
       "    </thead>\n",
       "    <tbody>\n",
       "        <tr>\n",
       "            <td>Aaron Brooks   </td> <td>201166    </td> <td>Aaron     </td> <td>Brooks   </td> <td>0.49333 </td> <td>0.470588</td>\n",
       "        </tr>\n",
       "    </tbody>\n",
       "        <tr>\n",
       "            <td>Aaron Gordon   </td> <td>203932    </td> <td>Aaron     </td> <td>Gordon   </td> <td>0.541176</td> <td>0.506757</td>\n",
       "        </tr>\n",
       "    </tbody>\n",
       "        <tr>\n",
       "            <td>Aaron Harrison </td> <td>1626151   </td> <td>Aaron     </td> <td>Harrison </td> <td>0.386598</td> <td>0.277778</td>\n",
       "        </tr>\n",
       "    </tbody>\n",
       "        <tr>\n",
       "            <td>Adreian Payne  </td> <td>203940    </td> <td>Adreian   </td> <td>Payne    </td> <td>0.413907</td> <td>0.392857</td>\n",
       "        </tr>\n",
       "    </tbody>\n",
       "        <tr>\n",
       "            <td>Al Horford     </td> <td>201143    </td> <td>Al        </td> <td>Horford  </td> <td>0.562796</td> <td>0.550781</td>\n",
       "        </tr>\n",
       "    </tbody>\n",
       "        <tr>\n",
       "            <td>Al Jefferson   </td> <td>2744      </td> <td>Al        </td> <td>Jefferson</td> <td>0.510378</td> <td>0.485981</td>\n",
       "        </tr>\n",
       "    </tbody>\n",
       "        <tr>\n",
       "            <td>Al-Farouq Aminu</td> <td>202329    </td> <td>Al-Farouq </td> <td>Aminu    </td> <td>0.529265</td> <td>0.494318</td>\n",
       "        </tr>\n",
       "    </tbody>\n",
       "        <tr>\n",
       "            <td>Alan Anderson  </td> <td>101187    </td> <td>Alan      </td> <td>Anderson </td> <td>0.497216</td> <td>0.455556</td>\n",
       "        </tr>\n",
       "    </tbody>\n",
       "        <tr>\n",
       "            <td>Alan Williams  </td> <td>1626210   </td> <td>Alan      </td> <td>Williams </td> <td>0.480769</td> <td>0.416667</td>\n",
       "        </tr>\n",
       "    </tbody>\n",
       "        <tr>\n",
       "            <td>Alec Burks     </td> <td>202692    </td> <td>Alec      </td> <td>Burks    </td> <td>0.520344</td> <td>0.453704</td>\n",
       "        </tr>\n",
       "    </tbody>\n",
       "</table>\n",
       "<p>... (419 rows omitted)</p>"
      ],
      "text/plain": [
       "PLAYER_NAME     | PLAYER1_ID | FIRST_NAME | LAST_NAME | TS       | EFG\n",
       "Aaron Brooks    | 201166     | Aaron      | Brooks    | 0.49333  | 0.470588\n",
       "Aaron Gordon    | 203932     | Aaron      | Gordon    | 0.541176 | 0.506757\n",
       "Aaron Harrison  | 1626151    | Aaron      | Harrison  | 0.386598 | 0.277778\n",
       "Adreian Payne   | 203940     | Adreian    | Payne     | 0.413907 | 0.392857\n",
       "Al Horford      | 201143     | Al         | Horford   | 0.562796 | 0.550781\n",
       "Al Jefferson    | 2744       | Al         | Jefferson | 0.510378 | 0.485981\n",
       "Al-Farouq Aminu | 202329     | Al-Farouq  | Aminu     | 0.529265 | 0.494318\n",
       "Alan Anderson   | 101187     | Alan       | Anderson  | 0.497216 | 0.455556\n",
       "Alan Williams   | 1626210    | Alan       | Williams  | 0.480769 | 0.416667\n",
       "Alec Burks      | 202692     | Alec       | Burks     | 0.520344 | 0.453704\n",
       "... (419 rows omitted)"
      ]
     },
     "execution_count": 27,
     "metadata": {},
     "output_type": "execute_result"
    }
   ],
   "source": [
    "players = players\n",
    "players = players.join('PLAYER_NAME', stored, 'Player').where('TS', predicates.are.not_equal_to(0))\n",
    "players.to_csv('Players.csv')\n",
    "players"
   ]
  },
  {
   "cell_type": "markdown",
   "metadata": {},
   "source": [
    "# Analysis Begins Here"
   ]
  },
  {
   "cell_type": "code",
   "execution_count": null,
   "metadata": {},
   "outputs": [],
   "source": [
    "def shots_all_players(table):\n",
    "    #This function finds the number of shots that each player takes in time period\n",
    "    #(it doesn't distinguish the type of shot)\n",
    "    #it can be used for an entire game or for the last 6 minutes\n",
    "    shots = table.where('EVENTMSGTYPE', predicates.are.containing('M'))\n",
    "    players = shots.select('EVENTMSGTYPE', 'EVENTMSGACTIONTYPE', 'PLAYER1_NAME', 'PLAYER1_TEAM_NICKNAME')\n",
    "    count = players.group(('PLAYER1_NAME', 'PLAYER1_TEAM_NICKNAME'))\n",
    "    return count\n",
    "\n",
    "def max_shot_player_each_team(table, team1, team2):\n",
    "    #This takes in a table like player_count above\n",
    "    #It returns the player who shoots the most for each team\n",
    "    player_team_one = table.where('PLAYER1_TEAM_NICKNAME', team1).sort('count', descending=True).column('PLAYER1_NAME').item(0)\n",
    "    player_team_two = table.where('PLAYER1_TEAM_NICKNAME', team2).sort('count', descending=True).column('PLAYER1_NAME').item(0)\n",
    "    return (player_team_one, player_team_two)"
   ]
  }
 ],
 "metadata": {
  "kernelspec": {
   "display_name": "Python 3",
   "language": "python",
   "name": "python3"
  },
  "language_info": {
   "codemirror_mode": {
    "name": "ipython",
    "version": 3
   },
   "file_extension": ".py",
   "mimetype": "text/x-python",
   "name": "python",
   "nbconvert_exporter": "python",
   "pygments_lexer": "ipython3",
   "version": "3.6.4"
  }
 },
 "nbformat": 4,
 "nbformat_minor": 2
}
