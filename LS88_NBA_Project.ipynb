{
 "cells": [
  {
   "cell_type": "markdown",
   "metadata": {},
   "source": [
    "# LS88 Project"
   ]
  },
  {
   "cell_type": "markdown",
   "metadata": {},
   "source": [
    "###   Imports"
   ]
  },
  {
   "cell_type": "code",
   "execution_count": 45,
   "metadata": {},
   "outputs": [],
   "source": [
    "%matplotlib inline\n",
    "import numpy as np\n",
    "import datascience as ds\n",
    "from datascience import Table, make_array, predicates\n",
    "import nba_py as py\n",
    "from nba_py import player\n",
    "import matplotlib.pyplot as plt\n",
    "plt.style.use('fivethirtyeight')"
   ]
  },
  {
   "cell_type": "markdown",
   "metadata": {},
   "source": [
    "### Load the Main Table"
   ]
  },
  {
   "cell_type": "code",
   "execution_count": 142,
   "metadata": {},
   "outputs": [
    {
     "data": {
      "text/html": [
       "<table border=\"1\" class=\"dataframe\">\n",
       "    <thead>\n",
       "        <tr>\n",
       "            <th>GAME_ID</th> <th>EVENTNUM</th> <th>PCTIMESTRING</th> <th>TIME</th> <th>PERIOD</th> <th>HOME_TEAM</th> <th>AWAY_TEAM</th> <th>HOME_SCORE</th> <th>AWAY_SCORE</th> <th>POINTS_SCORED</th> <th>SHOT_MADE</th> <th>SHOT_TYPE</th> <th>SHOT_DIST</th> <th>PLAYER1_ID</th> <th>PLAYER1_NAME</th> <th>PLAYER1_TEAM_NICKNAME</th> <th>ASSIST_PLAYER_ID</th> <th>EVENTMSGTYPE</th> <th>EVENTMSGACTIONTYPE</th>\n",
       "        </tr>\n",
       "    </thead>\n",
       "    <tbody>\n",
       "        <tr>\n",
       "            <td>21500001</td> <td>0       </td> <td>12:00       </td> <td>0   </td> <td>1     </td> <td>Hawks    </td> <td>Pistons  </td> <td>0         </td> <td>0         </td> <td>0            </td> <td>nan      </td> <td>nan      </td> <td>nan      </td> <td>0         </td> <td>nan           </td> <td>nan                  </td> <td>nan             </td> <td>Start Period</td> <td>nan                              </td>\n",
       "        </tr>\n",
       "    </tbody>\n",
       "        <tr>\n",
       "            <td>21500001</td> <td>1       </td> <td>12:00       </td> <td>0   </td> <td>1     </td> <td>Hawks    </td> <td>Pistons  </td> <td>0         </td> <td>0         </td> <td>0            </td> <td>nan      </td> <td>nan      </td> <td>nan      </td> <td>201143    </td> <td>Al Horford    </td> <td>Hawks                </td> <td>nan             </td> <td>Jumpball    </td> <td>nan                              </td>\n",
       "        </tr>\n",
       "    </tbody>\n",
       "        <tr>\n",
       "            <td>21500001</td> <td>2       </td> <td>11:41       </td> <td>19  </td> <td>1     </td> <td>Hawks    </td> <td>Pistons  </td> <td>0         </td> <td>0         </td> <td>0            </td> <td>0        </td> <td>Layup    </td> <td>2        </td> <td>203083    </td> <td>Andre Drummond</td> <td>Pistons              </td> <td>nan             </td> <td>Miss        </td> <td>Driving Layup                    </td>\n",
       "        </tr>\n",
       "    </tbody>\n",
       "        <tr>\n",
       "            <td>21500001</td> <td>3       </td> <td>11:39       </td> <td>21  </td> <td>1     </td> <td>Hawks    </td> <td>Pistons  </td> <td>0         </td> <td>0         </td> <td>0            </td> <td>nan      </td> <td>nan      </td> <td>nan      </td> <td>203145    </td> <td>Kent Bazemore </td> <td>Hawks                </td> <td>nan             </td> <td>Rebound     </td> <td>Player                           </td>\n",
       "        </tr>\n",
       "    </tbody>\n",
       "        <tr>\n",
       "            <td>21500001</td> <td>4       </td> <td>11:37       </td> <td>23  </td> <td>1     </td> <td>Hawks    </td> <td>Pistons  </td> <td>0         </td> <td>0         </td> <td>0            </td> <td>nan      </td> <td>nan      </td> <td>nan      </td> <td>203145    </td> <td>Kent Bazemore </td> <td>Hawks                </td> <td>nan             </td> <td>Turnover    </td> <td>Out of Bounds - Bad Pass Turnover</td>\n",
       "        </tr>\n",
       "    </tbody>\n",
       "</table>\n",
       "<p>... (568327 rows omitted)</p>"
      ],
      "text/plain": [
       "<IPython.core.display.HTML object>"
      ]
     },
     "metadata": {},
     "output_type": "display_data"
    }
   ],
   "source": [
    "main = Table().read_table('PbP_15_16_reduced.csv', sep=',')\n",
    "main.show(5)"
   ]
  },
  {
   "cell_type": "markdown",
   "metadata": {},
   "source": [
    "### Helper Functions"
   ]
  },
  {
   "cell_type": "code",
   "execution_count": 40,
   "metadata": {},
   "outputs": [],
   "source": [
    "def calc_efg(FGM, THREEPTM, FGA):\n",
    "    return (FGM + (0.5 * THREEPTM)) / FGA\n",
    "\n",
    "def calc_ts(FTA, PTS, FGA):\n",
    "    return PTS / ((2 * FGA) + (0.88 * FTA))\n",
    "\n",
    "def convert_season_to_index(season):\n",
    "    end = season[5:]\n",
    "    int_year = int(end)\n",
    "    return 18 - int_year\n",
    "\n",
    "def time_string_to_number(time_string):\n",
    "    index = len(time_string)-3\n",
    "    minute = int(time_string[:index:])\n",
    "    seconds = int(time_string[index::].replace(':', '')) / 60\n",
    "    return minute + seconds"
   ]
  },
  {
   "cell_type": "markdown",
   "metadata": {},
   "source": [
    "### Get Any Player's TS and ES"
   ]
  },
  {
   "cell_type": "code",
   "execution_count": 229,
   "metadata": {},
   "outputs": [],
   "source": [
    "def get_season_stats(first, last):\n",
    "    first = first.replace('.', '')\n",
    "    print(first)\n",
    "    print(last)\n",
    "        \n",
    "    player_id = py.player.get_player(first, last_name=last)\n",
    "    \n",
    "    print('HELLO')\n",
    "          \n",
    "    player_general_splits = py.player.PlayerGeneralSplits(player_id)\n",
    "\n",
    "    player_yearoveryear_splits = py.player.PlayerYearOverYearSplits(player_id, '2015-16')\n",
    "\n",
    "    stats = ds.Table.from_df(player_yearoveryear_splits.by_year())\n",
    "    \n",
    "    stats = stats.where('GROUP_VALUE', '2015-16')\n",
    "    \n",
    "    if stats.num_rows < 1:\n",
    "        return []\n",
    "\n",
    "    FGA = stats.column('FGA').item(0)\n",
    "    FG3M = stats.column('FG3M').item(0)\n",
    "    FGM = stats.column('FGM').item(0)\n",
    "\n",
    "    EFG = calc_efg(FGM, FG3M, FGA)\n",
    "    \n",
    "    FTA = stats.column('FTA').item(0)\n",
    "    PTS = stats.column('PTS').item(0)\n",
    "    \n",
    "    TS = calc_ts(FTA, PTS, FGA)\n",
    "\n",
    "    return [TS, EFG]\n"
   ]
  },
  {
   "cell_type": "code",
   "execution_count": 228,
   "metadata": {},
   "outputs": [
    {
     "name": "stdout",
     "output_type": "stream",
     "text": [
      "Kevin\n",
      "Durant\n",
      "HELLO\n"
     ]
    },
    {
     "ename": "KeyboardInterrupt",
     "evalue": "",
     "output_type": "error",
     "traceback": [
      "\u001b[0;31m---------------------------------------------------------------------------\u001b[0m",
      "\u001b[0;31mTypeError\u001b[0m                                 Traceback (most recent call last)",
      "\u001b[0;32m~/anaconda3/lib/python3.6/site-packages/urllib3/connectionpool.py\u001b[0m in \u001b[0;36m_make_request\u001b[0;34m(self, conn, method, url, timeout, chunked, **httplib_request_kw)\u001b[0m\n\u001b[1;32m    379\u001b[0m             \u001b[0;32mtry\u001b[0m\u001b[0;34m:\u001b[0m  \u001b[0;31m# Python 2.7, use buffering of HTTP responses\u001b[0m\u001b[0;34m\u001b[0m\u001b[0m\n\u001b[0;32m--> 380\u001b[0;31m                 \u001b[0mhttplib_response\u001b[0m \u001b[0;34m=\u001b[0m \u001b[0mconn\u001b[0m\u001b[0;34m.\u001b[0m\u001b[0mgetresponse\u001b[0m\u001b[0;34m(\u001b[0m\u001b[0mbuffering\u001b[0m\u001b[0;34m=\u001b[0m\u001b[0;32mTrue\u001b[0m\u001b[0;34m)\u001b[0m\u001b[0;34m\u001b[0m\u001b[0m\n\u001b[0m\u001b[1;32m    381\u001b[0m             \u001b[0;32mexcept\u001b[0m \u001b[0mTypeError\u001b[0m\u001b[0;34m:\u001b[0m  \u001b[0;31m# Python 2.6 and older, Python 3\u001b[0m\u001b[0;34m\u001b[0m\u001b[0m\n",
      "\u001b[0;31mTypeError\u001b[0m: getresponse() got an unexpected keyword argument 'buffering'",
      "\nDuring handling of the above exception, another exception occurred:\n",
      "\u001b[0;31mKeyboardInterrupt\u001b[0m                         Traceback (most recent call last)",
      "\u001b[0;32m<ipython-input-228-8339bf3560ad>\u001b[0m in \u001b[0;36m<module>\u001b[0;34m()\u001b[0m\n\u001b[0;32m----> 1\u001b[0;31m \u001b[0mget_season_stats\u001b[0m\u001b[0;34m(\u001b[0m\u001b[0;34m'Kevin'\u001b[0m\u001b[0;34m,\u001b[0m \u001b[0;34m'Durant'\u001b[0m\u001b[0;34m)\u001b[0m\u001b[0;34m\u001b[0m\u001b[0m\n\u001b[0m",
      "\u001b[0;32m<ipython-input-227-48427a0b4503>\u001b[0m in \u001b[0;36mget_season_stats\u001b[0;34m(first, last)\u001b[0m\n\u001b[1;32m      8\u001b[0m     \u001b[0mprint\u001b[0m\u001b[0;34m(\u001b[0m\u001b[0;34m'HELLO'\u001b[0m\u001b[0;34m)\u001b[0m\u001b[0;34m\u001b[0m\u001b[0m\n\u001b[1;32m      9\u001b[0m \u001b[0;34m\u001b[0m\u001b[0m\n\u001b[0;32m---> 10\u001b[0;31m     \u001b[0mplayer_general_splits\u001b[0m \u001b[0;34m=\u001b[0m \u001b[0mpy\u001b[0m\u001b[0;34m.\u001b[0m\u001b[0mplayer\u001b[0m\u001b[0;34m.\u001b[0m\u001b[0mPlayerGeneralSplits\u001b[0m\u001b[0;34m(\u001b[0m\u001b[0mplayer_id\u001b[0m\u001b[0;34m)\u001b[0m\u001b[0;34m\u001b[0m\u001b[0m\n\u001b[0m\u001b[1;32m     11\u001b[0m \u001b[0;34m\u001b[0m\u001b[0m\n\u001b[1;32m     12\u001b[0m     \u001b[0mplayer_yearoveryear_splits\u001b[0m \u001b[0;34m=\u001b[0m \u001b[0mpy\u001b[0m\u001b[0;34m.\u001b[0m\u001b[0mplayer\u001b[0m\u001b[0;34m.\u001b[0m\u001b[0mPlayerYearOverYearSplits\u001b[0m\u001b[0;34m(\u001b[0m\u001b[0mplayer_id\u001b[0m\u001b[0;34m,\u001b[0m \u001b[0;34m'2015-16'\u001b[0m\u001b[0;34m)\u001b[0m\u001b[0;34m\u001b[0m\u001b[0m\n",
      "\u001b[0;32m~/anaconda3/lib/python3.6/site-packages/nba_py/player.py\u001b[0m in \u001b[0;36m__init__\u001b[0;34m(self, player_id, team_id, measure_type, per_mode, plus_minus, pace_adjust, rank, league_id, season, season_type, po_round, outcome, location, month, season_segment, date_from, date_to, opponent_team_id, vs_conference, vs_division, game_segment, period, shot_clock_range, last_n_games)\u001b[0m\n\u001b[1;32m    183\u001b[0m                                       \u001b[0;34m'ShotClockRange'\u001b[0m\u001b[0;34m:\u001b[0m \u001b[0mshot_clock_range\u001b[0m\u001b[0;34m,\u001b[0m\u001b[0;34m\u001b[0m\u001b[0m\n\u001b[1;32m    184\u001b[0m                                       'LastNGames': last_n_games},\n\u001b[0;32m--> 185\u001b[0;31m                                       referer='player')\n\u001b[0m\u001b[1;32m    186\u001b[0m \u001b[0;34m\u001b[0m\u001b[0m\n\u001b[1;32m    187\u001b[0m     \u001b[0;32mdef\u001b[0m \u001b[0moverall\u001b[0m\u001b[0;34m(\u001b[0m\u001b[0mself\u001b[0m\u001b[0;34m)\u001b[0m\u001b[0;34m:\u001b[0m\u001b[0;34m\u001b[0m\u001b[0m\n",
      "\u001b[0;32m~/anaconda3/lib/python3.6/site-packages/nba_py/__init__.py\u001b[0m in \u001b[0;36m_get_json\u001b[0;34m(endpoint, params, referer)\u001b[0m\n\u001b[1;32m     81\u001b[0m     \u001b[0mh\u001b[0m\u001b[0;34m[\u001b[0m\u001b[0;34m'referer'\u001b[0m\u001b[0;34m]\u001b[0m \u001b[0;34m=\u001b[0m \u001b[0;34m'http://stats.nba.com/{ref}/'\u001b[0m\u001b[0;34m.\u001b[0m\u001b[0mformat\u001b[0m\u001b[0;34m(\u001b[0m\u001b[0mref\u001b[0m\u001b[0;34m=\u001b[0m\u001b[0mreferer\u001b[0m\u001b[0;34m)\u001b[0m\u001b[0;34m\u001b[0m\u001b[0m\n\u001b[1;32m     82\u001b[0m     _get = get(BASE_URL.format(endpoint=endpoint), params=params,\n\u001b[0;32m---> 83\u001b[0;31m                headers=h)\n\u001b[0m\u001b[1;32m     84\u001b[0m     \u001b[0;31m# print _get.url\u001b[0m\u001b[0;34m\u001b[0m\u001b[0;34m\u001b[0m\u001b[0m\n\u001b[1;32m     85\u001b[0m     \u001b[0m_get\u001b[0m\u001b[0;34m.\u001b[0m\u001b[0mraise_for_status\u001b[0m\u001b[0;34m(\u001b[0m\u001b[0;34m)\u001b[0m\u001b[0;34m\u001b[0m\u001b[0m\n",
      "\u001b[0;32m~/anaconda3/lib/python3.6/site-packages/requests/api.py\u001b[0m in \u001b[0;36mget\u001b[0;34m(url, params, **kwargs)\u001b[0m\n\u001b[1;32m     70\u001b[0m \u001b[0;34m\u001b[0m\u001b[0m\n\u001b[1;32m     71\u001b[0m     \u001b[0mkwargs\u001b[0m\u001b[0;34m.\u001b[0m\u001b[0msetdefault\u001b[0m\u001b[0;34m(\u001b[0m\u001b[0;34m'allow_redirects'\u001b[0m\u001b[0;34m,\u001b[0m \u001b[0;32mTrue\u001b[0m\u001b[0;34m)\u001b[0m\u001b[0;34m\u001b[0m\u001b[0m\n\u001b[0;32m---> 72\u001b[0;31m     \u001b[0;32mreturn\u001b[0m \u001b[0mrequest\u001b[0m\u001b[0;34m(\u001b[0m\u001b[0;34m'get'\u001b[0m\u001b[0;34m,\u001b[0m \u001b[0murl\u001b[0m\u001b[0;34m,\u001b[0m \u001b[0mparams\u001b[0m\u001b[0;34m=\u001b[0m\u001b[0mparams\u001b[0m\u001b[0;34m,\u001b[0m \u001b[0;34m**\u001b[0m\u001b[0mkwargs\u001b[0m\u001b[0;34m)\u001b[0m\u001b[0;34m\u001b[0m\u001b[0m\n\u001b[0m\u001b[1;32m     73\u001b[0m \u001b[0;34m\u001b[0m\u001b[0m\n\u001b[1;32m     74\u001b[0m \u001b[0;34m\u001b[0m\u001b[0m\n",
      "\u001b[0;32m~/anaconda3/lib/python3.6/site-packages/requests/api.py\u001b[0m in \u001b[0;36mrequest\u001b[0;34m(method, url, **kwargs)\u001b[0m\n\u001b[1;32m     56\u001b[0m     \u001b[0;31m# cases, and look like a memory leak in others.\u001b[0m\u001b[0;34m\u001b[0m\u001b[0;34m\u001b[0m\u001b[0m\n\u001b[1;32m     57\u001b[0m     \u001b[0;32mwith\u001b[0m \u001b[0msessions\u001b[0m\u001b[0;34m.\u001b[0m\u001b[0mSession\u001b[0m\u001b[0;34m(\u001b[0m\u001b[0;34m)\u001b[0m \u001b[0;32mas\u001b[0m \u001b[0msession\u001b[0m\u001b[0;34m:\u001b[0m\u001b[0;34m\u001b[0m\u001b[0m\n\u001b[0;32m---> 58\u001b[0;31m         \u001b[0;32mreturn\u001b[0m \u001b[0msession\u001b[0m\u001b[0;34m.\u001b[0m\u001b[0mrequest\u001b[0m\u001b[0;34m(\u001b[0m\u001b[0mmethod\u001b[0m\u001b[0;34m=\u001b[0m\u001b[0mmethod\u001b[0m\u001b[0;34m,\u001b[0m \u001b[0murl\u001b[0m\u001b[0;34m=\u001b[0m\u001b[0murl\u001b[0m\u001b[0;34m,\u001b[0m \u001b[0;34m**\u001b[0m\u001b[0mkwargs\u001b[0m\u001b[0;34m)\u001b[0m\u001b[0;34m\u001b[0m\u001b[0m\n\u001b[0m\u001b[1;32m     59\u001b[0m \u001b[0;34m\u001b[0m\u001b[0m\n\u001b[1;32m     60\u001b[0m \u001b[0;34m\u001b[0m\u001b[0m\n",
      "\u001b[0;32m~/anaconda3/lib/python3.6/site-packages/requests/sessions.py\u001b[0m in \u001b[0;36mrequest\u001b[0;34m(self, method, url, params, data, headers, cookies, files, auth, timeout, allow_redirects, proxies, hooks, stream, verify, cert, json)\u001b[0m\n\u001b[1;32m    506\u001b[0m         }\n\u001b[1;32m    507\u001b[0m         \u001b[0msend_kwargs\u001b[0m\u001b[0;34m.\u001b[0m\u001b[0mupdate\u001b[0m\u001b[0;34m(\u001b[0m\u001b[0msettings\u001b[0m\u001b[0;34m)\u001b[0m\u001b[0;34m\u001b[0m\u001b[0m\n\u001b[0;32m--> 508\u001b[0;31m         \u001b[0mresp\u001b[0m \u001b[0;34m=\u001b[0m \u001b[0mself\u001b[0m\u001b[0;34m.\u001b[0m\u001b[0msend\u001b[0m\u001b[0;34m(\u001b[0m\u001b[0mprep\u001b[0m\u001b[0;34m,\u001b[0m \u001b[0;34m**\u001b[0m\u001b[0msend_kwargs\u001b[0m\u001b[0;34m)\u001b[0m\u001b[0;34m\u001b[0m\u001b[0m\n\u001b[0m\u001b[1;32m    509\u001b[0m \u001b[0;34m\u001b[0m\u001b[0m\n\u001b[1;32m    510\u001b[0m         \u001b[0;32mreturn\u001b[0m \u001b[0mresp\u001b[0m\u001b[0;34m\u001b[0m\u001b[0m\n",
      "\u001b[0;32m~/anaconda3/lib/python3.6/site-packages/requests/sessions.py\u001b[0m in \u001b[0;36msend\u001b[0;34m(self, request, **kwargs)\u001b[0m\n\u001b[1;32m    616\u001b[0m \u001b[0;34m\u001b[0m\u001b[0m\n\u001b[1;32m    617\u001b[0m         \u001b[0;31m# Send the request\u001b[0m\u001b[0;34m\u001b[0m\u001b[0;34m\u001b[0m\u001b[0m\n\u001b[0;32m--> 618\u001b[0;31m         \u001b[0mr\u001b[0m \u001b[0;34m=\u001b[0m \u001b[0madapter\u001b[0m\u001b[0;34m.\u001b[0m\u001b[0msend\u001b[0m\u001b[0;34m(\u001b[0m\u001b[0mrequest\u001b[0m\u001b[0;34m,\u001b[0m \u001b[0;34m**\u001b[0m\u001b[0mkwargs\u001b[0m\u001b[0;34m)\u001b[0m\u001b[0;34m\u001b[0m\u001b[0m\n\u001b[0m\u001b[1;32m    619\u001b[0m \u001b[0;34m\u001b[0m\u001b[0m\n\u001b[1;32m    620\u001b[0m         \u001b[0;31m# Total elapsed time of the request (approximately)\u001b[0m\u001b[0;34m\u001b[0m\u001b[0;34m\u001b[0m\u001b[0m\n",
      "\u001b[0;32m~/anaconda3/lib/python3.6/site-packages/requests/adapters.py\u001b[0m in \u001b[0;36msend\u001b[0;34m(self, request, stream, timeout, verify, cert, proxies)\u001b[0m\n\u001b[1;32m    438\u001b[0m                     \u001b[0mdecode_content\u001b[0m\u001b[0;34m=\u001b[0m\u001b[0;32mFalse\u001b[0m\u001b[0;34m,\u001b[0m\u001b[0;34m\u001b[0m\u001b[0m\n\u001b[1;32m    439\u001b[0m                     \u001b[0mretries\u001b[0m\u001b[0;34m=\u001b[0m\u001b[0mself\u001b[0m\u001b[0;34m.\u001b[0m\u001b[0mmax_retries\u001b[0m\u001b[0;34m,\u001b[0m\u001b[0;34m\u001b[0m\u001b[0m\n\u001b[0;32m--> 440\u001b[0;31m                     \u001b[0mtimeout\u001b[0m\u001b[0;34m=\u001b[0m\u001b[0mtimeout\u001b[0m\u001b[0;34m\u001b[0m\u001b[0m\n\u001b[0m\u001b[1;32m    441\u001b[0m                 )\n\u001b[1;32m    442\u001b[0m \u001b[0;34m\u001b[0m\u001b[0m\n",
      "\u001b[0;32m~/anaconda3/lib/python3.6/site-packages/urllib3/connectionpool.py\u001b[0m in \u001b[0;36murlopen\u001b[0;34m(self, method, url, body, headers, retries, redirect, assert_same_host, timeout, pool_timeout, release_conn, chunked, body_pos, **response_kw)\u001b[0m\n\u001b[1;32m    599\u001b[0m                                                   \u001b[0mtimeout\u001b[0m\u001b[0;34m=\u001b[0m\u001b[0mtimeout_obj\u001b[0m\u001b[0;34m,\u001b[0m\u001b[0;34m\u001b[0m\u001b[0m\n\u001b[1;32m    600\u001b[0m                                                   \u001b[0mbody\u001b[0m\u001b[0;34m=\u001b[0m\u001b[0mbody\u001b[0m\u001b[0;34m,\u001b[0m \u001b[0mheaders\u001b[0m\u001b[0;34m=\u001b[0m\u001b[0mheaders\u001b[0m\u001b[0;34m,\u001b[0m\u001b[0;34m\u001b[0m\u001b[0m\n\u001b[0;32m--> 601\u001b[0;31m                                                   chunked=chunked)\n\u001b[0m\u001b[1;32m    602\u001b[0m \u001b[0;34m\u001b[0m\u001b[0m\n\u001b[1;32m    603\u001b[0m             \u001b[0;31m# If we're going to release the connection in ``finally:``, then\u001b[0m\u001b[0;34m\u001b[0m\u001b[0;34m\u001b[0m\u001b[0m\n",
      "\u001b[0;32m~/anaconda3/lib/python3.6/site-packages/urllib3/connectionpool.py\u001b[0m in \u001b[0;36m_make_request\u001b[0;34m(self, conn, method, url, timeout, chunked, **httplib_request_kw)\u001b[0m\n\u001b[1;32m    381\u001b[0m             \u001b[0;32mexcept\u001b[0m \u001b[0mTypeError\u001b[0m\u001b[0;34m:\u001b[0m  \u001b[0;31m# Python 2.6 and older, Python 3\u001b[0m\u001b[0;34m\u001b[0m\u001b[0m\n\u001b[1;32m    382\u001b[0m                 \u001b[0;32mtry\u001b[0m\u001b[0;34m:\u001b[0m\u001b[0;34m\u001b[0m\u001b[0m\n\u001b[0;32m--> 383\u001b[0;31m                     \u001b[0mhttplib_response\u001b[0m \u001b[0;34m=\u001b[0m \u001b[0mconn\u001b[0m\u001b[0;34m.\u001b[0m\u001b[0mgetresponse\u001b[0m\u001b[0;34m(\u001b[0m\u001b[0;34m)\u001b[0m\u001b[0;34m\u001b[0m\u001b[0m\n\u001b[0m\u001b[1;32m    384\u001b[0m                 \u001b[0;32mexcept\u001b[0m \u001b[0mException\u001b[0m \u001b[0;32mas\u001b[0m \u001b[0me\u001b[0m\u001b[0;34m:\u001b[0m\u001b[0;34m\u001b[0m\u001b[0m\n\u001b[1;32m    385\u001b[0m                     \u001b[0;31m# Remove the TypeError from the exception chain in Python 3;\u001b[0m\u001b[0;34m\u001b[0m\u001b[0;34m\u001b[0m\u001b[0m\n",
      "\u001b[0;32m~/anaconda3/lib/python3.6/http/client.py\u001b[0m in \u001b[0;36mgetresponse\u001b[0;34m(self)\u001b[0m\n\u001b[1;32m   1329\u001b[0m         \u001b[0;32mtry\u001b[0m\u001b[0;34m:\u001b[0m\u001b[0;34m\u001b[0m\u001b[0m\n\u001b[1;32m   1330\u001b[0m             \u001b[0;32mtry\u001b[0m\u001b[0;34m:\u001b[0m\u001b[0;34m\u001b[0m\u001b[0m\n\u001b[0;32m-> 1331\u001b[0;31m                 \u001b[0mresponse\u001b[0m\u001b[0;34m.\u001b[0m\u001b[0mbegin\u001b[0m\u001b[0;34m(\u001b[0m\u001b[0;34m)\u001b[0m\u001b[0;34m\u001b[0m\u001b[0m\n\u001b[0m\u001b[1;32m   1332\u001b[0m             \u001b[0;32mexcept\u001b[0m \u001b[0mConnectionError\u001b[0m\u001b[0;34m:\u001b[0m\u001b[0;34m\u001b[0m\u001b[0m\n\u001b[1;32m   1333\u001b[0m                 \u001b[0mself\u001b[0m\u001b[0;34m.\u001b[0m\u001b[0mclose\u001b[0m\u001b[0;34m(\u001b[0m\u001b[0;34m)\u001b[0m\u001b[0;34m\u001b[0m\u001b[0m\n",
      "\u001b[0;32m~/anaconda3/lib/python3.6/http/client.py\u001b[0m in \u001b[0;36mbegin\u001b[0;34m(self)\u001b[0m\n\u001b[1;32m    295\u001b[0m         \u001b[0;31m# read until we get a non-100 response\u001b[0m\u001b[0;34m\u001b[0m\u001b[0;34m\u001b[0m\u001b[0m\n\u001b[1;32m    296\u001b[0m         \u001b[0;32mwhile\u001b[0m \u001b[0;32mTrue\u001b[0m\u001b[0;34m:\u001b[0m\u001b[0;34m\u001b[0m\u001b[0m\n\u001b[0;32m--> 297\u001b[0;31m             \u001b[0mversion\u001b[0m\u001b[0;34m,\u001b[0m \u001b[0mstatus\u001b[0m\u001b[0;34m,\u001b[0m \u001b[0mreason\u001b[0m \u001b[0;34m=\u001b[0m \u001b[0mself\u001b[0m\u001b[0;34m.\u001b[0m\u001b[0m_read_status\u001b[0m\u001b[0;34m(\u001b[0m\u001b[0;34m)\u001b[0m\u001b[0;34m\u001b[0m\u001b[0m\n\u001b[0m\u001b[1;32m    298\u001b[0m             \u001b[0;32mif\u001b[0m \u001b[0mstatus\u001b[0m \u001b[0;34m!=\u001b[0m \u001b[0mCONTINUE\u001b[0m\u001b[0;34m:\u001b[0m\u001b[0;34m\u001b[0m\u001b[0m\n\u001b[1;32m    299\u001b[0m                 \u001b[0;32mbreak\u001b[0m\u001b[0;34m\u001b[0m\u001b[0m\n",
      "\u001b[0;32m~/anaconda3/lib/python3.6/http/client.py\u001b[0m in \u001b[0;36m_read_status\u001b[0;34m(self)\u001b[0m\n\u001b[1;32m    256\u001b[0m \u001b[0;34m\u001b[0m\u001b[0m\n\u001b[1;32m    257\u001b[0m     \u001b[0;32mdef\u001b[0m \u001b[0m_read_status\u001b[0m\u001b[0;34m(\u001b[0m\u001b[0mself\u001b[0m\u001b[0;34m)\u001b[0m\u001b[0;34m:\u001b[0m\u001b[0;34m\u001b[0m\u001b[0m\n\u001b[0;32m--> 258\u001b[0;31m         \u001b[0mline\u001b[0m \u001b[0;34m=\u001b[0m \u001b[0mstr\u001b[0m\u001b[0;34m(\u001b[0m\u001b[0mself\u001b[0m\u001b[0;34m.\u001b[0m\u001b[0mfp\u001b[0m\u001b[0;34m.\u001b[0m\u001b[0mreadline\u001b[0m\u001b[0;34m(\u001b[0m\u001b[0m_MAXLINE\u001b[0m \u001b[0;34m+\u001b[0m \u001b[0;36m1\u001b[0m\u001b[0;34m)\u001b[0m\u001b[0;34m,\u001b[0m \u001b[0;34m\"iso-8859-1\"\u001b[0m\u001b[0;34m)\u001b[0m\u001b[0;34m\u001b[0m\u001b[0m\n\u001b[0m\u001b[1;32m    259\u001b[0m         \u001b[0;32mif\u001b[0m \u001b[0mlen\u001b[0m\u001b[0;34m(\u001b[0m\u001b[0mline\u001b[0m\u001b[0;34m)\u001b[0m \u001b[0;34m>\u001b[0m \u001b[0m_MAXLINE\u001b[0m\u001b[0;34m:\u001b[0m\u001b[0;34m\u001b[0m\u001b[0m\n\u001b[1;32m    260\u001b[0m             \u001b[0;32mraise\u001b[0m \u001b[0mLineTooLong\u001b[0m\u001b[0;34m(\u001b[0m\u001b[0;34m\"status line\"\u001b[0m\u001b[0;34m)\u001b[0m\u001b[0;34m\u001b[0m\u001b[0m\n",
      "\u001b[0;32m~/anaconda3/lib/python3.6/socket.py\u001b[0m in \u001b[0;36mreadinto\u001b[0;34m(self, b)\u001b[0m\n\u001b[1;32m    584\u001b[0m         \u001b[0;32mwhile\u001b[0m \u001b[0;32mTrue\u001b[0m\u001b[0;34m:\u001b[0m\u001b[0;34m\u001b[0m\u001b[0m\n\u001b[1;32m    585\u001b[0m             \u001b[0;32mtry\u001b[0m\u001b[0;34m:\u001b[0m\u001b[0;34m\u001b[0m\u001b[0m\n\u001b[0;32m--> 586\u001b[0;31m                 \u001b[0;32mreturn\u001b[0m \u001b[0mself\u001b[0m\u001b[0;34m.\u001b[0m\u001b[0m_sock\u001b[0m\u001b[0;34m.\u001b[0m\u001b[0mrecv_into\u001b[0m\u001b[0;34m(\u001b[0m\u001b[0mb\u001b[0m\u001b[0;34m)\u001b[0m\u001b[0;34m\u001b[0m\u001b[0m\n\u001b[0m\u001b[1;32m    587\u001b[0m             \u001b[0;32mexcept\u001b[0m \u001b[0mtimeout\u001b[0m\u001b[0;34m:\u001b[0m\u001b[0;34m\u001b[0m\u001b[0m\n\u001b[1;32m    588\u001b[0m                 \u001b[0mself\u001b[0m\u001b[0;34m.\u001b[0m\u001b[0m_timeout_occurred\u001b[0m \u001b[0;34m=\u001b[0m \u001b[0;32mTrue\u001b[0m\u001b[0;34m\u001b[0m\u001b[0m\n",
      "\u001b[0;31mKeyboardInterrupt\u001b[0m: "
     ]
    }
   ],
   "source": [
    "get_season_stats('Kevin', 'Durant')"
   ]
  },
  {
   "cell_type": "markdown",
   "metadata": {},
   "source": [
    "### Creates a Table of Close Games Only"
   ]
  },
  {
   "cell_type": "code",
   "execution_count": 42,
   "metadata": {},
   "outputs": [],
   "source": [
    "# Takes in a csv filepath of one of the EightThirtyFour data sets\n",
    "# and filters the data to games with a 10 or less point lead in \n",
    "# the last 6 minutes of the game.\n",
    "def game_filter(csv_file): \n",
    "    \n",
    "    \n",
    "    pbp = Table().read_table(csv_file)\n",
    "        \n",
    "    last_quarter = pbp.where('PERIOD', predicates.are.equal_to(4))\n",
    "    transformed_minutes = last_quarter.apply(time_string_to_number, 'PCTIMESTRING')\n",
    "    last_quarter_and_minutes = last_quarter.with_column('TIME', transformed_minutes)\n",
    "    \n",
    "    find_close_scores = last_quarter_and_minutes.where('TIME', predicates.are.between(6, 6.5))  \n",
    "\n",
    "    close_games_ids = make_array()   \n",
    "    last_id = 0\n",
    "    \n",
    "    for i in np.arange(find_close_scores.num_rows):      \n",
    "        row = find_close_scores.row(i)    \n",
    "        current_id = int(row[0])\n",
    "        if current_id != last_id:\n",
    "            diff = abs(int(row[7]) - int(row[8]))\n",
    "            if diff <= 10:\n",
    "                close_games_ids = np.append(current_id, close_games_ids)\n",
    "        last_id = current_id\n",
    "        \n",
    "        \n",
    "    close_games_table = Table().with_column('Close Games', close_games_ids)    \n",
    "    time_less_than_six = last_quarter_and_minutes.where('TIME', predicates.are.below(6.6))\n",
    "    time_less_than_six = time_less_than_six.join('GAME_ID', close_games_table, 'Close Games')\n",
    "    \n",
    "    return time_less_than_six\n"
   ]
  },
  {
   "cell_type": "markdown",
   "metadata": {},
   "source": [
    "### Writes the New Table to File"
   ]
  },
  {
   "cell_type": "code",
   "execution_count": 53,
   "metadata": {},
   "outputs": [],
   "source": [
    "#Write to File\n",
    "game_filter('PbP_15_16_reduced.csv').to_csv('PbP_15_16_trimmed.csv')"
   ]
  },
  {
   "cell_type": "code",
   "execution_count": 139,
   "metadata": {},
   "outputs": [
    {
     "data": {
      "text/html": [
       "<table border=\"1\" class=\"dataframe\">\n",
       "    <thead>\n",
       "        <tr>\n",
       "            <th>GAME_ID</th> <th>EVENTNUM</th> <th>PCTIMESTRING</th> <th>TIME</th> <th>PERIOD</th> <th>HOME_TEAM</th> <th>AWAY_TEAM</th> <th>HOME_SCORE</th> <th>AWAY_SCORE</th> <th>POINTS_SCORED</th> <th>SHOT_MADE</th> <th>SHOT_TYPE</th> <th>SHOT_DIST</th> <th>PLAYER1_ID</th> <th>PLAYER1_NAME</th> <th>PLAYER1_TEAM_NICKNAME</th> <th>ASSIST_PLAYER_ID</th> <th>EVENTMSGTYPE</th> <th>EVENTMSGACTIONTYPE</th>\n",
       "        </tr>\n",
       "    </thead>\n",
       "    <tbody>\n",
       "        <tr>\n",
       "            <td>21500002</td> <td>474     </td> <td>6:32        </td> <td>6.53333</td> <td>4     </td> <td>Bulls    </td> <td>Cavaliers</td> <td>80        </td> <td>79        </td> <td>0            </td> <td>nan      </td> <td>nan      </td> <td>nan      </td> <td>2747      </td> <td>J.R. Smith      </td> <td>Cavaliers            </td> <td>nan             </td> <td>Personal Foul</td> <td>P.FOUL                    </td>\n",
       "        </tr>\n",
       "    </tbody>\n",
       "        <tr>\n",
       "            <td>21500002</td> <td>476     </td> <td>6:20        </td> <td>6.33333</td> <td>4     </td> <td>Bulls    </td> <td>Cavaliers</td> <td>82        </td> <td>79        </td> <td>2            </td> <td>1        </td> <td>Shot     </td> <td>15       </td> <td>201565    </td> <td>Derrick Rose    </td> <td>Bulls                </td> <td>nan             </td> <td>Make         </td> <td>Pullup Jump Shot          </td>\n",
       "        </tr>\n",
       "    </tbody>\n",
       "        <tr>\n",
       "            <td>21500002</td> <td>479     </td> <td>6:01        </td> <td>6.01667</td> <td>4     </td> <td>Bulls    </td> <td>Cavaliers</td> <td>82        </td> <td>81        </td> <td>2            </td> <td>1        </td> <td>Dunk     </td> <td>nan      </td> <td>202684    </td> <td>Tristan Thompson</td> <td>Cavaliers            </td> <td>2590            </td> <td>Make         </td> <td>Dunk                      </td>\n",
       "        </tr>\n",
       "    </tbody>\n",
       "        <tr>\n",
       "            <td>21500002</td> <td>480     </td> <td>5:50        </td> <td>5.83333</td> <td>4     </td> <td>Bulls    </td> <td>Cavaliers</td> <td>82        </td> <td>81        </td> <td>0            </td> <td>0        </td> <td>Layup    </td> <td>2        </td> <td>201565    </td> <td>Derrick Rose    </td> <td>Bulls                </td> <td>nan             </td> <td>Miss         </td> <td>Driving Layup             </td>\n",
       "        </tr>\n",
       "    </tbody>\n",
       "        <tr>\n",
       "            <td>21500002</td> <td>481     </td> <td>5:48        </td> <td>5.8    </td> <td>4     </td> <td>Bulls    </td> <td>Cavaliers</td> <td>82        </td> <td>81        </td> <td>0            </td> <td>nan      </td> <td>nan      </td> <td>nan      </td> <td>201567    </td> <td>Kevin Love      </td> <td>Cavaliers            </td> <td>nan             </td> <td>Rebound      </td> <td>Player                    </td>\n",
       "        </tr>\n",
       "    </tbody>\n",
       "        <tr>\n",
       "            <td>21500002</td> <td>482     </td> <td>5:32        </td> <td>5.53333</td> <td>4     </td> <td>Bulls    </td> <td>Cavaliers</td> <td>82        </td> <td>83        </td> <td>2            </td> <td>1        </td> <td>Shot     </td> <td>7        </td> <td>2544      </td> <td>LeBron James    </td> <td>Cavaliers            </td> <td>nan             </td> <td>Make         </td> <td>Driving Floating Jump Shot</td>\n",
       "        </tr>\n",
       "    </tbody>\n",
       "        <tr>\n",
       "            <td>21500002</td> <td>483     </td> <td>5:18        </td> <td>5.3    </td> <td>4     </td> <td>Bulls    </td> <td>Cavaliers</td> <td>84        </td> <td>83        </td> <td>2            </td> <td>1        </td> <td>Shot     </td> <td>13       </td> <td>202703    </td> <td>Nikola Mirotic  </td> <td>Bulls                </td> <td>nan             </td> <td>Make         </td> <td>Driving Floating Jump Shot</td>\n",
       "        </tr>\n",
       "    </tbody>\n",
       "        <tr>\n",
       "            <td>21500002</td> <td>484     </td> <td>5:18        </td> <td>5.3    </td> <td>4     </td> <td>Bulls    </td> <td>Cavaliers</td> <td>84        </td> <td>83        </td> <td>0            </td> <td>nan      </td> <td>nan      </td> <td>nan      </td> <td>202684    </td> <td>Tristan Thompson</td> <td>Cavaliers            </td> <td>nan             </td> <td>Personal Foul</td> <td>S.FOUL                    </td>\n",
       "        </tr>\n",
       "    </tbody>\n",
       "        <tr>\n",
       "            <td>21500002</td> <td>485     </td> <td>5:18        </td> <td>5.3    </td> <td>4     </td> <td>Bulls    </td> <td>Cavaliers</td> <td>85        </td> <td>83        </td> <td>1            </td> <td>nan      </td> <td>nan      </td> <td>nan      </td> <td>202703    </td> <td>Nikola Mirotic  </td> <td>Bulls                </td> <td>nan             </td> <td>Free Throw   </td> <td>Free Throw 1 of 1         </td>\n",
       "        </tr>\n",
       "    </tbody>\n",
       "        <tr>\n",
       "            <td>21500002</td> <td>488     </td> <td>5:07        </td> <td>5.11667</td> <td>4     </td> <td>Bulls    </td> <td>Cavaliers</td> <td>85        </td> <td>83        </td> <td>0            </td> <td>0        </td> <td>Layup    </td> <td>3        </td> <td>201567    </td> <td>Kevin Love      </td> <td>Cavaliers            </td> <td>nan             </td> <td>Miss         </td> <td>Reverse Layup             </td>\n",
       "        </tr>\n",
       "    </tbody>\n",
       "</table>\n",
       "<p>... (51527 rows omitted)</p>"
      ],
      "text/plain": [
       "GAME_ID  | EVENTNUM | PCTIMESTRING | TIME    | PERIOD | HOME_TEAM | AWAY_TEAM | HOME_SCORE | AWAY_SCORE | POINTS_SCORED | SHOT_MADE | SHOT_TYPE | SHOT_DIST | PLAYER1_ID | PLAYER1_NAME     | PLAYER1_TEAM_NICKNAME | ASSIST_PLAYER_ID | EVENTMSGTYPE  | EVENTMSGACTIONTYPE\n",
       "21500002 | 474      | 6:32         | 6.53333 | 4      | Bulls     | Cavaliers | 80         | 79         | 0             | nan       | nan       | nan       | 2747       | J.R. Smith       | Cavaliers             | nan              | Personal Foul | P.FOUL\n",
       "21500002 | 476      | 6:20         | 6.33333 | 4      | Bulls     | Cavaliers | 82         | 79         | 2             | 1         | Shot      | 15        | 201565     | Derrick Rose     | Bulls                 | nan              | Make          | Pullup Jump Shot\n",
       "21500002 | 479      | 6:01         | 6.01667 | 4      | Bulls     | Cavaliers | 82         | 81         | 2             | 1         | Dunk      | nan       | 202684     | Tristan Thompson | Cavaliers             | 2590             | Make          | Dunk\n",
       "21500002 | 480      | 5:50         | 5.83333 | 4      | Bulls     | Cavaliers | 82         | 81         | 0             | 0         | Layup     | 2         | 201565     | Derrick Rose     | Bulls                 | nan              | Miss          | Driving Layup\n",
       "21500002 | 481      | 5:48         | 5.8     | 4      | Bulls     | Cavaliers | 82         | 81         | 0             | nan       | nan       | nan       | 201567     | Kevin Love       | Cavaliers             | nan              | Rebound       | Player\n",
       "21500002 | 482      | 5:32         | 5.53333 | 4      | Bulls     | Cavaliers | 82         | 83         | 2             | 1         | Shot      | 7         | 2544       | LeBron James     | Cavaliers             | nan              | Make          | Driving Floating Jump Shot\n",
       "21500002 | 483      | 5:18         | 5.3     | 4      | Bulls     | Cavaliers | 84         | 83         | 2             | 1         | Shot      | 13        | 202703     | Nikola Mirotic   | Bulls                 | nan              | Make          | Driving Floating Jump Shot\n",
       "21500002 | 484      | 5:18         | 5.3     | 4      | Bulls     | Cavaliers | 84         | 83         | 0             | nan       | nan       | nan       | 202684     | Tristan Thompson | Cavaliers             | nan              | Personal Foul | S.FOUL\n",
       "21500002 | 485      | 5:18         | 5.3     | 4      | Bulls     | Cavaliers | 85         | 83         | 1             | nan       | nan       | nan       | 202703     | Nikola Mirotic   | Bulls                 | nan              | Free Throw    | Free Throw 1 of 1\n",
       "21500002 | 488      | 5:07         | 5.11667 | 4      | Bulls     | Cavaliers | 85         | 83         | 0             | 0         | Layup     | 3         | 201567     | Kevin Love       | Cavaliers             | nan              | Miss          | Reverse Layup\n",
       "... (51527 rows omitted)"
      ]
     },
     "execution_count": 139,
     "metadata": {},
     "output_type": "execute_result"
    }
   ],
   "source": [
    "games = Table().read_table('PbP_15_16_trimmed.csv', sep=',')\n",
    "games"
   ]
  },
  {
   "cell_type": "markdown",
   "metadata": {},
   "source": [
    "### Helper Funciton to Create Game Reference Table"
   ]
  },
  {
   "cell_type": "code",
   "execution_count": 107,
   "metadata": {},
   "outputs": [],
   "source": [
    "# Sort the trimmed table to analyze on a game by game basis\n",
    "# builds a list of tuples of indecies, each tubple represents a unquue game in the table\n",
    "\n",
    "def isolate_game(table):\n",
    "    games = []\n",
    "    row_start = table.row(0)  \n",
    "    last_id1 = int(row_start[0])\n",
    "    current_id1 = 0\n",
    "    last_index = 0\n",
    "    count = 0\n",
    "    \n",
    "    for i in np.arange(table.num_rows):   \n",
    "        \n",
    "        row = table.row(i)           \n",
    "        current_id1 = int(row[0])\n",
    "        \n",
    "        if current_id1 != last_id1:\n",
    "            x = [last_index, i-1]\n",
    "\n",
    "            games.append(x)\n",
    "            count += 1\n",
    "            \n",
    "            # reset indicies\n",
    "            last_index = i\n",
    "            last_id1 = current_id1\n",
    "        \n",
    "    return games\n",
    "\n",
    "games_list = isolate_game(games)    \n",
    "\n",
    "    "
   ]
  },
  {
   "cell_type": "markdown",
   "metadata": {},
   "source": [
    "### Creates Game Reference Table"
   ]
  },
  {
   "cell_type": "code",
   "execution_count": 119,
   "metadata": {},
   "outputs": [
    {
     "data": {
      "text/html": [
       "<table border=\"1\" class=\"dataframe\">\n",
       "    <thead>\n",
       "        <tr>\n",
       "            <th>HOME_TEAM</th> <th>AWAY_TEAM</th> <th>GAME NUMBER</th> <th>INDICIES</th>\n",
       "        </tr>\n",
       "    </thead>\n",
       "    <tbody>\n",
       "        <tr>\n",
       "            <td>Bulls    </td> <td>Cavaliers   </td> <td>1          </td> <td>[ 0 69]  </td>\n",
       "        </tr>\n",
       "    </tbody>\n",
       "        <tr>\n",
       "            <td>Magic    </td> <td>Wizards     </td> <td>2          </td> <td>[ 70 149]</td>\n",
       "        </tr>\n",
       "    </tbody>\n",
       "        <tr>\n",
       "            <td>Celtics  </td> <td>76ers       </td> <td>3          </td> <td>[150 224]</td>\n",
       "        </tr>\n",
       "    </tbody>\n",
       "        <tr>\n",
       "            <td>Pistons  </td> <td>Jazz        </td> <td>4          </td> <td>[225 301]</td>\n",
       "        </tr>\n",
       "    </tbody>\n",
       "        <tr>\n",
       "            <td>Pacers   </td> <td>Raptors     </td> <td>5          </td> <td>[302 396]</td>\n",
       "        </tr>\n",
       "    </tbody>\n",
       "        <tr>\n",
       "            <td>Thunder  </td> <td>Spurs       </td> <td>6          </td> <td>[397 475]</td>\n",
       "        </tr>\n",
       "    </tbody>\n",
       "        <tr>\n",
       "            <td>Clippers </td> <td>Kings       </td> <td>7          </td> <td>[476 545]</td>\n",
       "        </tr>\n",
       "    </tbody>\n",
       "        <tr>\n",
       "            <td>Lakers   </td> <td>Timberwolves</td> <td>8          </td> <td>[546 624]</td>\n",
       "        </tr>\n",
       "    </tbody>\n",
       "        <tr>\n",
       "            <td>Pacers   </td> <td>Grizzlies   </td> <td>9          </td> <td>[625 690]</td>\n",
       "        </tr>\n",
       "    </tbody>\n",
       "        <tr>\n",
       "            <td>Thunder  </td> <td>Magic       </td> <td>10         </td> <td>[691 773]</td>\n",
       "        </tr>\n",
       "    </tbody>\n",
       "</table>\n",
       "<p>... (678 rows omitted)</p>"
      ],
      "text/plain": [
       "HOME_TEAM | AWAY_TEAM    | GAME NUMBER | INDICIES\n",
       "Bulls     | Cavaliers    | 1           | [ 0 69]\n",
       "Magic     | Wizards      | 2           | [ 70 149]\n",
       "Celtics   | 76ers        | 3           | [150 224]\n",
       "Pistons   | Jazz         | 4           | [225 301]\n",
       "Pacers    | Raptors      | 5           | [302 396]\n",
       "Thunder   | Spurs        | 6           | [397 475]\n",
       "Clippers  | Kings        | 7           | [476 545]\n",
       "Lakers    | Timberwolves | 8           | [546 624]\n",
       "Pacers    | Grizzlies    | 9           | [625 690]\n",
       "Thunder   | Magic        | 10          | [691 773]\n",
       "... (678 rows omitted)"
      ]
     },
     "execution_count": 119,
     "metadata": {},
     "output_type": "execute_result"
    }
   ],
   "source": [
    "def construct_game_reference_table():\n",
    "    count = 1\n",
    "    season = Table(make_array('HOME_TEAM', 'AWAY_TEAM'))\n",
    "    array = make_array()\n",
    "    for t in games_list:\n",
    "        index = t[0]\n",
    "        row = games.take(index).select('HOME_TEAM', 'AWAY_TEAM')\n",
    "        array = np.append(array, count)\n",
    "        count += 1\n",
    "        season = season.with_row(row)\n",
    "    season = season.with_column('GAME NUMBER', array).with_column('INDICIES', games_list)\n",
    "    return season \n",
    "      \n",
    "construct_game_reference_table()       "
   ]
  },
  {
   "cell_type": "markdown",
   "metadata": {},
   "source": [
    "### Creates Player Reference Table"
   ]
  },
  {
   "cell_type": "code",
   "execution_count": 230,
   "metadata": {},
   "outputs": [
    {
     "data": {
      "text/html": [
       "<table border=\"1\" class=\"dataframe\">\n",
       "    <thead>\n",
       "        <tr>\n",
       "            <th>PLAYER1_ID</th> <th>PLAYER_NAME</th> <th>FIRST_NAME</th> <th>LAST_NAME</th>\n",
       "        </tr>\n",
       "    </thead>\n",
       "    <tbody>\n",
       "        <tr>\n",
       "            <td>378       </td> <td>Craig Ehlo      </td> <td>Craig     </td> <td>Ehlo     </td>\n",
       "        </tr>\n",
       "    </tbody>\n",
       "        <tr>\n",
       "            <td>380       </td> <td>Tony Smith      </td> <td>Tony      </td> <td>Smith    </td>\n",
       "        </tr>\n",
       "    </tbody>\n",
       "        <tr>\n",
       "            <td>406       </td> <td>Shaquille O'Neal</td> <td>Shaquille </td> <td>O'Neal   </td>\n",
       "        </tr>\n",
       "    </tbody>\n",
       "        <tr>\n",
       "            <td>416       </td> <td>Willie Burton   </td> <td>Willie    </td> <td>Burton   </td>\n",
       "        </tr>\n",
       "    </tbody>\n",
       "        <tr>\n",
       "            <td>417       </td> <td>Sam Mitchell    </td> <td>Sam       </td> <td>Mitchell </td>\n",
       "        </tr>\n",
       "    </tbody>\n",
       "        <tr>\n",
       "            <td>426       </td> <td>Terry Davis     </td> <td>Terry     </td> <td>Davis    </td>\n",
       "        </tr>\n",
       "    </tbody>\n",
       "        <tr>\n",
       "            <td>428       </td> <td>Sherman Douglas </td> <td>Sherman   </td> <td>Douglas  </td>\n",
       "        </tr>\n",
       "    </tbody>\n",
       "        <tr>\n",
       "            <td>431       </td> <td>Shawn Kemp      </td> <td>Shawn     </td> <td>Kemp     </td>\n",
       "        </tr>\n",
       "    </tbody>\n",
       "        <tr>\n",
       "            <td>433       </td> <td>Buck Williams   </td> <td>Buck      </td> <td>Williams </td>\n",
       "        </tr>\n",
       "    </tbody>\n",
       "        <tr>\n",
       "            <td>434       </td> <td>Tony Dumas      </td> <td>Tony      </td> <td>Dumas    </td>\n",
       "        </tr>\n",
       "    </tbody>\n",
       "</table>\n",
       "<p>... (471 rows omitted)</p>"
      ],
      "text/plain": [
       "PLAYER1_ID | PLAYER_NAME      | FIRST_NAME | LAST_NAME\n",
       "378        | Craig Ehlo       | Craig      | Ehlo\n",
       "380        | Tony Smith       | Tony       | Smith\n",
       "406        | Shaquille O'Neal | Shaquille  | O'Neal\n",
       "416        | Willie Burton    | Willie     | Burton\n",
       "417        | Sam Mitchell     | Sam        | Mitchell\n",
       "426        | Terry Davis      | Terry      | Davis\n",
       "428        | Sherman Douglas  | Sherman    | Douglas\n",
       "431        | Shawn Kemp       | Shawn      | Kemp\n",
       "433        | Buck Williams    | Buck       | Williams\n",
       "434        | Tony Dumas       | Tony       | Dumas\n",
       "... (471 rows omitted)"
      ]
     },
     "execution_count": 230,
     "metadata": {},
     "output_type": "execute_result"
    }
   ],
   "source": [
    "players = games.select('PLAYER1_ID', 'PLAYER1_NAME')\n",
    "players = players.group('PLAYER1_ID', max).where('PLAYER1_NAME max', predicates.are.not_equal_to('nan')).relabel(1, 'PLAYER_NAME')\n",
    "\n",
    "def first(string):\n",
    "    name = string.split(' ')\n",
    "    first = name[0]\n",
    "    return first\n",
    "    \n",
    "def last(string):\n",
    "    name = string.split(' ')\n",
    "    if len(name) == 1:\n",
    "        return 'nan'\n",
    "    first = name[1]\n",
    "    return first\n",
    "\n",
    "players = players.with_column('FIRST_NAME', players.apply(first, 'PLAYER_NAME'))\n",
    "players = players.with_column('LAST_NAME', players.apply(last, 'PLAYER_NAME'))\n",
    "\n",
    "\n",
    "game1 = games.take(np.arange(0, 69))\n",
    "names = game1.select('PLAYER1_NAME')\n",
    "\n",
    "# players = players.join('PLAYER_NAME', names, 'PLAYER1_NAME').group('PLAYER1_ID', max)\n",
    "players\n",
    "\n",
    "# stats = make_array()\n",
    "# for i in np.arange(0, players.num_rows):\n",
    "#     row = players.row(i)\n",
    "#     stats = np.append(get_season_stats(row[2], row[3]), stats)\n",
    "    \n",
    "# stats"
   ]
  },
  {
   "cell_type": "markdown",
   "metadata": {},
   "source": [
    "# Analysis Begins Here"
   ]
  },
  {
   "cell_type": "code",
   "execution_count": null,
   "metadata": {},
   "outputs": [],
   "source": [
    "def shots_all_players(table):\n",
    "    #This function finds the number of shots that each player takes in time period\n",
    "    #(it doesn't distinguish the type of shot)\n",
    "    #it can be used for an entire game or for the last 6 minutes\n",
    "    shots = table.where('EVENTMSGTYPE', predicates.are.containing('M'))\n",
    "    players = shots.select('EVENTMSGTYPE', 'EVENTMSGACTIONTYPE', 'PLAYER1_NAME', 'PLAYER1_TEAM_NICKNAME')\n",
    "    count = players.group(('PLAYER1_NAME', 'PLAYER1_TEAM_NICKNAME'))\n",
    "    return count\n",
    "\n",
    "def max_shot_player_each_team(table, team1, team2):\n",
    "    #This takes in a table like player_count above\n",
    "    #It returns the player who shoots the most for each team\n",
    "    player_team_one = table.where('PLAYER1_TEAM_NICKNAME', team1).sort('count', descending=True).column('PLAYER1_NAME').item(0)\n",
    "    player_team_two = table.where('PLAYER1_TEAM_NICKNAME', team2).sort('count', descending=True).column('PLAYER1_NAME').item(0)\n",
    "    return (player_team_one, player_team_two)"
   ]
  }
 ],
 "metadata": {
  "kernelspec": {
   "display_name": "Python 3",
   "language": "python",
   "name": "python3"
  },
  "language_info": {
   "codemirror_mode": {
    "name": "ipython",
    "version": 3
   },
   "file_extension": ".py",
   "mimetype": "text/x-python",
   "name": "python",
   "nbconvert_exporter": "python",
   "pygments_lexer": "ipython3",
   "version": "3.6.4"
  }
 },
 "nbformat": 4,
 "nbformat_minor": 2
}
