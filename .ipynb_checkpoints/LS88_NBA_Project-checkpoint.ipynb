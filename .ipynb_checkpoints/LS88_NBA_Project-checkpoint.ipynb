{
 "cells": [
  {
   "cell_type": "markdown",
   "metadata": {},
   "source": [
    "# LS88 Project"
   ]
  },
  {
   "cell_type": "markdown",
   "metadata": {},
   "source": [
    "###   Imports"
   ]
  },
  {
   "cell_type": "code",
   "execution_count": 5,
   "metadata": {
    "collapsed": true
   },
   "outputs": [],
   "source": [
    "%matplotlib inline\n",
    "import numpy as np\n",
    "import datascience as ds\n",
    "from datascience import Table, make_array, predicates\n",
    "import nba_py as py\n",
    "from nba_py import player\n",
    "import matplotlib.pyplot as plt\n",
    "plt.style.use('fivethirtyeight')"
   ]
  },
  {
   "cell_type": "markdown",
   "metadata": {},
   "source": [
    "### Load all the Tables"
   ]
  },
  {
   "cell_type": "code",
   "execution_count": 6,
   "metadata": {},
   "outputs": [
    {
     "name": "stdout",
     "output_type": "stream",
     "text": [
      "All Games\n"
     ]
    },
    {
     "data": {
      "text/html": [
       "<table border=\"1\" class=\"dataframe\">\n",
       "    <thead>\n",
       "        <tr>\n",
       "            <th>GAME_ID</th> <th>EVENTNUM</th> <th>PCTIMESTRING</th> <th>TIME</th> <th>PERIOD</th> <th>HOME_TEAM</th> <th>AWAY_TEAM</th> <th>HOME_SCORE</th> <th>AWAY_SCORE</th> <th>POINTS_SCORED</th> <th>SHOT_MADE</th> <th>SHOT_TYPE</th> <th>SHOT_DIST</th> <th>PLAYER1_ID</th> <th>PLAYER1_NAME</th> <th>PLAYER1_TEAM_NICKNAME</th> <th>ASSIST_PLAYER_ID</th> <th>EVENTMSGTYPE</th> <th>EVENTMSGACTIONTYPE</th>\n",
       "        </tr>\n",
       "    </thead>\n",
       "    <tbody>\n",
       "        <tr>\n",
       "            <td>21500001</td> <td>0       </td> <td>12:00       </td> <td>0   </td> <td>1     </td> <td>Hawks    </td> <td>Pistons  </td> <td>0         </td> <td>0         </td> <td>0            </td> <td>nan      </td> <td>nan      </td> <td>nan      </td> <td>0         </td> <td>nan           </td> <td>nan                  </td> <td>nan             </td> <td>Start Period</td> <td>nan                              </td>\n",
       "        </tr>\n",
       "    </tbody>\n",
       "        <tr>\n",
       "            <td>21500001</td> <td>1       </td> <td>12:00       </td> <td>0   </td> <td>1     </td> <td>Hawks    </td> <td>Pistons  </td> <td>0         </td> <td>0         </td> <td>0            </td> <td>nan      </td> <td>nan      </td> <td>nan      </td> <td>201143    </td> <td>Al Horford    </td> <td>Hawks                </td> <td>nan             </td> <td>Jumpball    </td> <td>nan                              </td>\n",
       "        </tr>\n",
       "    </tbody>\n",
       "        <tr>\n",
       "            <td>21500001</td> <td>2       </td> <td>11:41       </td> <td>19  </td> <td>1     </td> <td>Hawks    </td> <td>Pistons  </td> <td>0         </td> <td>0         </td> <td>0            </td> <td>0        </td> <td>Layup    </td> <td>2        </td> <td>203083    </td> <td>Andre Drummond</td> <td>Pistons              </td> <td>nan             </td> <td>Miss        </td> <td>Driving Layup                    </td>\n",
       "        </tr>\n",
       "    </tbody>\n",
       "        <tr>\n",
       "            <td>21500001</td> <td>3       </td> <td>11:39       </td> <td>21  </td> <td>1     </td> <td>Hawks    </td> <td>Pistons  </td> <td>0         </td> <td>0         </td> <td>0            </td> <td>nan      </td> <td>nan      </td> <td>nan      </td> <td>203145    </td> <td>Kent Bazemore </td> <td>Hawks                </td> <td>nan             </td> <td>Rebound     </td> <td>Player                           </td>\n",
       "        </tr>\n",
       "    </tbody>\n",
       "        <tr>\n",
       "            <td>21500001</td> <td>4       </td> <td>11:37       </td> <td>23  </td> <td>1     </td> <td>Hawks    </td> <td>Pistons  </td> <td>0         </td> <td>0         </td> <td>0            </td> <td>nan      </td> <td>nan      </td> <td>nan      </td> <td>203145    </td> <td>Kent Bazemore </td> <td>Hawks                </td> <td>nan             </td> <td>Turnover    </td> <td>Out of Bounds - Bad Pass Turnover</td>\n",
       "        </tr>\n",
       "    </tbody>\n",
       "</table>\n",
       "<p>... (568327 rows omitted)</p>"
      ],
      "text/plain": [
       "<IPython.core.display.HTML object>"
      ]
     },
     "metadata": {},
     "output_type": "display_data"
    },
    {
     "name": "stdout",
     "output_type": "stream",
     "text": [
      "\n",
      "Close Games in 4th Quarter, 6 Mintues Left\n"
     ]
    },
    {
     "data": {
      "text/html": [
       "<table border=\"1\" class=\"dataframe\">\n",
       "    <thead>\n",
       "        <tr>\n",
       "            <th>GAME_ID</th> <th>EVENTNUM</th> <th>PCTIMESTRING</th> <th>TIME</th> <th>PERIOD</th> <th>HOME_TEAM</th> <th>AWAY_TEAM</th> <th>HOME_SCORE</th> <th>AWAY_SCORE</th> <th>POINTS_SCORED</th> <th>SHOT_MADE</th> <th>SHOT_TYPE</th> <th>SHOT_DIST</th> <th>PLAYER1_ID</th> <th>PLAYER1_NAME</th> <th>PLAYER1_TEAM_NICKNAME</th> <th>ASSIST_PLAYER_ID</th> <th>EVENTMSGTYPE</th> <th>EVENTMSGACTIONTYPE</th>\n",
       "        </tr>\n",
       "    </thead>\n",
       "    <tbody>\n",
       "        <tr>\n",
       "            <td>21500002</td> <td>474     </td> <td>6:32        </td> <td>6.53333</td> <td>4     </td> <td>Bulls    </td> <td>Cavaliers</td> <td>80        </td> <td>79        </td> <td>0            </td> <td>nan      </td> <td>nan      </td> <td>nan      </td> <td>2747      </td> <td>J.R. Smith      </td> <td>Cavaliers            </td> <td>nan             </td> <td>Personal Foul</td> <td>P.FOUL            </td>\n",
       "        </tr>\n",
       "    </tbody>\n",
       "        <tr>\n",
       "            <td>21500002</td> <td>476     </td> <td>6:20        </td> <td>6.33333</td> <td>4     </td> <td>Bulls    </td> <td>Cavaliers</td> <td>82        </td> <td>79        </td> <td>2            </td> <td>1        </td> <td>Shot     </td> <td>15       </td> <td>201565    </td> <td>Derrick Rose    </td> <td>Bulls                </td> <td>nan             </td> <td>Make         </td> <td>Pullup Jump Shot  </td>\n",
       "        </tr>\n",
       "    </tbody>\n",
       "        <tr>\n",
       "            <td>21500002</td> <td>479     </td> <td>6:01        </td> <td>6.01667</td> <td>4     </td> <td>Bulls    </td> <td>Cavaliers</td> <td>82        </td> <td>81        </td> <td>2            </td> <td>1        </td> <td>Dunk     </td> <td>nan      </td> <td>202684    </td> <td>Tristan Thompson</td> <td>Cavaliers            </td> <td>2590            </td> <td>Make         </td> <td>Dunk              </td>\n",
       "        </tr>\n",
       "    </tbody>\n",
       "        <tr>\n",
       "            <td>21500002</td> <td>480     </td> <td>5:50        </td> <td>5.83333</td> <td>4     </td> <td>Bulls    </td> <td>Cavaliers</td> <td>82        </td> <td>81        </td> <td>0            </td> <td>0        </td> <td>Layup    </td> <td>2        </td> <td>201565    </td> <td>Derrick Rose    </td> <td>Bulls                </td> <td>nan             </td> <td>Miss         </td> <td>Driving Layup     </td>\n",
       "        </tr>\n",
       "    </tbody>\n",
       "        <tr>\n",
       "            <td>21500002</td> <td>481     </td> <td>5:48        </td> <td>5.8    </td> <td>4     </td> <td>Bulls    </td> <td>Cavaliers</td> <td>82        </td> <td>81        </td> <td>0            </td> <td>nan      </td> <td>nan      </td> <td>nan      </td> <td>201567    </td> <td>Kevin Love      </td> <td>Cavaliers            </td> <td>nan             </td> <td>Rebound      </td> <td>Player            </td>\n",
       "        </tr>\n",
       "    </tbody>\n",
       "</table>\n",
       "<p>... (51532 rows omitted)</p>"
      ],
      "text/plain": [
       "<IPython.core.display.HTML object>"
      ]
     },
     "metadata": {},
     "output_type": "display_data"
    },
    {
     "name": "stdout",
     "output_type": "stream",
     "text": [
      "\n",
      "Row Ranges of Each Game in Close Games\n"
     ]
    },
    {
     "data": {
      "text/html": [
       "<table border=\"1\" class=\"dataframe\">\n",
       "    <thead>\n",
       "        <tr>\n",
       "            <th>HOME_TEAM</th> <th>AWAY_TEAM</th> <th>GAME NUMBER</th> <th>FIRST_INDEX</th> <th>LAST_INDEX</th>\n",
       "        </tr>\n",
       "    </thead>\n",
       "    <tbody>\n",
       "        <tr>\n",
       "            <td>Bulls    </td> <td>Cavaliers</td> <td>1          </td> <td>0          </td> <td>69        </td>\n",
       "        </tr>\n",
       "    </tbody>\n",
       "        <tr>\n",
       "            <td>Magic    </td> <td>Wizards  </td> <td>2          </td> <td>70         </td> <td>149       </td>\n",
       "        </tr>\n",
       "    </tbody>\n",
       "        <tr>\n",
       "            <td>Celtics  </td> <td>76ers    </td> <td>3          </td> <td>150        </td> <td>224       </td>\n",
       "        </tr>\n",
       "    </tbody>\n",
       "        <tr>\n",
       "            <td>Pistons  </td> <td>Jazz     </td> <td>4          </td> <td>225        </td> <td>301       </td>\n",
       "        </tr>\n",
       "    </tbody>\n",
       "        <tr>\n",
       "            <td>Pacers   </td> <td>Raptors  </td> <td>5          </td> <td>302        </td> <td>396       </td>\n",
       "        </tr>\n",
       "    </tbody>\n",
       "</table>\n",
       "<p>... (683 rows omitted)</p>"
      ],
      "text/plain": [
       "<IPython.core.display.HTML object>"
      ]
     },
     "metadata": {},
     "output_type": "display_data"
    },
    {
     "name": "stdout",
     "output_type": "stream",
     "text": [
      "\n",
      "All Players and their Relevant Stats\n"
     ]
    },
    {
     "data": {
      "text/html": [
       "<table border=\"1\" class=\"dataframe\">\n",
       "    <thead>\n",
       "        <tr>\n",
       "            <th>Player_ID</th> <th>Player</th> <th>First_Name</th> <th>Last_Name</th> <th>TS%</th> <th>EFG%</th> <th>PER</th> <th>3PAr</th> <th>G</th> <th>MP</th> <th>Pos</th>\n",
       "        </tr>\n",
       "    </thead>\n",
       "    <tbody>\n",
       "        <tr>\n",
       "            <td>201166   </td> <td>Aaron Brooks  </td> <td>Aaron     </td> <td>Brooks   </td> <td>0.49333 </td> <td>0.470588</td> <td>11.8</td> <td>0.394</td> <td>69  </td> <td>1108</td> <td>PG  </td>\n",
       "        </tr>\n",
       "    </tbody>\n",
       "        <tr>\n",
       "            <td>203932   </td> <td>Aaron Gordon  </td> <td>Aaron     </td> <td>Gordon   </td> <td>0.541176</td> <td>0.506757</td> <td>17  </td> <td>0.245</td> <td>78  </td> <td>1863</td> <td>PF  </td>\n",
       "        </tr>\n",
       "    </tbody>\n",
       "        <tr>\n",
       "            <td>1626151  </td> <td>Aaron Harrison</td> <td>Aaron     </td> <td>Harrison </td> <td>0.386598</td> <td>0.277778</td> <td>4.3 </td> <td>0.526</td> <td>21  </td> <td>93  </td> <td>SG  </td>\n",
       "        </tr>\n",
       "    </tbody>\n",
       "        <tr>\n",
       "            <td>203940   </td> <td>Adreian Payne </td> <td>Adreian   </td> <td>Payne    </td> <td>0.413907</td> <td>0.392857</td> <td>5.6 </td> <td>0.221</td> <td>52  </td> <td>486 </td> <td>PF  </td>\n",
       "        </tr>\n",
       "    </tbody>\n",
       "        <tr>\n",
       "            <td>201143   </td> <td>Al Horford    </td> <td>Al        </td> <td>Horford  </td> <td>0.562796</td> <td>0.550781</td> <td>19.4</td> <td>0.244</td> <td>82  </td> <td>2631</td> <td>C   </td>\n",
       "        </tr>\n",
       "    </tbody>\n",
       "</table>\n",
       "<p>... (497 rows omitted)</p>"
      ],
      "text/plain": [
       "<IPython.core.display.HTML object>"
      ]
     },
     "metadata": {},
     "output_type": "display_data"
    },
    {
     "name": "stdout",
     "output_type": "stream",
     "text": [
      "\n"
     ]
    },
    {
     "data": {
      "text/plain": [
       "{'3PAr': '3 Point Attempt Rate',\n",
       " 'EFG%': 'Effective Field Goal Percentage',\n",
       " 'G': 'Games',\n",
       " 'MP': 'Minutes Played',\n",
       " 'PER': 'ESPN PER Player Rating (A way to rank NBA players)',\n",
       " 'Pos': 'Position',\n",
       " 'TS%': 'True Shooting Percentage'}"
      ]
     },
     "execution_count": 6,
     "metadata": {},
     "output_type": "execute_result"
    }
   ],
   "source": [
    "print(\"All Games\")\n",
    "all_games = Table().read_table('PbP_15_16_reduced.csv', sep=',')\n",
    "all_games.show(5)\n",
    "print('')\n",
    "\n",
    "print('Close Games in 4th Quarter, 6 Mintues Left')\n",
    "close_games_under_six = Table().read_table('PbP_15_16_trimmed.csv', sep=',')\n",
    "close_games_under_six.show(5)\n",
    "print('')\n",
    "\n",
    "print('Row Ranges of Each Game in Close Games')\n",
    "game_ref = Table().read_table('gamereference.csv', sep=',')\n",
    "game_ref.show(5)\n",
    "print('')\n",
    "\n",
    "print('All Players and their Relevant Stats')\n",
    "player_ref = Table().read_table('player_ref.csv', sep=',')\n",
    "player_ref.show(5)\n",
    "print('')\n",
    "\n",
    "\n",
    "label_meaning = {}\n",
    "label_meaning['TS%'] = 'True Shooting Percentage'\n",
    "label_meaning['EFG%'] = 'Effective Field Goal Percentage'\n",
    "label_meaning['PER'] = 'ESPN PER Player Rating (A way to rank NBA players)'\n",
    "label_meaning['3PAr'] = '3 Point Attempt Rate'\n",
    "label_meaning['G'] = 'Games'\n",
    "label_meaning['MP'] = 'Minutes Played'\n",
    "label_meaning['Pos'] = 'Position'\n",
    "label_meaning"
   ]
  },
  {
   "cell_type": "markdown",
   "metadata": {},
   "source": [
    "# Analysis Begins Here"
   ]
  },
  {
   "cell_type": "code",
   "execution_count": 20,
   "metadata": {
    "collapsed": true
   },
   "outputs": [],
   "source": [
    "def shots_all_players(table):\n",
    "    #This function finds the number of shots that each player takes in time period\n",
    "    #(it doesn't distinguish the type of shot)\n",
    "    #it can be used for an entire game or for the last 6 minutes\n",
    "    shots = table.where('EVENTMSGTYPE', predicates.are.containing('M'))\n",
    "    players = shots.select('EVENTMSGTYPE', 'PLAYER1_NAME', 'PLAYER1_TEAM_NICKNAME', 'HOME_TEAM', 'AWAY_TEAM')\n",
    "    count = players.groups(['PLAYER1_NAME', \"PLAYER1_TEAM_NICKNAME\"])\n",
    "    return count\n",
    "\n",
    "def seperate_teams(table):\n",
    "    #This function creates two tables from the last_six_minutes_table for each team\n",
    "    return table.group(\"PLAYER1_TEAM_NICKNAME\").column(0)\n",
    "\n",
    "def max_shot_player_each_team_name(table):\n",
    "    #This takes in a table of one game (entire game or last 6 minutes)\n",
    "    #It returns the player who shoots the most for each team\n",
    "    team_names = seperate_teams(table)\n",
    "    player_team_one = table.where(\"PLAYER1_TEAM_NICKNAME\", team_names.item(0)).sort('count', descending=True).column('PLAYER1_NAME').item(0)\n",
    "    player_team_two = table.where(\"PLAYER1_TEAM_NICKNAME\", team_names.item(1)).sort('count', descending=True).column('PLAYER1_NAME').item(0)\n",
    "    return (player_team_one, player_team_two)\n",
    "\n",
    "def max_shots(table):\n",
    "    #This takes in a table of one game (entire game or last 6 minutes)\n",
    "    #It returns the player who shoots the most for each team\n",
    "    team_names = seperate_teams(table)\n",
    "    shots_player_one = table.where(\"PLAYER1_TEAM_NICKNAME\", team_names.item(0)).sort('count', descending=True).column('count').item(0)\n",
    "    shots_player_two = table.where(\"PLAYER1_TEAM_NICKNAME\", team_names.item(1)).sort('count', descending=True).column('count').item(0)\n",
    "    return (shots_player_one, shots_player_two)\n",
    "\n",
    "def total_shot_number(table):\n",
    "    #returns the number of shots for each team in the last 6 minutes\n",
    "    team_names = seperate_teams(table)\n",
    "    total_shots1 = sum(table.where(\"PLAYER1_TEAM_NICKNAME\", team_names.item(0)).column(\"count\"))\n",
    "    total_shots2 = sum(table.where(\"PLAYER1_TEAM_NICKNAME\", team_names.item(1)).column(\"count\"))\n",
    "    return (total_shots1, total_shots2)\n",
    "\n",
    "def average_player_each_team(table):\n",
    "    #returns the number of shots of the average player\n",
    "    average_shots1 = np.average(table.where(\"PLAYER1_TEAM_NICKNAME\", team_names.item(0)).column(\"count\"))\n",
    "    average_shots2 = np.average(table.where(\"PLAYER1_TEAM_NICKNAME\", team_names.item(1)).column(\"count\"))\n",
    "    return (total_shots1, total_shots2)\n",
    "\n"
   ]
  },
  {
   "cell_type": "code",
   "execution_count": 23,
   "metadata": {},
   "outputs": [
    {
     "data": {
      "text/plain": [
       "(98, 140)"
      ]
     },
     "execution_count": 23,
     "metadata": {},
     "output_type": "execute_result"
    }
   ],
   "source": [
    "max_shots(shots_all_players(close_games_under_six))"
   ]
  },
  {
   "cell_type": "code",
   "execution_count": 33,
   "metadata": {
    "scrolled": true
   },
   "outputs": [
    {
     "data": {
      "text/html": [
       "<table border=\"1\" class=\"dataframe\">\n",
       "    <thead>\n",
       "        <tr>\n",
       "            <th>PLAYER1_NAME</th> <th>PLAYER1_TEAM_NICKNAME</th> <th>count</th>\n",
       "        </tr>\n",
       "    </thead>\n",
       "    <tbody>\n",
       "        <tr>\n",
       "            <td>Aaron Brooks   </td> <td>Bulls                </td> <td>34   </td>\n",
       "        </tr>\n",
       "    </tbody>\n",
       "        <tr>\n",
       "            <td>Aaron Gordon   </td> <td>Magic                </td> <td>35   </td>\n",
       "        </tr>\n",
       "    </tbody>\n",
       "        <tr>\n",
       "            <td>Aaron Harrison </td> <td>Hornets              </td> <td>1    </td>\n",
       "        </tr>\n",
       "    </tbody>\n",
       "        <tr>\n",
       "            <td>Adreian Payne  </td> <td>Timberwolves         </td> <td>1    </td>\n",
       "        </tr>\n",
       "    </tbody>\n",
       "        <tr>\n",
       "            <td>Al Horford     </td> <td>Hawks                </td> <td>95   </td>\n",
       "        </tr>\n",
       "    </tbody>\n",
       "        <tr>\n",
       "            <td>Al Jefferson   </td> <td>Hornets              </td> <td>25   </td>\n",
       "        </tr>\n",
       "    </tbody>\n",
       "        <tr>\n",
       "            <td>Al-Farouq Aminu</td> <td>Trail Blazers        </td> <td>58   </td>\n",
       "        </tr>\n",
       "    </tbody>\n",
       "        <tr>\n",
       "            <td>Alan Anderson  </td> <td>Wizards              </td> <td>4    </td>\n",
       "        </tr>\n",
       "    </tbody>\n",
       "        <tr>\n",
       "            <td>Alec Burks     </td> <td>Jazz                 </td> <td>50   </td>\n",
       "        </tr>\n",
       "    </tbody>\n",
       "        <tr>\n",
       "            <td>Alex Len       </td> <td>Suns                 </td> <td>30   </td>\n",
       "        </tr>\n",
       "    </tbody>\n",
       "</table>\n",
       "<p>... (453 rows omitted)</p>"
      ],
      "text/plain": [
       "PLAYER1_NAME    | PLAYER1_TEAM_NICKNAME | count\n",
       "Aaron Brooks    | Bulls                 | 34\n",
       "Aaron Gordon    | Magic                 | 35\n",
       "Aaron Harrison  | Hornets               | 1\n",
       "Adreian Payne   | Timberwolves          | 1\n",
       "Al Horford      | Hawks                 | 95\n",
       "Al Jefferson    | Hornets               | 25\n",
       "Al-Farouq Aminu | Trail Blazers         | 58\n",
       "Alan Anderson   | Wizards               | 4\n",
       "Alec Burks      | Jazz                  | 50\n",
       "Alex Len        | Suns                  | 30\n",
       "... (453 rows omitted)"
      ]
     },
     "execution_count": 33,
     "metadata": {},
     "output_type": "execute_result"
    }
   ],
   "source": [
    "shots_all_players(close_games_under_six)"
   ]
  },
  {
   "cell_type": "code",
   "execution_count": 34,
   "metadata": {
    "collapsed": true
   },
   "outputs": [],
   "source": [
    "close_game_ids = close_games_under_six.group('GAME_ID').column(0)"
   ]
  },
  {
   "cell_type": "code",
   "execution_count": 35,
   "metadata": {},
   "outputs": [
    {
     "data": {
      "text/plain": [
       "689"
      ]
     },
     "execution_count": 35,
     "metadata": {},
     "output_type": "execute_result"
    }
   ],
   "source": [
    "len(close_game_ids)"
   ]
  },
  {
   "cell_type": "code",
   "execution_count": 4,
   "metadata": {},
   "outputs": [
    {
     "ename": "NameError",
     "evalue": "name 'close_game_ids' is not defined",
     "output_type": "error",
     "traceback": [
      "\u001b[0;31m---------------------------------------------------------------------------\u001b[0m",
      "\u001b[0;31mNameError\u001b[0m                                 Traceback (most recent call last)",
      "\u001b[0;32m<ipython-input-4-1e8dcd3a15b8>\u001b[0m in \u001b[0;36m<module>\u001b[0;34m()\u001b[0m\n\u001b[0;32m----> 1\u001b[0;31m \u001b[0;32mfor\u001b[0m \u001b[0mi\u001b[0m \u001b[0;32min\u001b[0m \u001b[0mclose_game_ids\u001b[0m\u001b[0;34m:\u001b[0m\u001b[0;34m\u001b[0m\u001b[0m\n\u001b[0m\u001b[1;32m      2\u001b[0m     \u001b[0mgame\u001b[0m \u001b[0;34m=\u001b[0m \u001b[0mclose_games_under_six\u001b[0m\u001b[0;34m.\u001b[0m\u001b[0mwhere\u001b[0m\u001b[0;34m(\u001b[0m\u001b[0;34m\"GAME_ID\"\u001b[0m\u001b[0;34m,\u001b[0m \u001b[0mi\u001b[0m\u001b[0;34m)\u001b[0m\u001b[0;34m\u001b[0m\u001b[0m\n\u001b[1;32m      3\u001b[0m     \u001b[0mshots\u001b[0m \u001b[0;34m=\u001b[0m \u001b[0mshots_all_players\u001b[0m\u001b[0;34m(\u001b[0m\u001b[0mgame\u001b[0m\u001b[0;34m)\u001b[0m\u001b[0;34m\u001b[0m\u001b[0m\n\u001b[1;32m      4\u001b[0m     \u001b[0mmax_players\u001b[0m \u001b[0;34m=\u001b[0m \u001b[0mmax_shot_player_each_team\u001b[0m\u001b[0;34m(\u001b[0m\u001b[0mshots\u001b[0m\u001b[0;34m)\u001b[0m\u001b[0;34m\u001b[0m\u001b[0m\n\u001b[1;32m      5\u001b[0m     \u001b[0mmax_proportions\u001b[0m \u001b[0;34m=\u001b[0m \u001b[0mmax\u001b[0m\u001b[0;34m(\u001b[0m\u001b[0;34m)\u001b[0m\u001b[0;34m\u001b[0m\u001b[0m\n",
      "\u001b[0;31mNameError\u001b[0m: name 'close_game_ids' is not defined"
     ]
    }
   ],
   "source": [
    "for i in close_game_ids:\n",
    "    game = close_games_under_six.where(\"GAME_ID\", i)\n",
    "    shots = shots_all_players(game)\n",
    "    max_players = max_shot_player_each_team(shots)\n",
    "    \n",
    "    max_proportions = max_players"
   ]
  },
  {
   "cell_type": "code",
   "execution_count": null,
   "metadata": {
    "collapsed": true
   },
   "outputs": [],
   "source": []
  }
 ],
 "metadata": {
  "kernelspec": {
   "display_name": "Python 3",
   "language": "python",
   "name": "python3"
  },
  "language_info": {
   "codemirror_mode": {
    "name": "ipython",
    "version": 3
   },
   "file_extension": ".py",
   "mimetype": "text/x-python",
   "name": "python",
   "nbconvert_exporter": "python",
   "pygments_lexer": "ipython3",
   "version": "3.6.3"
  }
 },
 "nbformat": 4,
 "nbformat_minor": 2
}
