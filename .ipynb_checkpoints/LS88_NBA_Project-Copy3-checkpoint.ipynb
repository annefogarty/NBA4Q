{
 "cells": [
  {
   "cell_type": "markdown",
   "metadata": {},
   "source": [
    "# LS88 Project"
   ]
  },
  {
   "cell_type": "markdown",
   "metadata": {},
   "source": [
    "###   Imports"
   ]
  },
  {
   "cell_type": "code",
   "execution_count": 55,
   "metadata": {
    "collapsed": true
   },
   "outputs": [],
   "source": [
    "%matplotlib inline\n",
    "import numpy as np\n",
    "import datascience as ds\n",
    "from datascience import Table, make_array, predicates\n",
    "import nba_py as py\n",
    "from nba_py import player\n",
    "import matplotlib.pyplot as plt\n",
    "plt.style.use('fivethirtyeight')\n",
    "import random"
   ]
  },
  {
   "cell_type": "markdown",
   "metadata": {},
   "source": [
    "### Load all the Tables"
   ]
  },
  {
   "cell_type": "code",
   "execution_count": 42,
   "metadata": {},
   "outputs": [
    {
     "name": "stdout",
     "output_type": "stream",
     "text": [
      "All Games\n"
     ]
    },
    {
     "data": {
      "text/html": [
       "<table border=\"1\" class=\"dataframe\">\n",
       "    <thead>\n",
       "        <tr>\n",
       "            <th>GAME_ID</th> <th>EVENTNUM</th> <th>PCTIMESTRING</th> <th>TIME</th> <th>PERIOD</th> <th>HOME_TEAM</th> <th>AWAY_TEAM</th> <th>HOME_SCORE</th> <th>AWAY_SCORE</th> <th>POINTS_SCORED</th> <th>SHOT_MADE</th> <th>SHOT_TYPE</th> <th>SHOT_DIST</th> <th>PLAYER1_ID</th> <th>PLAYER1_NAME</th> <th>PLAYER1_TEAM_NICKNAME</th> <th>ASSIST_PLAYER_ID</th> <th>EVENTMSGTYPE</th> <th>EVENTMSGACTIONTYPE</th> <th>Row Number</th>\n",
       "        </tr>\n",
       "    </thead>\n",
       "    <tbody>\n",
       "        <tr>\n",
       "            <td>21500001</td> <td>0       </td> <td>12:00       </td> <td>0   </td> <td>1     </td> <td>Hawks    </td> <td>Pistons  </td> <td>0         </td> <td>0         </td> <td>0            </td> <td>nan      </td> <td>nan      </td> <td>nan      </td> <td>0         </td> <td>nan           </td> <td>nan                  </td> <td>nan             </td> <td>Start Period</td> <td>nan                              </td> <td>0         </td>\n",
       "        </tr>\n",
       "    </tbody>\n",
       "        <tr>\n",
       "            <td>21500001</td> <td>1       </td> <td>12:00       </td> <td>0   </td> <td>1     </td> <td>Hawks    </td> <td>Pistons  </td> <td>0         </td> <td>0         </td> <td>0            </td> <td>nan      </td> <td>nan      </td> <td>nan      </td> <td>201143    </td> <td>Al Horford    </td> <td>Hawks                </td> <td>nan             </td> <td>Jumpball    </td> <td>nan                              </td> <td>1         </td>\n",
       "        </tr>\n",
       "    </tbody>\n",
       "        <tr>\n",
       "            <td>21500001</td> <td>2       </td> <td>11:41       </td> <td>19  </td> <td>1     </td> <td>Hawks    </td> <td>Pistons  </td> <td>0         </td> <td>0         </td> <td>0            </td> <td>0        </td> <td>Layup    </td> <td>2        </td> <td>203083    </td> <td>Andre Drummond</td> <td>Pistons              </td> <td>nan             </td> <td>Miss        </td> <td>Driving Layup                    </td> <td>2         </td>\n",
       "        </tr>\n",
       "    </tbody>\n",
       "        <tr>\n",
       "            <td>21500001</td> <td>3       </td> <td>11:39       </td> <td>21  </td> <td>1     </td> <td>Hawks    </td> <td>Pistons  </td> <td>0         </td> <td>0         </td> <td>0            </td> <td>nan      </td> <td>nan      </td> <td>nan      </td> <td>203145    </td> <td>Kent Bazemore </td> <td>Hawks                </td> <td>nan             </td> <td>Rebound     </td> <td>Player                           </td> <td>3         </td>\n",
       "        </tr>\n",
       "    </tbody>\n",
       "        <tr>\n",
       "            <td>21500001</td> <td>4       </td> <td>11:37       </td> <td>23  </td> <td>1     </td> <td>Hawks    </td> <td>Pistons  </td> <td>0         </td> <td>0         </td> <td>0            </td> <td>nan      </td> <td>nan      </td> <td>nan      </td> <td>203145    </td> <td>Kent Bazemore </td> <td>Hawks                </td> <td>nan             </td> <td>Turnover    </td> <td>Out of Bounds - Bad Pass Turnover</td> <td>4         </td>\n",
       "        </tr>\n",
       "    </tbody>\n",
       "</table>\n",
       "<p>... (568327 rows omitted)</p>"
      ],
      "text/plain": [
       "<IPython.core.display.HTML object>"
      ]
     },
     "metadata": {},
     "output_type": "display_data"
    },
    {
     "name": "stdout",
     "output_type": "stream",
     "text": [
      "\n",
      "Close Games in 4th Quarter, 6 Mintues Left\n"
     ]
    },
    {
     "data": {
      "text/html": [
       "<table border=\"1\" class=\"dataframe\">\n",
       "    <thead>\n",
       "        <tr>\n",
       "            <th>GAME_ID</th> <th>EVENTNUM</th> <th>PCTIMESTRING</th> <th>TIME</th> <th>PERIOD</th> <th>HOME_TEAM</th> <th>AWAY_TEAM</th> <th>HOME_SCORE</th> <th>AWAY_SCORE</th> <th>POINTS_SCORED</th> <th>SHOT_MADE</th> <th>SHOT_TYPE</th> <th>SHOT_DIST</th> <th>PLAYER1_ID</th> <th>PLAYER1_NAME</th> <th>PLAYER1_TEAM_NICKNAME</th> <th>ASSIST_PLAYER_ID</th> <th>EVENTMSGTYPE</th> <th>EVENTMSGACTIONTYPE</th>\n",
       "        </tr>\n",
       "    </thead>\n",
       "    <tbody>\n",
       "        <tr>\n",
       "            <td>21500002</td> <td>474     </td> <td>6:32        </td> <td>6.53333</td> <td>4     </td> <td>Bulls    </td> <td>Cavaliers</td> <td>80        </td> <td>79        </td> <td>0            </td> <td>nan      </td> <td>nan      </td> <td>nan      </td> <td>2747      </td> <td>J.R. Smith      </td> <td>Cavaliers            </td> <td>nan             </td> <td>Personal Foul</td> <td>P.FOUL            </td>\n",
       "        </tr>\n",
       "    </tbody>\n",
       "        <tr>\n",
       "            <td>21500002</td> <td>476     </td> <td>6:20        </td> <td>6.33333</td> <td>4     </td> <td>Bulls    </td> <td>Cavaliers</td> <td>82        </td> <td>79        </td> <td>2            </td> <td>1        </td> <td>Shot     </td> <td>15       </td> <td>201565    </td> <td>Derrick Rose    </td> <td>Bulls                </td> <td>nan             </td> <td>Make         </td> <td>Pullup Jump Shot  </td>\n",
       "        </tr>\n",
       "    </tbody>\n",
       "        <tr>\n",
       "            <td>21500002</td> <td>479     </td> <td>6:01        </td> <td>6.01667</td> <td>4     </td> <td>Bulls    </td> <td>Cavaliers</td> <td>82        </td> <td>81        </td> <td>2            </td> <td>1        </td> <td>Dunk     </td> <td>nan      </td> <td>202684    </td> <td>Tristan Thompson</td> <td>Cavaliers            </td> <td>2590            </td> <td>Make         </td> <td>Dunk              </td>\n",
       "        </tr>\n",
       "    </tbody>\n",
       "        <tr>\n",
       "            <td>21500002</td> <td>480     </td> <td>5:50        </td> <td>5.83333</td> <td>4     </td> <td>Bulls    </td> <td>Cavaliers</td> <td>82        </td> <td>81        </td> <td>0            </td> <td>0        </td> <td>Layup    </td> <td>2        </td> <td>201565    </td> <td>Derrick Rose    </td> <td>Bulls                </td> <td>nan             </td> <td>Miss         </td> <td>Driving Layup     </td>\n",
       "        </tr>\n",
       "    </tbody>\n",
       "        <tr>\n",
       "            <td>21500002</td> <td>481     </td> <td>5:48        </td> <td>5.8    </td> <td>4     </td> <td>Bulls    </td> <td>Cavaliers</td> <td>82        </td> <td>81        </td> <td>0            </td> <td>nan      </td> <td>nan      </td> <td>nan      </td> <td>201567    </td> <td>Kevin Love      </td> <td>Cavaliers            </td> <td>nan             </td> <td>Rebound      </td> <td>Player            </td>\n",
       "        </tr>\n",
       "    </tbody>\n",
       "</table>\n",
       "<p>... (51532 rows omitted)</p>"
      ],
      "text/plain": [
       "<IPython.core.display.HTML object>"
      ]
     },
     "metadata": {},
     "output_type": "display_data"
    },
    {
     "name": "stdout",
     "output_type": "stream",
     "text": [
      "\n",
      "Row Ranges of Each Game in Close Games\n"
     ]
    },
    {
     "data": {
      "text/html": [
       "<table border=\"1\" class=\"dataframe\">\n",
       "    <thead>\n",
       "        <tr>\n",
       "            <th>HOME_TEAM</th> <th>AWAY_TEAM</th> <th>GAME NUMBER</th> <th>FIRST_INDEX</th> <th>LAST_INDEX</th>\n",
       "        </tr>\n",
       "    </thead>\n",
       "    <tbody>\n",
       "        <tr>\n",
       "            <td>Bulls    </td> <td>Cavaliers</td> <td>1          </td> <td>0          </td> <td>69        </td>\n",
       "        </tr>\n",
       "    </tbody>\n",
       "        <tr>\n",
       "            <td>Magic    </td> <td>Wizards  </td> <td>2          </td> <td>70         </td> <td>149       </td>\n",
       "        </tr>\n",
       "    </tbody>\n",
       "        <tr>\n",
       "            <td>Celtics  </td> <td>76ers    </td> <td>3          </td> <td>150        </td> <td>224       </td>\n",
       "        </tr>\n",
       "    </tbody>\n",
       "        <tr>\n",
       "            <td>Pistons  </td> <td>Jazz     </td> <td>4          </td> <td>225        </td> <td>301       </td>\n",
       "        </tr>\n",
       "    </tbody>\n",
       "        <tr>\n",
       "            <td>Pacers   </td> <td>Raptors  </td> <td>5          </td> <td>302        </td> <td>396       </td>\n",
       "        </tr>\n",
       "    </tbody>\n",
       "</table>\n",
       "<p>... (683 rows omitted)</p>"
      ],
      "text/plain": [
       "<IPython.core.display.HTML object>"
      ]
     },
     "metadata": {},
     "output_type": "display_data"
    },
    {
     "name": "stdout",
     "output_type": "stream",
     "text": [
      "\n",
      "All Players and their Relevant Stats\n"
     ]
    },
    {
     "data": {
      "text/html": [
       "<table border=\"1\" class=\"dataframe\">\n",
       "    <thead>\n",
       "        <tr>\n",
       "            <th>Player_ID</th> <th>Player</th> <th>First_Name</th> <th>Last_Name</th> <th>TS%</th> <th>EFG%</th> <th>PER</th> <th>3PAr</th> <th>G</th> <th>MP</th> <th>Pos</th>\n",
       "        </tr>\n",
       "    </thead>\n",
       "    <tbody>\n",
       "        <tr>\n",
       "            <td>201166   </td> <td>Aaron Brooks  </td> <td>Aaron     </td> <td>Brooks   </td> <td>0.49333 </td> <td>0.470588</td> <td>11.8</td> <td>0.394</td> <td>69  </td> <td>1108</td> <td>PG  </td>\n",
       "        </tr>\n",
       "    </tbody>\n",
       "        <tr>\n",
       "            <td>203932   </td> <td>Aaron Gordon  </td> <td>Aaron     </td> <td>Gordon   </td> <td>0.541176</td> <td>0.506757</td> <td>17  </td> <td>0.245</td> <td>78  </td> <td>1863</td> <td>PF  </td>\n",
       "        </tr>\n",
       "    </tbody>\n",
       "        <tr>\n",
       "            <td>1626151  </td> <td>Aaron Harrison</td> <td>Aaron     </td> <td>Harrison </td> <td>0.386598</td> <td>0.277778</td> <td>4.3 </td> <td>0.526</td> <td>21  </td> <td>93  </td> <td>SG  </td>\n",
       "        </tr>\n",
       "    </tbody>\n",
       "        <tr>\n",
       "            <td>203940   </td> <td>Adreian Payne </td> <td>Adreian   </td> <td>Payne    </td> <td>0.413907</td> <td>0.392857</td> <td>5.6 </td> <td>0.221</td> <td>52  </td> <td>486 </td> <td>PF  </td>\n",
       "        </tr>\n",
       "    </tbody>\n",
       "        <tr>\n",
       "            <td>201143   </td> <td>Al Horford    </td> <td>Al        </td> <td>Horford  </td> <td>0.562796</td> <td>0.550781</td> <td>19.4</td> <td>0.244</td> <td>82  </td> <td>2631</td> <td>C   </td>\n",
       "        </tr>\n",
       "    </tbody>\n",
       "</table>\n",
       "<p>... (497 rows omitted)</p>"
      ],
      "text/plain": [
       "<IPython.core.display.HTML object>"
      ]
     },
     "metadata": {},
     "output_type": "display_data"
    },
    {
     "name": "stdout",
     "output_type": "stream",
     "text": [
      "\n"
     ]
    },
    {
     "data": {
      "text/plain": [
       "{'3PAr': '3 Point Attempt Rate',\n",
       " 'EFG%': 'Effective Field Goal Percentage',\n",
       " 'G': 'Games',\n",
       " 'MP': 'Minutes Played',\n",
       " 'PER': 'ESPN PER Player Rating (A way to rank NBA players)',\n",
       " 'Pos': 'Position',\n",
       " 'TS%': 'True Shooting Percentage'}"
      ]
     },
     "execution_count": 42,
     "metadata": {},
     "output_type": "execute_result"
    }
   ],
   "source": [
    "print(\"All Games\")\n",
    "all_games = Table().read_table('all_games.csv', sep=',')\n",
    "all_games.show(5)\n",
    "print('')\n",
    "\n",
    "print('Close Games in 4th Quarter, 6 Mintues Left')\n",
    "close_games_under_six = Table().read_table('PbP_15_16_trimmed.csv', sep=',')\n",
    "close_games_under_six.show(5)\n",
    "print('')\n",
    "\n",
    "print('Row Ranges of Each Game in Close Games')\n",
    "game_ref = Table().read_table('gamereference.csv', sep=',')\n",
    "game_ref.show(5)\n",
    "print('')\n",
    "\n",
    "print('All Players and their Relevant Stats')\n",
    "player_ref = Table().read_table('player_ref.csv', sep=',')\n",
    "player_ref.show(5)\n",
    "print('')\n",
    "\n",
    "\n",
    "label_meaning = {}\n",
    "label_meaning['TS%'] = 'True Shooting Percentage'\n",
    "label_meaning['EFG%'] = 'Effective Field Goal Percentage'\n",
    "label_meaning['PER'] = 'ESPN PER Player Rating (A way to rank NBA players)'\n",
    "label_meaning['3PAr'] = '3 Point Attempt Rate'\n",
    "label_meaning['G'] = 'Games'\n",
    "label_meaning['MP'] = 'Minutes Played'\n",
    "label_meaning['Pos'] = 'Position'\n",
    "label_meaning"
   ]
  },
  {
   "cell_type": "markdown",
   "metadata": {},
   "source": [
    "# Analysis Begins Here"
   ]
  },
  {
   "cell_type": "code",
   "execution_count": 43,
   "metadata": {
    "collapsed": true
   },
   "outputs": [],
   "source": [
    "def shots_all_players(table):\n",
    "    #This function finds the number of shots that each player takes in time period\n",
    "    #(it doesn't distinguish the type of shot)\n",
    "    #it can be used for an entire game or for the last 6 minutes\n",
    "    shots = table.where('EVENTMSGTYPE', predicates.are.containing('M'))\n",
    "    players = shots.select('EVENTMSGTYPE', 'PLAYER1_NAME', 'PLAYER1_TEAM_NICKNAME', 'HOME_TEAM', 'AWAY_TEAM')\n",
    "    count = players.groups(['PLAYER1_NAME', \"PLAYER1_TEAM_NICKNAME\"])\n",
    "    return count\n",
    "\n",
    "def seperate_teams(table):\n",
    "    #This function creates two tables from the last_six_minutes_table for each team\n",
    "    return table.group(\"PLAYER1_TEAM_NICKNAME\").column(0)\n",
    "\n",
    "def max_shot_player_each_team_name(table):\n",
    "    #This takes in a table of one game (entire game or last 6 minutes)\n",
    "    #It returns the player who shoots the most for each team\n",
    "    team_names = seperate_teams(table)\n",
    "    player_team_one = table.where(\"PLAYER1_TEAM_NICKNAME\", team_names.item(0)).sort('count', descending=True).column('PLAYER1_NAME').item(0)\n",
    "    player_team_two = table.where(\"PLAYER1_TEAM_NICKNAME\", team_names.item(1)).sort('count', descending=True).column('PLAYER1_NAME').item(0)\n",
    "    return player_team_one, player_team_two\n",
    "\n",
    "def max_shots(table):\n",
    "    #This takes in a table of one game (entire game or last 6 minutes)\n",
    "    #It returns the player who shoots the most for each team\n",
    "    team_names = seperate_teams(table)\n",
    "    shots_player_one = table.where(\"PLAYER1_TEAM_NICKNAME\", team_names.item(0)).sort('count', descending=True).column('count').item(0)\n",
    "    shots_player_two = table.where(\"PLAYER1_TEAM_NICKNAME\", team_names.item(1)).sort('count', descending=True).column('count').item(0)\n",
    "    return shots_player_one, shots_player_two\n",
    "\n",
    "def total_shot_number(table):\n",
    "    #returns the number of shots for each team in the last 6 minutes\n",
    "    team_names = seperate_teams(table)\n",
    "    total_shots1 = sum(table.where(\"PLAYER1_TEAM_NICKNAME\", team_names.item(0)).column(\"count\"))\n",
    "    total_shots2 = sum(table.where(\"PLAYER1_TEAM_NICKNAME\", team_names.item(1)).column(\"count\"))\n",
    "    return (total_shots1, total_shots2)\n",
    "\n",
    "def average_player_each_team(table):\n",
    "    #returns the number of shots of the average player\n",
    "    team_names = seperate_teams(table)\n",
    "    average_shots1 = np.average(table.where(\"PLAYER1_TEAM_NICKNAME\", team_names.item(0)).column(\"count\"))\n",
    "    average_shots2 = np.average(table.where(\"PLAYER1_TEAM_NICKNAME\", team_names.item(1)).column(\"count\"))\n",
    "    return average_shots1, average_shots2\n",
    "\n",
    "\n"
   ]
  },
  {
   "cell_type": "code",
   "execution_count": 44,
   "metadata": {},
   "outputs": [
    {
     "data": {
      "text/plain": [
       "(28.733333333333334, 35.1875)"
      ]
     },
     "execution_count": 44,
     "metadata": {},
     "output_type": "execute_result"
    }
   ],
   "source": [
    "average_player_each_team(shots_all_players(close_games_under_six))"
   ]
  },
  {
   "cell_type": "code",
   "execution_count": 45,
   "metadata": {
    "collapsed": true,
    "scrolled": true
   },
   "outputs": [],
   "source": [
    "close_game_players = shots_all_players(close_games_under_six)"
   ]
  },
  {
   "cell_type": "code",
   "execution_count": 46,
   "metadata": {
    "collapsed": true
   },
   "outputs": [],
   "source": [
    "close_game_ids = close_games_under_six.group('GAME_ID').column(0)"
   ]
  },
  {
   "cell_type": "code",
   "execution_count": 47,
   "metadata": {},
   "outputs": [
    {
     "data": {
      "text/plain": [
       "689"
      ]
     },
     "execution_count": 47,
     "metadata": {},
     "output_type": "execute_result"
    }
   ],
   "source": [
    "len(close_game_ids)"
   ]
  },
  {
   "cell_type": "code",
   "execution_count": 48,
   "metadata": {
    "collapsed": true
   },
   "outputs": [],
   "source": [
    "def iterate_0():\n",
    "    player_names = make_array()\n",
    "    for i in close_game_ids:\n",
    "        game = close_games_under_six.where(\"GAME_ID\", i)\n",
    "        shots = shots_all_players(game)\n",
    "        max_players = max_shot_player_each_team_name(shots)\n",
    "        player_names = np.append(player_names, max_players)"
   ]
  },
  {
   "cell_type": "code",
   "execution_count": 49,
   "metadata": {
    "collapsed": true
   },
   "outputs": [],
   "source": [
    "def iterate_1():\n",
    "    stats = make_array()\n",
    "    for i in close_game_ids:\n",
    "        game = close_games_under_six.where(\"GAME_ID\", i)\n",
    "        shots = shots_all_players(game)\n",
    "        max_stat = max_shots(shots)\n",
    "        stats = np.append(stats, max_stat)"
   ]
  },
  {
   "cell_type": "code",
   "execution_count": 50,
   "metadata": {
    "collapsed": true
   },
   "outputs": [],
   "source": [
    "def iterate_2():\n",
    "    average= make_array()\n",
    "    for i in close_game_ids:\n",
    "        game = close_games_under_six.where(\"GAME_ID\", i)\n",
    "        shots = shots_all_players(game)\n",
    "        average_stat = average_player_each_team(shots)\n",
    "        average = np.append(average, average_stat)\n",
    "        print(average)"
   ]
  },
  {
   "cell_type": "code",
   "execution_count": 51,
   "metadata": {},
   "outputs": [
    {
     "ename": "SyntaxError",
     "evalue": "invalid syntax (<ipython-input-51-10fc833a1c75>, line 1)",
     "output_type": "error",
     "traceback": [
      "\u001b[0;36m  File \u001b[0;32m\"<ipython-input-51-10fc833a1c75>\"\u001b[0;36m, line \u001b[0;32m1\u001b[0m\n\u001b[0;31m    def create_table()\u001b[0m\n\u001b[0m                      ^\u001b[0m\n\u001b[0;31mSyntaxError\u001b[0m\u001b[0;31m:\u001b[0m invalid syntax\n"
     ]
    }
   ],
   "source": [
    "def create_table()\n",
    "    best_players= Table().with_columns(\"Game\", array, \"Player Name\", player_names, \"Number Shots\", stats, \"Average Shots\", average)\n",
    "    best_players.to_csv('max_shot_players.csv')\n",
    "    \n",
    "    "
   ]
  },
  {
   "cell_type": "code",
   "execution_count": null,
   "metadata": {
    "collapsed": true
   },
   "outputs": [],
   "source": [
    "best_players = Table().read_table('max_shot_players.csv')\n",
    "best_players"
   ]
  },
  {
   "cell_type": "code",
   "execution_count": null,
   "metadata": {
    "collapsed": true
   },
   "outputs": [],
   "source": [
    "array = make_array()\n",
    "k = 0\n",
    "for i in np.arange(best_players.num_rows):\n",
    "    if i % 2 == 0:\n",
    "        k += 1\n",
    "    array = np.append(array, k)\n",
    "\n",
    "print(array)"
   ]
  },
  {
   "cell_type": "code",
   "execution_count": null,
   "metadata": {
    "collapsed": true
   },
   "outputs": [],
   "source": [
    "table1 = player_ref.join('Player', close_game_players, \"PLAYER1_NAME\").select('Player', 'PER', 'TS%', 'EFG%', )"
   ]
  },
  {
   "cell_type": "code",
   "execution_count": null,
   "metadata": {
    "collapsed": true
   },
   "outputs": [],
   "source": [
    "table2= best_players.join('Player Name', table1, \"Player\")\n",
    "table2"
   ]
  },
  {
   "cell_type": "code",
   "execution_count": null,
   "metadata": {
    "collapsed": true
   },
   "outputs": [],
   "source": [
    "def players(game): \n",
    "    # returns a list of players IDs in the table   \n",
    "    players = make_array()\n",
    "    \n",
    "    for i in np.arange(game.num_rows):\n",
    "        player_id = game.row(i).item('PLAYER1_NAME')\n",
    "        if not player_id in players:\n",
    "            players = players.append(player_id, players)\n",
    "    \n",
    "    return players"
   ]
  },
  {
   "cell_type": "code",
   "execution_count": null,
   "metadata": {
    "collapsed": true
   },
   "outputs": [],
   "source": [
    "def find_best_player(players):\n",
    "    # returns the best player based on PER\n",
    "    ranking = Table()\n",
    "    pers = make_array()\n",
    "    for idee in players:\n",
    "        per = player_ref.where('Player', idee).item(6)\n",
    "        pers = pers.append(per, pers)\n",
    "    \n",
    "    ranking = ranking.with_column('IDs', players)\n",
    "    ranking = ranking.with_column('PER', pers)\n",
    "\n",
    "    ranking = ranking.sort('PER', True)\n",
    "\n",
    "    return ranking.column('IDs').item(0)"
   ]
  },
  {
   "cell_type": "code",
   "execution_count": null,
   "metadata": {
    "collapsed": true
   },
   "outputs": [],
   "source": [
    "def split_home(game):\n",
    "# This function is a helper takes a game and takes shots by home players only\n",
    "    home_team = game.column('HOME_TEAM').item(0)\n",
    "    home_table = game.where('PLAYER1_TEAM_NICKNAME', home_team)\n",
    "    return home_table\n",
    "\n",
    "def split_away(game):\n",
    "# This function is a helper takes a game and takes shots by home players only\n",
    "    away_team = game.column('AWAY_TEAM').item(0)\n",
    "    away_table = game.where('PLAYER1_TEAM_NICKNAME', away_team)\n",
    "    return away_table\n",
    "\n",
    "def players(game): \n",
    "    # returns a list of players IDs in the table   \n",
    "    players = make_array()\n",
    "    \n",
    "    for i in np.arange(game.num_rows):\n",
    "        player_id = game.row(i).item('PLAYER1_NAME')\n",
    "        if not player_id in players:\n",
    "            players = np.append(player_id, players)\n",
    "    \n",
    "    return players\n",
    "\n",
    "def find_best_player(players):\n",
    "    # returns the best player based on PER\n",
    "    ranking = Table(make_array('Player','Per'))\n",
    "    pers = make_array()\n",
    "    for idee in players:\n",
    "        try:\n",
    "            per = player_ref.where('Player', idee).column(6).item(0)\n",
    "            print(type(per))\n",
    "        except:\n",
    "            per = 0\n",
    "        ranking = ranking.with_row([idee, float(per)])\n",
    "        \n",
    "    \n",
    "    ranking = ranking.sort('Per', True).where(\"Per\", predicates.are.not_equal_to('OOPS'))\n",
    "    \n",
    "    print(ranking)\n",
    "    return ranking.column('Player').item(0)\n",
    "\n",
    "    \n",
    "\n",
    "def generate_best_players_list():\n",
    "    best_players = make_array()\n",
    "\n",
    "    for i in np.arange(game_ref.num_rows):\n",
    "        first = int(game_ref.row(i).item('FIRST_INDEX'))\n",
    "        last = int(game_ref.row(i).item('LAST_INDEX'))\n",
    "        game = close_games_under_six.take(np.arange(first, last + 1))\n",
    "\n",
    "        home = split_home(game)\n",
    "        away = split_away(game)\n",
    "\n",
    "        players_h = players(home)\n",
    "        players_a = players(away)\n",
    "\n",
    "        best_player_home = find_best_player(players_h)\n",
    "        best_player_away = find_best_player(players_a)\n",
    "\n",
    "        best_players = np.append(best_players, best_player_home)\n",
    "        best_players = np.append(best_players, best_player_away)\n",
    "\n",
    "    return best_players\n",
    "   "
   ]
  },
  {
   "cell_type": "code",
   "execution_count": null,
   "metadata": {
    "collapsed": true
   },
   "outputs": [],
   "source": [
    "def create_final_table():\n",
    "    y = y.with_column('Best_Player', best_players) \n",
    "    y.to_csv('best_players.csv')"
   ]
  },
  {
   "cell_type": "code",
   "execution_count": null,
   "metadata": {
    "collapsed": true
   },
   "outputs": [],
   "source": [
    "y = Table().read_table('best_players.csv')\n",
    "y"
   ]
  },
  {
   "cell_type": "code",
   "execution_count": null,
   "metadata": {
    "collapsed": true
   },
   "outputs": [],
   "source": [
    "best_name = y.where('Player Name', predicates.are.equal_to, 'Best_Player')\n",
    "best_name.num_rows/y.num_rows"
   ]
  },
  {
   "cell_type": "code",
   "execution_count": null,
   "metadata": {
    "collapsed": true
   },
   "outputs": [],
   "source": [
    "# Comparing the max shooter to the average shooter"
   ]
  },
  {
   "cell_type": "code",
   "execution_count": null,
   "metadata": {
    "collapsed": true
   },
   "outputs": [],
   "source": [
    "np.average((best_name.column('Number Shots'))-(best_name.column('Average Shots')))"
   ]
  },
  {
   "cell_type": "code",
   "execution_count": null,
   "metadata": {
    "collapsed": true
   },
   "outputs": [],
   "source": [
    "np.average((y.column('Number Shots'))-y.column('Average Shots'))"
   ]
  },
  {
   "cell_type": "code",
   "execution_count": null,
   "metadata": {
    "collapsed": true
   },
   "outputs": [],
   "source": [
    "# The number of shots when \"best player\" is \"max shooting player\"."
   ]
  },
  {
   "cell_type": "code",
   "execution_count": null,
   "metadata": {
    "collapsed": true
   },
   "outputs": [],
   "source": [
    "np.average(best_name.column('Number Shots'))"
   ]
  },
  {
   "cell_type": "code",
   "execution_count": null,
   "metadata": {
    "collapsed": true
   },
   "outputs": [],
   "source": [
    "np.average(y.column('Number Shots'))"
   ]
  },
  {
   "cell_type": "markdown",
   "metadata": {
    "collapsed": true
   },
   "source": [
    "# QUESTION 2"
   ]
  },
  {
   "cell_type": "code",
   "execution_count": 56,
   "metadata": {
    "collapsed": true
   },
   "outputs": [],
   "source": [
    "def shot_type(table):\n",
    "    ## takes in a table and returns counts of how many shots were assisted/not assisted\n",
    "    \n",
    "    table = table.where('SHOT_MADE', 1)\n",
    "    table = table.with_column('ASSIST_PLAYER_ID', table.apply(lambda x: str(x), 'ASSIST_PLAYER_ID'))\n",
    "\n",
    "    # Create Assist Table\n",
    "    a = table.where('ASSIST_PLAYER_ID', predicates.are.not_equal_to('nan'))\n",
    "    a_count = a.num_rows\n",
    "\n",
    "    # Create Unassisted Table\n",
    "    ua = table.where('ASSIST_PLAYER_ID', predicates.are.equal_to('nan'))\n",
    "    ua_count = ua.num_rows\n",
    "    \n",
    "    return [a_count, ua_count]\n",
    "\n",
    "def prort(a, ua):\n",
    "    try:\n",
    "        p = ua /(a + ua)\n",
    "    except ZeroDivisionError:\n",
    "        p = 0 \n",
    "    return p\n",
    "\n",
    "def distance(p1, p2):\n",
    "    return abs(p1 - p2)\n",
    "\n",
    "def game_by_game(games, game_indicies):\n",
    "    #takes in the games table and the game indicies table, isolates all games 1 by 1, \n",
    "    #and calcs the test statistic.\n",
    "    shots = make_array()\n",
    "    for i in np.arange(game_indicies.num_rows):\n",
    "        rowi = game_indicies.row(i)\n",
    "        i1 = int(rowi.item(3))\n",
    "        i2 = int(rowi.item(4))\n",
    "        gamei = games.take(np.arange(i1, i2))\n",
    "        a_and_u = shot_type(gamei)\n",
    "        a = a_and_u[0]\n",
    "        au = a_and_u[1]\n",
    "        p = prort(a, au)\n",
    "        shots = np.append(p[1], shots)\n",
    "    return shots\n",
    "                      "
   ]
  },
  {
   "cell_type": "code",
   "execution_count": null,
   "metadata": {
    "collapsed": true
   },
   "outputs": [],
   "source": [
    "# shot_type(close_games_under_six)\n",
    "# x = game_by_game(close_games_under_six, game_ref)\n",
    "# # FIX THIS\n",
    "# y = game_by_game(all_games, game_ref)\n",
    "# t = Table().with_columns('Close Games', x, 'All Games', y)\n",
    "# t.hist()"
   ]
  },
  {
   "cell_type": "code",
   "execution_count": 57,
   "metadata": {},
   "outputs": [
    {
     "name": "stdout",
     "output_type": "stream",
     "text": [
      "8:10\n"
     ]
    }
   ],
   "source": [
    "#Helper...\n",
    "def test(floatz1):\n",
    "    x = str(floatz1)\n",
    "    y = x.split('.')\n",
    "    if(y[1] == '0'):\n",
    "        time = str(floatz1).replace('.', ':') + '0'\n",
    "    else:\n",
    "        time = str(floatz1).replace('.', ':')\n",
    "    return time\n",
    "\n",
    "\n",
    "#Helper...\n",
    "def six_minute_period(timestamp):\n",
    "    floatz = float(timestamp.replace(':', '.'))\n",
    "    if floatz > 6:\n",
    "        endpoint1 = \"{0:.2f}\".format(floatz - 6) \n",
    "    else:\n",
    "        endpoint1 = \"{0:.2f}\".format(floatz + 6) \n",
    "    return test(endpoint1)\n",
    "\n",
    "\n",
    "#Helper...\n",
    "def out_back_steakhouse_minus(timestamp):\n",
    "    split = timestamp.split(':')\n",
    "    if split[1] == '00':\n",
    "        part_minus = str(int(split[0]) - 1) + ':' + '59'\n",
    "    else:\n",
    "        if int(split[1]) < 11:\n",
    "            part_minus = split[0] + ':' + '0' + str(int(split[1]) - 1) \n",
    "        else:\n",
    "            part_minus = split[0] + ':' + str(int(split[1]) - 1)    \n",
    "    return part_minus\n",
    "\n",
    "#Helper...\n",
    "def out_back_steakhouse_plus(timestamp):\n",
    "    split = timestamp.split(':')\n",
    "    if split[1] == '59':\n",
    "        part_plus = str(int(split[0]) + 1) + ':' + '00'\n",
    "    elif split[1] == '00':\n",
    "        part_plus = split[0] + ':' + '01'\n",
    "    else:\n",
    "        if int(split[1]) < 9:\n",
    "            part_plus = split[0] + ':' + '0' + str(int(split[1]) + 1) \n",
    "        else:\n",
    "            part_plus = split[0] + ':' + str(int(split[1]) + 1) \n",
    "    return part_plus\n",
    "\n",
    "#Helper...\n",
    "def check_validity(time):\n",
    "    if float(time.replace(':', '.')) < 0:\n",
    "        return False\n",
    "    if float(time.replace(':', '.')) > 12:\n",
    "        return False\n",
    "    return True\n",
    "\n",
    "#Helper...\n",
    "def find_valid_row_more(time, dist, table):\n",
    "    if not check_validity(time):\n",
    "        return null\n",
    "    print(time)\n",
    "    if table.where('PCTIMESTRING', time).num_rows > 0:\n",
    "        return [time, dist]\n",
    "    return find_valid_row_more(out_back_steakhouse_plus(time), dist + 1, table)\n",
    "        \n",
    "#Helper...\n",
    "def find_valid_row_less(time, dist, table):\n",
    "    if not check_validity(time):\n",
    "        return null\n",
    "    if table.where('PCTIMESTRING', time).num_rows > 0:\n",
    "        return [time, dist]\n",
    "    return find_valid_row_less(out_back_steakhouse_minus(time), dist + 1, table)\n",
    "    \n",
    "        \n",
    "#YES FINALLY WHAT I WANTED LMAO\n",
    "def find_closest_endpoint(table, timestamp):\n",
    "    endpoint = six_minute_period(timestamp)\n",
    "    less = find_valid_row_less(endpoint, 0, table)\n",
    "    more = find_valid_row_more(endpoint, 0, table)\n",
    "    if (less[1] < more[1]):\n",
    "        return less[0]\n",
    "    return more[0]\n",
    "        \n",
    "print(out_back_steakhouse_plus('8:09'))"
   ]
  },
  {
   "cell_type": "code",
   "execution_count": 58,
   "metadata": {
    "collapsed": true,
    "scrolled": true
   },
   "outputs": [],
   "source": [
    "def calc_test_statistic(table):\n",
    "    a_and_u = shot_type(table)\n",
    "    a = a_and_u[0]\n",
    "    au = a_and_u[1]\n",
    "    p = prort(a, au)\n",
    "    return p\n",
    "\n",
    "def get_six_minute_interval(anyz, last_six, gr_all, gr_last):\n",
    "    \n",
    "    # get a random game from all games.\n",
    "    rowi = random.randint(0, gr_all.num_rows - 1)\n",
    "    rand_game_id = gr_all.row(rowi).item('GAME_ID')\n",
    "    game = anyz.where('GAME_ID', rand_game_id)\n",
    "\n",
    "    # get a randoom quarter from that game\n",
    "    quarter = random.randint(1, 4)\n",
    "    game = game.where('PERIOD', quarter)\n",
    "\n",
    "    # Get a random start timestamp\n",
    "    row_game = game.row(random.randint(0, game.num_rows - 1))\n",
    "    row_number_start = row_game.item(game.num_columns - 1)\n",
    "    time_start = row_game.item('PCTIMESTRING')\n",
    "\n",
    "    # find the 6 minute endpoint timestamp.\n",
    "    time_endpoint = find_closest_endpoint(game, time_start)\n",
    "\n",
    "    # take just that (approx) 6 minute interval of the table\n",
    "    row_number_end = game.where('PCTIMESTRING', time_endpoint).row(0).item(anyz.num_columns - 1)\n",
    "    if row_number_end > row_number_start:\n",
    "        six_min_slice = anyz.take(np.arange(row_number_start, row_number_end + 1))\n",
    "    else:\n",
    "        six_min_slice = anyz.take(np.arange(row_number_end, row_number_start + 1))\n",
    "\n",
    "    return six_min_slice\n",
    "\n",
    "def calculate(anyz, last_six, gr_all, gr_last):\n",
    "    \n",
    "    anyone = make_array()\n",
    "    lastones = make_array()\n",
    "    \n",
    "    for i in np.arange(gr_last.num_rows):\n",
    "        print('Iteration Count is: ' + str(i))\n",
    "        \n",
    "        six_minutes = get_six_minute_interval(anyz, last_six, gr_all, gr_last)\n",
    "        \n",
    "        # calculate the test statistic\n",
    "        kappa = calc_test_statistic(six_minutes)\n",
    "        \n",
    "        # append test statistic to array\n",
    "        print('Test statistic ANY 6 is: ' + str(kappa))\n",
    "        anyone = np.append(kappa, anyone)\n",
    "\n",
    "        # get a random 6 minute period from all close games.\n",
    "        row1 = random.randint(0, gr_last.num_rows - 1)\n",
    "        first1 = int(gr_last.row(row1).item('FIRST_INDEX'))\n",
    "        last1 = int(gr_last.row(row1).item('LAST_INDEX'))\n",
    "        game1 = last_six.take(np.arange(first1, last1 + 1))\n",
    "        \n",
    "        # calcualte the test statistic \n",
    "        last = calc_test_statistic(game1)\n",
    "        print('Test statistic LAST 6 is : ' + str(last))\n",
    "        lastones = np.append(last, lastones)\n",
    "        \n",
    "        print('')\n",
    "        print('NEW ITERATION')\n",
    "        print('')\n",
    "            \n",
    "    both = Table().with_columns('Last 6', lastones, 'Any 6', anyone)\n",
    "    return both\n"
   ]
  },
  {
   "cell_type": "code",
   "execution_count": 59,
   "metadata": {
    "collapsed": true,
    "scrolled": true
   },
   "outputs": [],
   "source": [
    "def create_table_a_or_ua():\n",
    "    table_x_1 = calculate(all_games, close_games_under_six, all_games.group('GAME_ID'), game_ref)\n",
    "    table_x_1.to_csv('question_2_1.csv')"
   ]
  },
  {
   "cell_type": "code",
   "execution_count": 61,
   "metadata": {},
   "outputs": [
    {
     "data": {
      "text/html": [
       "<table border=\"1\" class=\"dataframe\">\n",
       "    <thead>\n",
       "        <tr>\n",
       "            <th>Last 6</th> <th>Any 6</th>\n",
       "        </tr>\n",
       "    </thead>\n",
       "    <tbody>\n",
       "        <tr>\n",
       "            <td>0.454545</td> <td>0.375   </td>\n",
       "        </tr>\n",
       "    </tbody>\n",
       "        <tr>\n",
       "            <td>0.5     </td> <td>0.454545</td>\n",
       "        </tr>\n",
       "    </tbody>\n",
       "        <tr>\n",
       "            <td>1       </td> <td>0.3     </td>\n",
       "        </tr>\n",
       "    </tbody>\n",
       "        <tr>\n",
       "            <td>0.2     </td> <td>0.5     </td>\n",
       "        </tr>\n",
       "    </tbody>\n",
       "        <tr>\n",
       "            <td>0.666667</td> <td>0.25    </td>\n",
       "        </tr>\n",
       "    </tbody>\n",
       "        <tr>\n",
       "            <td>0.5     </td> <td>0.363636</td>\n",
       "        </tr>\n",
       "    </tbody>\n",
       "        <tr>\n",
       "            <td>0.416667</td> <td>0.555556</td>\n",
       "        </tr>\n",
       "    </tbody>\n",
       "        <tr>\n",
       "            <td>0.461538</td> <td>0.214286</td>\n",
       "        </tr>\n",
       "    </tbody>\n",
       "        <tr>\n",
       "            <td>0.272727</td> <td>0.272727</td>\n",
       "        </tr>\n",
       "    </tbody>\n",
       "        <tr>\n",
       "            <td>0.375   </td> <td>0.636364</td>\n",
       "        </tr>\n",
       "    </tbody>\n",
       "</table>\n",
       "<p>... (678 rows omitted)</p>"
      ],
      "text/plain": [
       "Last 6   | Any 6\n",
       "0.454545 | 0.375\n",
       "0.5      | 0.454545\n",
       "1        | 0.3\n",
       "0.2      | 0.5\n",
       "0.666667 | 0.25\n",
       "0.5      | 0.363636\n",
       "0.416667 | 0.555556\n",
       "0.461538 | 0.214286\n",
       "0.272727 | 0.272727\n",
       "0.375    | 0.636364\n",
       "... (678 rows omitted)"
      ]
     },
     "execution_count": 61,
     "metadata": {},
     "output_type": "execute_result"
    }
   ],
   "source": [
    "table_x_1 = Table().read_table('question_2_1.csv')\n",
    "table_x_1"
   ]
  },
  {
   "cell_type": "code",
   "execution_count": 62,
   "metadata": {},
   "outputs": [
    {
     "name": "stdout",
     "output_type": "stream",
     "text": [
      "Average of Last 6: 0.4729005670951635\n",
      "Median of Last 6: 0.4615384615384616\n",
      "STD of Last 6: 0.18135903801761316\n",
      " \n",
      " \n",
      " \n",
      "Average of Any 6: 0.412581659130693\n",
      "Median of Any 6: 0.4\n",
      "STD of Any 6: 0.16459841022435334\n"
     ]
    },
    {
     "data": {
      "image/png": "[encoded data removed]",
      "text/plain": [
       "<matplotlib.figure.Figure at 0x1a1fc667f0>"
      ]
     },
     "metadata": {},
     "output_type": "display_data"
    }
   ],
   "source": [
    "table_x_1.hist()\n",
    "last_6 = table_x_1.column('Last 6')\n",
    "any_6 = table_x_1.column('Any 6')\n",
    "\n",
    "print('Average of Last 6: ' + str(np.mean(last_6)))\n",
    "print('Median of Last 6: ' + str(np.median(last_6)))\n",
    "print('STD of Last 6: ' + str(np.std(last_6)))\n",
    "\n",
    "print(' ')\n",
    "print(' ')\n",
    "print(' ')\n",
    "\n",
    "print('Average of Any 6: ' + str(np.mean(any_6)))\n",
    "print('Median of Any 6: ' + str(np.median(any_6)))\n",
    "print('STD of Any 6: ' + str(np.std(any_6)))\n",
    "\n"
   ]
  },
  {
   "cell_type": "markdown",
   "metadata": {},
   "source": [
    "# QUESTION 2 PART 2"
   ]
  },
  {
   "cell_type": "markdown",
   "metadata": {},
   "source": [
    "## Goal: Figure out if more unassited or assited shots are taken in last 6 on a team by team basis"
   ]
  },
  {
   "cell_type": "code",
   "execution_count": 66,
   "metadata": {},
   "outputs": [
    {
     "name": "stderr",
     "output_type": "stream",
     "text": [
      "/Users/alexalmond/anaconda3/lib/python3.6/site-packages/numpy/core/fromnumeric.py:2957: RuntimeWarning: Mean of empty slice.\n",
      "  out=out, **kwargs)\n",
      "/Users/alexalmond/anaconda3/lib/python3.6/site-packages/numpy/core/_methods.py:80: RuntimeWarning: invalid value encountered in double_scalars\n",
      "  ret = ret.dtype.type(ret / rcount)\n"
     ]
    },
    {
     "data": {
      "image/png": "[encoded data removed]",
      "text/plain": [
       "<matplotlib.figure.Figure at 0x1a1fc6ccc0>"
      ]
     },
     "metadata": {},
     "output_type": "display_data"
    }
   ],
   "source": [
    "def split_away(game):\n",
    "# This function is a helper takes a game and takes shots by home players only\n",
    "    away_team = away.column('AWAY_TEAM').item(0)\n",
    "    away_table = game.where('PLAYER1_TEAM_NICKNAME', away_team)\n",
    "    return [away_table, away_team]\n",
    "\n",
    "def split_home(game):\n",
    "# This function is a helper takes a game and takes shots by away players only\n",
    "    home_team = game.column('HOME_TEAM').item(0)\n",
    "    home_table = game.where('PLAYER1_TEAM_NICKNAME', home_team)\n",
    "    return [home_table, home_team]\n",
    "\n",
    "\n",
    "def team_bins(last1, last_ref):\n",
    "    \n",
    "\n",
    "\n",
    "    teams = {'Hawks': [], 'Celtics': [], 'Nets': [], 'Hornets': [], 'Bulls': [], 'Cavaliers': [], 'Mavericks': [], 'Nuggets': [], 'Pistons': [], 'Warriors': [], 'Rockets': [],\n",
    "        'Pacers': [], 'Clippers': [], 'Lakers': [], 'Grizzlies': [], 'Heat': [], 'Bucks': [], 'Timberwolves': [], 'Pelicans': [], 'Knicks': [], 'Thunder': [], 'Magic': [], '76ers': [], 'Suns': [], \n",
    "        'Kings': [], 'Spurs': [], 'Raptors': [], 'Jazz': [], 'Trail Blazers': []}\n",
    "\n",
    "    for i in np.arange(last_ref.num_rows):\n",
    "        \n",
    "        first = int(last_ref.row(i).item('FIRST_INDEX'))\n",
    "        last = int(last_ref.row(i).item('LAST_INDEX'))\n",
    "        game = last1.take(np.arange(first, last + 1))\n",
    "\n",
    "        # split\n",
    "        sh = split_home(game)\n",
    "        sa = split_away(game)\n",
    "\n",
    "        # name of home team/away team\n",
    "        home_team = sh[1]\n",
    "        away_team = sa[1]\n",
    "\n",
    "        # home team/away team table\n",
    "        home_game = sh[0]\n",
    "        away_game = sa[0]\n",
    "\n",
    "        # calc test statistic\n",
    "        home_stat = calc_test_statistic(home_game)\n",
    "        away_stat = calc_test_statistic(away_game)\n",
    "\n",
    "        # add to table\n",
    "        teams[home_team] = teams[home_team] + [home_stat]\n",
    "        teams[away_team] = teams[away_team] + [away_stat]\n",
    "\n",
    "    return teams\n",
    "        \n",
    "\n",
    "# For testing the team_bins\n",
    "def test_team_bins(team_table):\n",
    "    assert team_table.num_columns == 30, 'Team number ' + str(team_table.num_columns) + ' should be 30'\n",
    "    assert team_table.num_rows == 82, 'Games number ' + str(team_table.num_columns) + ' should be 82'\n",
    "    for c in np.arange(0, 30):\n",
    "        for r in np.arange(0, 82):\n",
    "            assert team_table.column(c).item(r) <= 1 and team_table.column(c).item(r) >= 0, 'column ' + srt(c) + 'row ' + srt(r) + ' proportion is invalid'\n",
    "    print('Table passed!')\n",
    "    return null\n",
    "\n",
    "done = team_bins(close_games_under_six, game_ref)\n",
    "done\n",
    "\n",
    "\n",
    "\n",
    "done1 = {'Hawks': [], 'Celtics': [], 'Nets': [], 'Hornets': [], 'Bulls': [], 'Cavaliers': [], 'Mavericks': [], 'Nuggets': [], 'Pistons': [], 'Warriors': [], 'Rockets': [],\n",
    "        'Pacers': [], 'Clippers': [], 'Lakers': [], 'Grizzlies': [], 'Heat': [], 'Bucks': [], 'Timberwolves': [], 'Pelicans': [], 'Knicks': [], 'Thunder': [], 'Magic': [], '76ers': [], 'Suns': [], \n",
    "        'Kings': [], 'Spurs': [], 'Raptors': [], 'Jazz': [], 'Trail Blazers': []}\n",
    "\n",
    "\n",
    "for key in done:\n",
    "    done1[key] = [Table(make_array(key)).with_column(key, done[key])] + [np.mean(done[key])]\n",
    "    \n",
    "averages = Table(make_array('Team', 'Average'))\n",
    "for key in done1:\n",
    "    averages = averages.with_row([key, done1[key][1]])\n",
    "    \n",
    "averages = averages.with_column('Assisted Average', 1 - averages.column('Average'))\n",
    "    \n",
    "averages.sort('Average').barh('Team')\n",
    "\n"
   ]
  },
  {
   "cell_type": "code",
   "execution_count": 69,
   "metadata": {
    "collapsed": true
   },
   "outputs": [],
   "source": [
    "def generate_team_histogram(team_name):\n",
    "    done1[team_name][0].hist(bins=np.arange(0, 1, 0.1))"
   ]
  },
  {
   "cell_type": "code",
   "execution_count": 70,
   "metadata": {},
   "outputs": [
    {
     "data": {
      "image/png": "[encoded data removed]",
      "text/plain": [
       "<matplotlib.figure.Figure at 0x1a1fcfef60>"
      ]
     },
     "metadata": {},
     "output_type": "display_data"
    },
    {
     "data": {
      "image/png": "[encoded data removed]",
      "text/plain": [
       "<matplotlib.figure.Figure at 0x10d980da0>"
      ]
     },
     "metadata": {},
     "output_type": "display_data"
    },
    {
     "data": {
      "image/png": "[encoded data removed]",
      "text/plain": [
       "<matplotlib.figure.Figure at 0x113b7a550>"
      ]
     },
     "metadata": {},
     "output_type": "display_data"
    }
   ],
   "source": [
    "generate_team_histogram('Warriors')\n",
    "generate_team_histogram('Lakers')\n",
    "generate_team_histogram('Celtics')"
   ]
  },
  {
   "cell_type": "markdown",
   "metadata": {},
   "source": [
    "# QUESTION 3"
   ]
  },
  {
   "cell_type": "code",
   "execution_count": 60,
   "metadata": {
    "collapsed": true
   },
   "outputs": [],
   "source": [
    "def best_player_last_six(allz, last, last_ref, all_ref):\n",
    "    # This function takes in the last_six table, \n",
    "        # for each game in last:\n",
    "            # calls split_game_teams\n",
    "            # determines the best player for each table returned by split_game_teams\n",
    "            # for each table returned:\n",
    "                # calculates (u/(u+a)) just for best player only in the last 6 minutes.\n",
    "                # calculates (u/(u+a)) for all other players only in the last 6 minutes.\n",
    "                # calculates (u/(u+a)) for all players in the last 6 minutes.\n",
    "                # calculates (u/(u+a)) for all other players in the entire game.\n",
    "                # calculates (u/(u+a)) for all players in the entire game.\n",
    "    # returns a table with 30 columns\n",
    "        # column 1: Game Number\n",
    "        # column 2: Team Name\n",
    "        # column 3: Best Player\n",
    "        # column 4: (u/(u+a)) just for best player only in the last 6 minutes.\n",
    "        # column 5: (u/(u+a)) for all other players only in the last 6 minutes.\n",
    "        # column 6: (u/(u+a)) for all players in the last 6 minutes.\n",
    "        # column 7: (u/(u+a)) for all other players in the entire game.\n",
    "        # column 8: (u/(u+a)) for all players in the entire game.\n",
    "    return null\n",
    "\n",
    "\n",
    "def test_best_player_last_six(best_games):\n",
    "    #tests the best_player_function\n",
    "    assert best_games.num_columns == 8, 'Column number ' + str(best_games.num_columns) + ' should be ' + str(8)\n",
    "    assert best_games.num_rows == game_ref.num_rows * 2, 'Row number ' + str(best_games) + ' should be ' + str(game_ref.num_rows * 2)\n",
    "\n",
    "\n",
    "            \n",
    "\n"
   ]
  },
  {
   "cell_type": "code",
   "execution_count": null,
   "metadata": {
    "collapsed": true
   },
   "outputs": [],
   "source": []
  }
 ],
 "metadata": {
  "kernelspec": {
   "display_name": "Python 3",
   "language": "python",
   "name": "python3"
  },
  "language_info": {
   "codemirror_mode": {
    "name": "ipython",
    "version": 3
   },
   "file_extension": ".py",
   "mimetype": "text/x-python",
   "name": "python",
   "nbconvert_exporter": "python",
   "pygments_lexer": "ipython3",
   "version": "3.6.3"
  }
 },
 "nbformat": 4,
 "nbformat_minor": 2
}
